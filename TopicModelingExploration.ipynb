{
 "cells": [
  {
   "cell_type": "code",
   "execution_count": 3,
   "metadata": {
    "collapsed": true,
    "jupyter": {
     "outputs_hidden": true
    }
   },
   "outputs": [
    {
     "name": "stdout",
     "output_type": "stream",
     "text": [
      "Requirement already satisfied: absl-py==1.0.0 in c:\\users\\kenda\\appdata\\local\\continuum\\anaconda3\\lib\\site-packages (from -r requirements.txt (line 1)) (1.0.0)\n",
      "Requirement already satisfied: alabaster==0.7.12 in c:\\users\\kenda\\appdata\\local\\continuum\\anaconda3\\lib\\site-packages (from -r requirements.txt (line 2)) (0.7.12)\n",
      "Requirement already satisfied: altair==4.1.0 in c:\\users\\kenda\\appdata\\local\\continuum\\anaconda3\\lib\\site-packages (from -r requirements.txt (line 3)) (4.1.0)\n",
      "Requirement already satisfied: anaconda-client==1.7.2 in c:\\users\\kenda\\appdata\\local\\continuum\\anaconda3\\lib\\site-packages (from -r requirements.txt (line 4)) (1.7.2)\n",
      "Requirement already satisfied: anaconda-navigator==2.0.4 in c:\\users\\kenda\\appdata\\local\\continuum\\anaconda3\\lib\\site-packages (from -r requirements.txt (line 5)) (2.0.4)\n",
      "Requirement already satisfied: anaconda-project==0.8.3 in c:\\users\\kenda\\appdata\\local\\continuum\\anaconda3\\lib\\site-packages (from -r requirements.txt (line 6)) (0.8.3)\n",
      "Requirement already satisfied: asn1crypto==0.24.0 in c:\\users\\kenda\\appdata\\local\\continuum\\anaconda3\\lib\\site-packages (from -r requirements.txt (line 7)) (0.24.0)\n",
      "Requirement already satisfied: astroid==2.2.5 in c:\\users\\kenda\\appdata\\local\\continuum\\anaconda3\\lib\\site-packages (from -r requirements.txt (line 8)) (2.2.5)\n",
      "Requirement already satisfied: astropy==3.2.1 in c:\\users\\kenda\\appdata\\local\\continuum\\anaconda3\\lib\\site-packages (from -r requirements.txt (line 9)) (3.2.1)\n",
      "Requirement already satisfied: astunparse==1.6.3 in c:\\users\\kenda\\appdata\\local\\continuum\\anaconda3\\lib\\site-packages (from -r requirements.txt (line 10)) (1.6.3)\n",
      "Requirement already satisfied: atomicwrites==1.3.0 in c:\\users\\kenda\\appdata\\local\\continuum\\anaconda3\\lib\\site-packages (from -r requirements.txt (line 11)) (1.3.0)\n",
      "Requirement already satisfied: attrs==19.1.0 in c:\\users\\kenda\\appdata\\local\\continuum\\anaconda3\\lib\\site-packages (from -r requirements.txt (line 12)) (19.1.0)\n",
      "Requirement already satisfied: autopep8==1.5.7 in c:\\users\\kenda\\appdata\\local\\continuum\\anaconda3\\lib\\site-packages (from -r requirements.txt (line 13)) (1.5.7)\n",
      "Requirement already satisfied: Babel==2.7.0 in c:\\users\\kenda\\appdata\\local\\continuum\\anaconda3\\lib\\site-packages (from -r requirements.txt (line 14)) (2.7.0)\n",
      "Requirement already satisfied: backcall==0.1.0 in c:\\users\\kenda\\appdata\\local\\continuum\\anaconda3\\lib\\site-packages (from -r requirements.txt (line 15)) (0.1.0)\n",
      "Requirement already satisfied: backports.functools-lru-cache==1.6.4 in c:\\users\\kenda\\appdata\\local\\continuum\\anaconda3\\lib\\site-packages (from -r requirements.txt (line 16)) (1.6.4)\n",
      "Requirement already satisfied: backports.os==0.1.1 in c:\\users\\kenda\\appdata\\local\\continuum\\anaconda3\\lib\\site-packages (from -r requirements.txt (line 17)) (0.1.1)\n",
      "Requirement already satisfied: backports.shutil-get-terminal-size==1.0.0 in c:\\users\\kenda\\appdata\\local\\continuum\\anaconda3\\lib\\site-packages (from -r requirements.txt (line 18)) (1.0.0)\n",
      "Requirement already satisfied: backports.tempfile==1.0 in c:\\users\\kenda\\appdata\\local\\continuum\\anaconda3\\lib\\site-packages (from -r requirements.txt (line 19)) (1.0)\n",
      "Requirement already satisfied: backports.weakref==1.0.post1 in c:\\users\\kenda\\appdata\\local\\continuum\\anaconda3\\lib\\site-packages (from -r requirements.txt (line 20)) (1.0.post1)\n",
      "Requirement already satisfied: beautifulsoup4==4.9.3 in c:\\users\\kenda\\appdata\\local\\continuum\\anaconda3\\lib\\site-packages (from -r requirements.txt (line 21)) (4.9.3)\n",
      "Requirement already satisfied: bitarray==0.9.3 in c:\\users\\kenda\\appdata\\local\\continuum\\anaconda3\\lib\\site-packages (from -r requirements.txt (line 22)) (0.9.3)\n",
      "Requirement already satisfied: bkcharts==0.2 in c:\\users\\kenda\\appdata\\local\\continuum\\anaconda3\\lib\\site-packages (from -r requirements.txt (line 23)) (0.2)\n",
      "Requirement already satisfied: bleach==3.1.0 in c:\\users\\kenda\\appdata\\local\\continuum\\anaconda3\\lib\\site-packages (from -r requirements.txt (line 24)) (3.1.0)\n",
      "Requirement already satisfied: blis==0.7.5 in c:\\users\\kenda\\appdata\\local\\continuum\\anaconda3\\lib\\site-packages (from -r requirements.txt (line 25)) (0.7.5)\n",
      "Requirement already satisfied: bokeh==1.2.0 in c:\\users\\kenda\\appdata\\local\\continuum\\anaconda3\\lib\\site-packages (from -r requirements.txt (line 26)) (1.2.0)\n",
      "Requirement already satisfied: boto==2.49.0 in c:\\users\\kenda\\appdata\\local\\continuum\\anaconda3\\lib\\site-packages (from -r requirements.txt (line 27)) (2.49.0)\n",
      "Requirement already satisfied: Bottleneck==1.2.1 in c:\\users\\kenda\\appdata\\local\\continuum\\anaconda3\\lib\\site-packages (from -r requirements.txt (line 28)) (1.2.1)\n",
      "Requirement already satisfied: branca==0.4.2 in c:\\users\\kenda\\appdata\\local\\continuum\\anaconda3\\lib\\site-packages (from -r requirements.txt (line 29)) (0.4.2)\n",
      "Requirement already satisfied: bs4==0.0.1 in c:\\users\\kenda\\appdata\\local\\continuum\\anaconda3\\lib\\site-packages (from -r requirements.txt (line 30)) (0.0.1)\n",
      "Requirement already satisfied: cachetools==4.2.2 in c:\\users\\kenda\\appdata\\local\\continuum\\anaconda3\\lib\\site-packages (from -r requirements.txt (line 31)) (4.2.2)\n",
      "Requirement already satisfied: catalogue==2.0.6 in c:\\users\\kenda\\appdata\\local\\continuum\\anaconda3\\lib\\site-packages (from -r requirements.txt (line 32)) (2.0.6)\n",
      "Requirement already satisfied: certifi==2019.6.16 in c:\\users\\kenda\\appdata\\local\\continuum\\anaconda3\\lib\\site-packages (from -r requirements.txt (line 33)) (2019.6.16)\n",
      "Requirement already satisfied: cffi==1.12.3 in c:\\users\\kenda\\appdata\\local\\continuum\\anaconda3\\lib\\site-packages (from -r requirements.txt (line 34)) (1.12.3)\n",
      "Requirement already satisfied: chardet==3.0.4 in c:\\users\\kenda\\appdata\\local\\continuum\\anaconda3\\lib\\site-packages (from -r requirements.txt (line 35)) (3.0.4)\n",
      "Requirement already satisfied: click==8.0.3 in c:\\users\\kenda\\appdata\\local\\continuum\\anaconda3\\lib\\site-packages (from -r requirements.txt (line 36)) (8.0.3)\n",
      "Requirement already satisfied: click-plugins==1.1.1 in c:\\users\\kenda\\appdata\\local\\continuum\\anaconda3\\lib\\site-packages (from -r requirements.txt (line 37)) (1.1.1)\n",
      "Requirement already satisfied: cligj==0.7.2 in c:\\users\\kenda\\appdata\\local\\continuum\\anaconda3\\lib\\site-packages (from -r requirements.txt (line 38)) (0.7.2)\n",
      "Requirement already satisfied: cloudpickle==1.2.1 in c:\\users\\kenda\\appdata\\local\\continuum\\anaconda3\\lib\\site-packages (from -r requirements.txt (line 39)) (1.2.1)\n",
      "Requirement already satisfied: clyent==1.2.2 in c:\\users\\kenda\\appdata\\local\\continuum\\anaconda3\\lib\\site-packages (from -r requirements.txt (line 40)) (1.2.2)\n",
      "Requirement already satisfied: colorama==0.4.1 in c:\\users\\kenda\\appdata\\local\\continuum\\anaconda3\\lib\\site-packages (from -r requirements.txt (line 41)) (0.4.1)\n",
      "Requirement already satisfied: comtypes==1.1.7 in c:\\users\\kenda\\appdata\\local\\continuum\\anaconda3\\lib\\site-packages (from -r requirements.txt (line 42)) (1.1.7)\n",
      "Requirement already satisfied: conda==4.10.3 in c:\\users\\kenda\\appdata\\local\\continuum\\anaconda3\\lib\\site-packages (from -r requirements.txt (line 43)) (4.10.3)\n",
      "Requirement already satisfied: conda-build==3.21.4 in c:\\users\\kenda\\appdata\\local\\continuum\\anaconda3\\lib\\site-packages (from -r requirements.txt (line 44)) (3.21.4)\n",
      "Requirement already satisfied: conda-content-trust==0+unknown in c:\\users\\kenda\\appdata\\local\\continuum\\anaconda3\\lib\\site-packages (from -r requirements.txt (line 45)) (0+unknown)\n",
      "Requirement already satisfied: conda-package-handling==1.3.11 in c:\\users\\kenda\\appdata\\local\\continuum\\anaconda3\\lib\\site-packages (from -r requirements.txt (line 46)) (1.3.11)\n",
      "Requirement already satisfied: conda-repo-cli==1.0.4 in c:\\users\\kenda\\appdata\\local\\continuum\\anaconda3\\lib\\site-packages (from -r requirements.txt (line 47)) (1.0.4)\n",
      "Requirement already satisfied: conda-token==0.3.0 in c:\\users\\kenda\\appdata\\local\\continuum\\anaconda3\\lib\\site-packages (from -r requirements.txt (line 48)) (0.3.0)\n",
      "Requirement already satisfied: conda-verify==3.4.2 in c:\\users\\kenda\\appdata\\local\\continuum\\anaconda3\\lib\\site-packages (from -r requirements.txt (line 49)) (3.4.2)\n",
      "Requirement already satisfied: contextlib2==0.5.5 in c:\\users\\kenda\\appdata\\local\\continuum\\anaconda3\\lib\\site-packages (from -r requirements.txt (line 50)) (0.5.5)\n",
      "Requirement already satisfied: cryptography==2.7 in c:\\users\\kenda\\appdata\\local\\continuum\\anaconda3\\lib\\site-packages (from -r requirements.txt (line 51)) (2.7)\n",
      "Requirement already satisfied: cycler==0.10.0 in c:\\users\\kenda\\appdata\\local\\continuum\\anaconda3\\lib\\site-packages (from -r requirements.txt (line 52)) (0.10.0)\n",
      "Requirement already satisfied: cymem==2.0.6 in c:\\users\\kenda\\appdata\\local\\continuum\\anaconda3\\lib\\site-packages (from -r requirements.txt (line 53)) (2.0.6)\n",
      "Requirement already satisfied: Cython==0.29.14 in c:\\users\\kenda\\appdata\\local\\continuum\\anaconda3\\lib\\site-packages (from -r requirements.txt (line 54)) (0.29.14)\n",
      "Requirement already satisfied: cytoolz==0.10.0 in c:\\users\\kenda\\appdata\\local\\continuum\\anaconda3\\lib\\site-packages (from -r requirements.txt (line 55)) (0.10.0)\n",
      "Requirement already satisfied: dask==2.1.0 in c:\\users\\kenda\\appdata\\local\\continuum\\anaconda3\\lib\\site-packages (from -r requirements.txt (line 56)) (2.1.0)\n",
      "Requirement already satisfied: decorator==4.4.0 in c:\\users\\kenda\\appdata\\local\\continuum\\anaconda3\\lib\\site-packages (from -r requirements.txt (line 57)) (4.4.0)\n",
      "Requirement already satisfied: defusedxml==0.6.0 in c:\\users\\kenda\\appdata\\local\\continuum\\anaconda3\\lib\\site-packages (from -r requirements.txt (line 58)) (0.6.0)\n",
      "Requirement already satisfied: distributed==2.1.0 in c:\\users\\kenda\\appdata\\local\\continuum\\anaconda3\\lib\\site-packages (from -r requirements.txt (line 59)) (2.1.0)\n",
      "Requirement already satisfied: docopt==0.6.2 in c:\\users\\kenda\\appdata\\local\\continuum\\anaconda3\\lib\\site-packages (from -r requirements.txt (line 60)) (0.6.2)\n",
      "Requirement already satisfied: docutils==0.14 in c:\\users\\kenda\\appdata\\local\\continuum\\anaconda3\\lib\\site-packages (from -r requirements.txt (line 61)) (0.14)\n",
      "Requirement already satisfied: entrypoints==0.3 in c:\\users\\kenda\\appdata\\local\\continuum\\anaconda3\\lib\\site-packages (from -r requirements.txt (line 62)) (0.3)\n",
      "Requirement already satisfied: et-xmlfile==1.0.1 in c:\\users\\kenda\\appdata\\local\\continuum\\anaconda3\\lib\\site-packages (from -r requirements.txt (line 63)) (1.0.1)\n",
      "Requirement already satisfied: fastcache==1.1.0 in c:\\users\\kenda\\appdata\\local\\continuum\\anaconda3\\lib\\site-packages (from -r requirements.txt (line 64)) (1.1.0)\n",
      "Requirement already satisfied: filelock==3.0.12 in c:\\users\\kenda\\appdata\\local\\continuum\\anaconda3\\lib\\site-packages (from -r requirements.txt (line 65)) (3.0.12)\n",
      "Requirement already satisfied: Fiona==1.8.4 in c:\\users\\kenda\\appdata\\local\\continuum\\anaconda3\\lib\\site-packages (from -r requirements.txt (line 66)) (1.8.4)\n",
      "Requirement already satisfied: fitparse==1.2.0 in c:\\users\\kenda\\appdata\\local\\continuum\\anaconda3\\lib\\site-packages (from -r requirements.txt (line 67)) (1.2.0)\n",
      "Requirement already satisfied: Flask==1.1.1 in c:\\users\\kenda\\appdata\\local\\continuum\\anaconda3\\lib\\site-packages (from -r requirements.txt (line 68)) (1.1.1)\n",
      "Requirement already satisfied: flatbuffers==2.0 in c:\\users\\kenda\\appdata\\local\\continuum\\anaconda3\\lib\\site-packages (from -r requirements.txt (line 69)) (2.0)\n",
      "Requirement already satisfied: folium==0.12.1 in c:\\users\\kenda\\appdata\\local\\continuum\\anaconda3\\lib\\site-packages (from -r requirements.txt (line 70)) (0.12.1)\n",
      "Requirement already satisfied: future==0.18.2 in c:\\users\\kenda\\appdata\\local\\continuum\\anaconda3\\lib\\site-packages (from -r requirements.txt (line 71)) (0.18.2)\n",
      "Requirement already satisfied: gast==0.4.0 in c:\\users\\kenda\\appdata\\local\\continuum\\anaconda3\\lib\\site-packages (from -r requirements.txt (line 72)) (0.4.0)\n",
      "Requirement already satisfied: GDAL==2.3.3 in c:\\users\\kenda\\appdata\\local\\continuum\\anaconda3\\lib\\site-packages (from -r requirements.txt (line 73)) (2.3.3)\n",
      "Requirement already satisfied: gensim==3.8.3 in c:\\users\\kenda\\appdata\\local\\continuum\\anaconda3\\lib\\site-packages (from -r requirements.txt (line 74)) (3.8.3)\n",
      "Requirement already satisfied: geographiclib==1.52 in c:\\users\\kenda\\appdata\\local\\continuum\\anaconda3\\lib\\site-packages (from -r requirements.txt (line 75)) (1.52)\n",
      "Requirement already satisfied: geopandas==0.6.1 in c:\\users\\kenda\\appdata\\local\\continuum\\anaconda3\\lib\\site-packages (from -r requirements.txt (line 76)) (0.6.1)\n",
      "Requirement already satisfied: geopy==2.2.0 in c:\\users\\kenda\\appdata\\local\\continuum\\anaconda3\\lib\\site-packages (from -r requirements.txt (line 77)) (2.2.0)\n",
      "Requirement already satisfied: gevent==1.4.0 in c:\\users\\kenda\\appdata\\local\\continuum\\anaconda3\\lib\\site-packages (from -r requirements.txt (line 78)) (1.4.0)\n",
      "Requirement already satisfied: glob2==0.7 in c:\\users\\kenda\\appdata\\local\\continuum\\anaconda3\\lib\\site-packages (from -r requirements.txt (line 79)) (0.7)\n",
      "Requirement already satisfied: google-api-core==1.31.2 in c:\\users\\kenda\\appdata\\local\\continuum\\anaconda3\\lib\\site-packages (from -r requirements.txt (line 80)) (1.31.2)\n",
      "Requirement already satisfied: google-auth==1.35.0 in c:\\users\\kenda\\appdata\\local\\continuum\\anaconda3\\lib\\site-packages (from -r requirements.txt (line 81)) (1.35.0)\n",
      "Requirement already satisfied: google-auth-oauthlib==0.4.6 in c:\\users\\kenda\\appdata\\local\\continuum\\anaconda3\\lib\\site-packages (from -r requirements.txt (line 82)) (0.4.6)\n",
      "Requirement already satisfied: google-cloud-bigquery==2.24.0 in c:\\users\\kenda\\appdata\\local\\continuum\\anaconda3\\lib\\site-packages (from -r requirements.txt (line 83)) (2.24.0)\n",
      "Requirement already satisfied: google-cloud-core==1.7.2 in c:\\users\\kenda\\appdata\\local\\continuum\\anaconda3\\lib\\site-packages (from -r requirements.txt (line 84)) (1.7.2)\n",
      "Requirement already satisfied: google-crc32c==1.1.2 in c:\\users\\kenda\\appdata\\local\\continuum\\anaconda3\\lib\\site-packages (from -r requirements.txt (line 85)) (1.1.2)\n",
      "Requirement already satisfied: google-pasta==0.2.0 in c:\\users\\kenda\\appdata\\local\\continuum\\anaconda3\\lib\\site-packages (from -r requirements.txt (line 86)) (0.2.0)\n",
      "Requirement already satisfied: google-resumable-media==1.3.3 in c:\\users\\kenda\\appdata\\local\\continuum\\anaconda3\\lib\\site-packages (from -r requirements.txt (line 87)) (1.3.3)\n",
      "Requirement already satisfied: googleapis-common-protos==1.53.0 in c:\\users\\kenda\\appdata\\local\\continuum\\anaconda3\\lib\\site-packages (from -r requirements.txt (line 88)) (1.53.0)\n",
      "Requirement already satisfied: graphviz==0.16 in c:\\users\\kenda\\appdata\\local\\continuum\\anaconda3\\lib\\site-packages (from -r requirements.txt (line 89)) (0.16)\n",
      "Requirement already satisfied: greenlet==0.4.15 in c:\\users\\kenda\\appdata\\local\\continuum\\anaconda3\\lib\\site-packages (from -r requirements.txt (line 90)) (0.4.15)\n",
      "Requirement already satisfied: grpcio==1.39.0 in c:\\users\\kenda\\appdata\\local\\continuum\\anaconda3\\lib\\site-packages (from -r requirements.txt (line 91)) (1.39.0)\n",
      "Requirement already satisfied: h5py==2.9.0 in c:\\users\\kenda\\appdata\\local\\continuum\\anaconda3\\lib\\site-packages (from -r requirements.txt (line 92)) (2.9.0)\n",
      "Requirement already satisfied: hdbscan==0.8.27 in c:\\users\\kenda\\appdata\\local\\continuum\\anaconda3\\lib\\site-packages (from -r requirements.txt (line 93)) (0.8.27)\n",
      "Requirement already satisfied: heapdict==1.0.0 in c:\\users\\kenda\\appdata\\local\\continuum\\anaconda3\\lib\\site-packages (from -r requirements.txt (line 94)) (1.0.0)\n",
      "Requirement already satisfied: html5lib==1.0.1 in c:\\users\\kenda\\appdata\\local\\continuum\\anaconda3\\lib\\site-packages (from -r requirements.txt (line 95)) (1.0.1)\n",
      "Requirement already satisfied: huggingface-hub==0.2.1 in c:\\users\\kenda\\appdata\\local\\continuum\\anaconda3\\lib\\site-packages (from -r requirements.txt (line 96)) (0.2.1)\n",
      "Requirement already satisfied: idna==2.8 in c:\\users\\kenda\\appdata\\local\\continuum\\anaconda3\\lib\\site-packages (from -r requirements.txt (line 97)) (2.8)\n",
      "Requirement already satisfied: imageio==2.5.0 in c:\\users\\kenda\\appdata\\local\\continuum\\anaconda3\\lib\\site-packages (from -r requirements.txt (line 98)) (2.5.0)\n",
      "Requirement already satisfied: imagesize==1.1.0 in c:\\users\\kenda\\appdata\\local\\continuum\\anaconda3\\lib\\site-packages (from -r requirements.txt (line 99)) (1.1.0)\n",
      "Requirement already satisfied: importlib-metadata==4.10.0 in c:\\users\\kenda\\appdata\\local\\continuum\\anaconda3\\lib\\site-packages (from -r requirements.txt (line 100)) (4.10.0)\n",
      "Requirement already satisfied: ipykernel==5.1.1 in c:\\users\\kenda\\appdata\\local\\continuum\\anaconda3\\lib\\site-packages (from -r requirements.txt (line 101)) (5.1.1)\n",
      "Requirement already satisfied: ipython==7.6.1 in c:\\users\\kenda\\appdata\\local\\continuum\\anaconda3\\lib\\site-packages (from -r requirements.txt (line 102)) (7.6.1)\n",
      "Requirement already satisfied: ipython-genutils==0.2.0 in c:\\users\\kenda\\appdata\\local\\continuum\\anaconda3\\lib\\site-packages (from -r requirements.txt (line 103)) (0.2.0)\n",
      "Requirement already satisfied: ipywidgets==7.5.0 in c:\\users\\kenda\\appdata\\local\\continuum\\anaconda3\\lib\\site-packages (from -r requirements.txt (line 104)) (7.5.0)\n",
      "Requirement already satisfied: isort==4.3.21 in c:\\users\\kenda\\appdata\\local\\continuum\\anaconda3\\lib\\site-packages (from -r requirements.txt (line 105)) (4.3.21)\n",
      "Requirement already satisfied: itsdangerous==1.1.0 in c:\\users\\kenda\\appdata\\local\\continuum\\anaconda3\\lib\\site-packages (from -r requirements.txt (line 106)) (1.1.0)\n",
      "Requirement already satisfied: jdcal==1.4.1 in c:\\users\\kenda\\appdata\\local\\continuum\\anaconda3\\lib\\site-packages (from -r requirements.txt (line 107)) (1.4.1)\n",
      "Requirement already satisfied: jedi==0.13.3 in c:\\users\\kenda\\appdata\\local\\continuum\\anaconda3\\lib\\site-packages (from -r requirements.txt (line 108)) (0.13.3)\n",
      "Requirement already satisfied: Jinja2==2.10.1 in c:\\users\\kenda\\appdata\\local\\continuum\\anaconda3\\lib\\site-packages (from -r requirements.txt (line 109)) (2.10.1)\n",
      "Requirement already satisfied: joblib==1.1.0 in c:\\users\\kenda\\appdata\\local\\continuum\\anaconda3\\lib\\site-packages (from -r requirements.txt (line 110)) (1.1.0)\n",
      "Requirement already satisfied: Js2Py==0.71 in c:\\users\\kenda\\appdata\\local\\continuum\\anaconda3\\lib\\site-packages (from -r requirements.txt (line 111)) (0.71)\n",
      "Requirement already satisfied: json5==0.8.4 in c:\\users\\kenda\\appdata\\local\\continuum\\anaconda3\\lib\\site-packages (from -r requirements.txt (line 112)) (0.8.4)\n",
      "Requirement already satisfied: jsonschema==3.0.1 in c:\\users\\kenda\\appdata\\local\\continuum\\anaconda3\\lib\\site-packages (from -r requirements.txt (line 113)) (3.0.1)\n",
      "Requirement already satisfied: jupyter==1.0.0 in c:\\users\\kenda\\appdata\\local\\continuum\\anaconda3\\lib\\site-packages (from -r requirements.txt (line 114)) (1.0.0)\n",
      "Requirement already satisfied: jupyter-client==5.3.1 in c:\\users\\kenda\\appdata\\local\\continuum\\anaconda3\\lib\\site-packages (from -r requirements.txt (line 115)) (5.3.1)\n",
      "Requirement already satisfied: jupyter-console==6.0.0 in c:\\users\\kenda\\appdata\\local\\continuum\\anaconda3\\lib\\site-packages (from -r requirements.txt (line 116)) (6.0.0)\n",
      "Requirement already satisfied: jupyter-core==4.5.0 in c:\\users\\kenda\\appdata\\local\\continuum\\anaconda3\\lib\\site-packages (from -r requirements.txt (line 117)) (4.5.0)\n",
      "Requirement already satisfied: jupyterlab==1.0.2 in c:\\users\\kenda\\appdata\\local\\continuum\\anaconda3\\lib\\site-packages (from -r requirements.txt (line 118)) (1.0.2)\n",
      "Requirement already satisfied: jupyterlab-server==1.0.0 in c:\\users\\kenda\\appdata\\local\\continuum\\anaconda3\\lib\\site-packages (from -r requirements.txt (line 119)) (1.0.0)\n",
      "Requirement already satisfied: keras==2.7.0 in c:\\users\\kenda\\appdata\\local\\continuum\\anaconda3\\lib\\site-packages (from -r requirements.txt (line 120)) (2.7.0)\n",
      "Requirement already satisfied: Keras-Preprocessing==1.1.2 in c:\\users\\kenda\\appdata\\local\\continuum\\anaconda3\\lib\\site-packages (from -r requirements.txt (line 121)) (1.1.2)\n",
      "Requirement already satisfied: keyring==18.0.0 in c:\\users\\kenda\\appdata\\local\\continuum\\anaconda3\\lib\\site-packages (from -r requirements.txt (line 122)) (18.0.0)\n",
      "Requirement already satisfied: kiwisolver==1.1.0 in c:\\users\\kenda\\appdata\\local\\continuum\\anaconda3\\lib\\site-packages (from -r requirements.txt (line 123)) (1.1.0)\n",
      "Requirement already satisfied: langcodes==3.3.0 in c:\\users\\kenda\\appdata\\local\\continuum\\anaconda3\\lib\\site-packages (from -r requirements.txt (line 124)) (3.3.0)\n",
      "Requirement already satisfied: lazy-object-proxy==1.4.1 in c:\\users\\kenda\\appdata\\local\\continuum\\anaconda3\\lib\\site-packages (from -r requirements.txt (line 125)) (1.4.1)\n",
      "Requirement already satisfied: libarchive-c==2.8 in c:\\users\\kenda\\appdata\\local\\continuum\\anaconda3\\lib\\site-packages (from -r requirements.txt (line 126)) (2.8)\n",
      "Requirement already satisfied: libclang==12.0.0 in c:\\users\\kenda\\appdata\\local\\continuum\\anaconda3\\lib\\site-packages (from -r requirements.txt (line 127)) (12.0.0)\n",
      "Requirement already satisfied: llvmlite==0.37.0 in c:\\users\\kenda\\appdata\\local\\continuum\\anaconda3\\lib\\site-packages (from -r requirements.txt (line 128)) (0.37.0)\n",
      "Requirement already satisfied: locket==0.2.0 in c:\\users\\kenda\\appdata\\local\\continuum\\anaconda3\\lib\\site-packages (from -r requirements.txt (line 129)) (0.2.0)\n",
      "Requirement already satisfied: lxml==4.3.4 in c:\\users\\kenda\\appdata\\local\\continuum\\anaconda3\\lib\\site-packages (from -r requirements.txt (line 130)) (4.3.4)\n",
      "Requirement already satisfied: Markdown==3.3.6 in c:\\users\\kenda\\appdata\\local\\continuum\\anaconda3\\lib\\site-packages (from -r requirements.txt (line 131)) (3.3.6)\n",
      "Requirement already satisfied: MarkupSafe==1.1.1 in c:\\users\\kenda\\appdata\\local\\continuum\\anaconda3\\lib\\site-packages (from -r requirements.txt (line 132)) (1.1.1)\n",
      "Requirement already satisfied: matplotlib==3.1.0 in c:\\users\\kenda\\appdata\\local\\continuum\\anaconda3\\lib\\site-packages (from -r requirements.txt (line 133)) (3.1.0)\n",
      "Requirement already satisfied: mccabe==0.6.1 in c:\\users\\kenda\\appdata\\local\\continuum\\anaconda3\\lib\\site-packages (from -r requirements.txt (line 134)) (0.6.1)\n",
      "Requirement already satisfied: menuinst==1.4.16 in c:\\users\\kenda\\appdata\\local\\continuum\\anaconda3\\lib\\site-packages (from -r requirements.txt (line 135)) (1.4.16)\n",
      "Requirement already satisfied: mistune==0.8.4 in c:\\users\\kenda\\appdata\\local\\continuum\\anaconda3\\lib\\site-packages (from -r requirements.txt (line 136)) (0.8.4)\n",
      "Requirement already satisfied: mkl-fft==1.0.12 in c:\\users\\kenda\\appdata\\local\\continuum\\anaconda3\\lib\\site-packages (from -r requirements.txt (line 137)) (1.0.12)\n",
      "Requirement already satisfied: mkl-random==1.0.2 in c:\\users\\kenda\\appdata\\local\\continuum\\anaconda3\\lib\\site-packages (from -r requirements.txt (line 138)) (1.0.2)\n",
      "Requirement already satisfied: mkl-service==2.0.2 in c:\\users\\kenda\\appdata\\local\\continuum\\anaconda3\\lib\\site-packages (from -r requirements.txt (line 139)) (2.0.2)\n",
      "Requirement already satisfied: mock==3.0.5 in c:\\users\\kenda\\appdata\\local\\continuum\\anaconda3\\lib\\site-packages (from -r requirements.txt (line 140)) (3.0.5)\n",
      "Requirement already satisfied: more-itertools==7.0.0 in c:\\users\\kenda\\appdata\\local\\continuum\\anaconda3\\lib\\site-packages (from -r requirements.txt (line 141)) (7.0.0)\n",
      "Requirement already satisfied: mpmath==1.1.0 in c:\\users\\kenda\\appdata\\local\\continuum\\anaconda3\\lib\\site-packages (from -r requirements.txt (line 142)) (1.1.0)\n",
      "Requirement already satisfied: msgpack==0.6.1 in c:\\users\\kenda\\appdata\\local\\continuum\\anaconda3\\lib\\site-packages (from -r requirements.txt (line 143)) (0.6.1)\n",
      "Requirement already satisfied: multipledispatch==0.6.0 in c:\\users\\kenda\\appdata\\local\\continuum\\anaconda3\\lib\\site-packages (from -r requirements.txt (line 144)) (0.6.0)\n",
      "Requirement already satisfied: munch==2.5.0 in c:\\users\\kenda\\appdata\\local\\continuum\\anaconda3\\lib\\site-packages (from -r requirements.txt (line 145)) (2.5.0)\n",
      "Requirement already satisfied: murmurhash==1.0.6 in c:\\users\\kenda\\appdata\\local\\continuum\\anaconda3\\lib\\site-packages (from -r requirements.txt (line 146)) (1.0.6)\n",
      "Requirement already satisfied: navigator-updater==0.2.1 in c:\\users\\kenda\\appdata\\local\\continuum\\anaconda3\\lib\\site-packages (from -r requirements.txt (line 147)) (0.2.1)\n",
      "Requirement already satisfied: nbconvert==5.5.0 in c:\\users\\kenda\\appdata\\local\\continuum\\anaconda3\\lib\\site-packages (from -r requirements.txt (line 148)) (5.5.0)\n",
      "Requirement already satisfied: nbformat==4.4.0 in c:\\users\\kenda\\appdata\\local\\continuum\\anaconda3\\lib\\site-packages (from -r requirements.txt (line 149)) (4.4.0)\n",
      "Requirement already satisfied: networkx==2.3 in c:\\users\\kenda\\appdata\\local\\continuum\\anaconda3\\lib\\site-packages (from -r requirements.txt (line 150)) (2.3)\n",
      "Requirement already satisfied: nltk==3.4.4 in c:\\users\\kenda\\appdata\\local\\continuum\\anaconda3\\lib\\site-packages (from -r requirements.txt (line 151)) (3.4.4)\n",
      "Requirement already satisfied: nose==1.3.7 in c:\\users\\kenda\\appdata\\local\\continuum\\anaconda3\\lib\\site-packages (from -r requirements.txt (line 152)) (1.3.7)\n",
      "Requirement already satisfied: notebook==6.0.0 in c:\\users\\kenda\\appdata\\local\\continuum\\anaconda3\\lib\\site-packages (from -r requirements.txt (line 153)) (6.0.0)\n",
      "Requirement already satisfied: numba==0.54.1 in c:\\users\\kenda\\appdata\\local\\continuum\\anaconda3\\lib\\site-packages (from -r requirements.txt (line 154)) (0.54.1)\n",
      "Requirement already satisfied: numexpr==2.6.9 in c:\\users\\kenda\\appdata\\local\\continuum\\anaconda3\\lib\\site-packages (from -r requirements.txt (line 155)) (2.6.9)\n",
      "Requirement already satisfied: numpy==1.20.3 in c:\\users\\kenda\\appdata\\local\\continuum\\anaconda3\\lib\\site-packages (from -r requirements.txt (line 156)) (1.20.3)\n",
      "Requirement already satisfied: numpydoc==0.9.1 in c:\\users\\kenda\\appdata\\local\\continuum\\anaconda3\\lib\\site-packages (from -r requirements.txt (line 157)) (0.9.1)\n",
      "Requirement already satisfied: oauthlib==3.1.1 in c:\\users\\kenda\\appdata\\local\\continuum\\anaconda3\\lib\\site-packages (from -r requirements.txt (line 158)) (3.1.1)\n",
      "Requirement already satisfied: olefile==0.46 in c:\\users\\kenda\\appdata\\local\\continuum\\anaconda3\\lib\\site-packages (from -r requirements.txt (line 159)) (0.46)\n",
      "Requirement already satisfied: openpyxl==2.6.2 in c:\\users\\kenda\\appdata\\local\\continuum\\anaconda3\\lib\\site-packages (from -r requirements.txt (line 160)) (2.6.2)\n",
      "Requirement already satisfied: opt-einsum==3.3.0 in c:\\users\\kenda\\appdata\\local\\continuum\\anaconda3\\lib\\site-packages (from -r requirements.txt (line 161)) (3.3.0)\n",
      "Requirement already satisfied: packaging==21.3 in c:\\users\\kenda\\appdata\\local\\continuum\\anaconda3\\lib\\site-packages (from -r requirements.txt (line 162)) (21.3)\n",
      "Requirement already satisfied: pandas==0.24.2 in c:\\users\\kenda\\appdata\\local\\continuum\\anaconda3\\lib\\site-packages (from -r requirements.txt (line 163)) (0.24.2)\n",
      "Requirement already satisfied: pandocfilters==1.4.2 in c:\\users\\kenda\\appdata\\local\\continuum\\anaconda3\\lib\\site-packages (from -r requirements.txt (line 164)) (1.4.2)\n",
      "Requirement already satisfied: parso==0.5.0 in c:\\users\\kenda\\appdata\\local\\continuum\\anaconda3\\lib\\site-packages (from -r requirements.txt (line 165)) (0.5.0)\n",
      "Requirement already satisfied: partd==1.0.0 in c:\\users\\kenda\\appdata\\local\\continuum\\anaconda3\\lib\\site-packages (from -r requirements.txt (line 166)) (1.0.0)\n",
      "Requirement already satisfied: path.py==12.0.1 in c:\\users\\kenda\\appdata\\local\\continuum\\anaconda3\\lib\\site-packages (from -r requirements.txt (line 167)) (12.0.1)\n",
      "Requirement already satisfied: pathlib-mate==1.0.1 in c:\\users\\kenda\\appdata\\local\\continuum\\anaconda3\\lib\\site-packages (from -r requirements.txt (line 168)) (1.0.1)\n",
      "Requirement already satisfied: pathlib2==2.3.4 in c:\\users\\kenda\\appdata\\local\\continuum\\anaconda3\\lib\\site-packages (from -r requirements.txt (line 169)) (2.3.4)\n",
      "Requirement already satisfied: pathy==0.6.1 in c:\\users\\kenda\\appdata\\local\\continuum\\anaconda3\\lib\\site-packages (from -r requirements.txt (line 170)) (0.6.1)\n",
      "Requirement already satisfied: patsy==0.5.1 in c:\\users\\kenda\\appdata\\local\\continuum\\anaconda3\\lib\\site-packages (from -r requirements.txt (line 171)) (0.5.1)\n",
      "Requirement already satisfied: pep8==1.7.1 in c:\\users\\kenda\\appdata\\local\\continuum\\anaconda3\\lib\\site-packages (from -r requirements.txt (line 172)) (1.7.1)\n",
      "Requirement already satisfied: pickleshare==0.7.5 in c:\\users\\kenda\\appdata\\local\\continuum\\anaconda3\\lib\\site-packages (from -r requirements.txt (line 173)) (0.7.5)\n",
      "Requirement already satisfied: Pillow==6.1.0 in c:\\users\\kenda\\appdata\\local\\continuum\\anaconda3\\lib\\site-packages (from -r requirements.txt (line 174)) (6.1.0)\n",
      "Requirement already satisfied: pipwin==0.5.1 in c:\\users\\kenda\\appdata\\local\\continuum\\anaconda3\\lib\\site-packages (from -r requirements.txt (line 175)) (0.5.1)\n",
      "Requirement already satisfied: pkginfo==1.5.0.1 in c:\\users\\kenda\\appdata\\local\\continuum\\anaconda3\\lib\\site-packages (from -r requirements.txt (line 176)) (1.5.0.1)\n",
      "Requirement already satisfied: plotly==4.14.3 in c:\\users\\kenda\\appdata\\local\\continuum\\anaconda3\\lib\\site-packages (from -r requirements.txt (line 177)) (4.14.3)\n",
      "Requirement already satisfied: pluggy==0.12.0 in c:\\users\\kenda\\appdata\\local\\continuum\\anaconda3\\lib\\site-packages (from -r requirements.txt (line 178)) (0.12.0)\n",
      "Requirement already satisfied: ply==3.11 in c:\\users\\kenda\\appdata\\local\\continuum\\anaconda3\\lib\\site-packages (from -r requirements.txt (line 179)) (3.11)\n",
      "Requirement already satisfied: preshed==3.0.6 in c:\\users\\kenda\\appdata\\local\\continuum\\anaconda3\\lib\\site-packages (from -r requirements.txt (line 180)) (3.0.6)\n",
      "Requirement already satisfied: prometheus-client==0.7.1 in c:\\users\\kenda\\appdata\\local\\continuum\\anaconda3\\lib\\site-packages (from -r requirements.txt (line 181)) (0.7.1)\n",
      "Requirement already satisfied: prompt-toolkit==2.0.9 in c:\\users\\kenda\\appdata\\local\\continuum\\anaconda3\\lib\\site-packages (from -r requirements.txt (line 182)) (2.0.9)\n",
      "Requirement already satisfied: proto-plus==1.19.0 in c:\\users\\kenda\\appdata\\local\\continuum\\anaconda3\\lib\\site-packages (from -r requirements.txt (line 183)) (1.19.0)\n",
      "Requirement already satisfied: protobuf==3.17.3 in c:\\users\\kenda\\appdata\\local\\continuum\\anaconda3\\lib\\site-packages (from -r requirements.txt (line 184)) (3.17.3)\n",
      "Requirement already satisfied: psutil==5.6.3 in c:\\users\\kenda\\appdata\\local\\continuum\\anaconda3\\lib\\site-packages (from -r requirements.txt (line 185)) (5.6.3)\n",
      "Requirement already satisfied: py==1.8.0 in c:\\users\\kenda\\appdata\\local\\continuum\\anaconda3\\lib\\site-packages (from -r requirements.txt (line 186)) (1.8.0)\n",
      "Requirement already satisfied: py4j==0.10.9 in c:\\users\\kenda\\appdata\\local\\continuum\\anaconda3\\lib\\site-packages (from -r requirements.txt (line 187)) (0.10.9)\n",
      "Requirement already satisfied: pyarrow==5.0.0 in c:\\users\\kenda\\appdata\\roaming\\python\\python37\\site-packages (from -r requirements.txt (line 188)) (5.0.0)\n",
      "Requirement already satisfied: pyasn1==0.4.8 in c:\\users\\kenda\\appdata\\local\\continuum\\anaconda3\\lib\\site-packages (from -r requirements.txt (line 189)) (0.4.8)\n",
      "Requirement already satisfied: pyasn1-modules==0.2.8 in c:\\users\\kenda\\appdata\\local\\continuum\\anaconda3\\lib\\site-packages (from -r requirements.txt (line 190)) (0.2.8)\n",
      "Requirement already satisfied: pybind11==2.9.0 in c:\\users\\kenda\\appdata\\local\\continuum\\anaconda3\\lib\\site-packages (from -r requirements.txt (line 191)) (2.9.0)\n",
      "Requirement already satisfied: pycodestyle==2.7.0 in c:\\users\\kenda\\appdata\\local\\continuum\\anaconda3\\lib\\site-packages (from -r requirements.txt (line 192)) (2.7.0)\n",
      "Requirement already satisfied: pycosat==0.6.3 in c:\\users\\kenda\\appdata\\local\\continuum\\anaconda3\\lib\\site-packages (from -r requirements.txt (line 193)) (0.6.3)\n",
      "Requirement already satisfied: pycparser==2.19 in c:\\users\\kenda\\appdata\\local\\continuum\\anaconda3\\lib\\site-packages (from -r requirements.txt (line 194)) (2.19)\n",
      "Requirement already satisfied: pycrypto==2.6.1 in c:\\users\\kenda\\appdata\\local\\continuum\\anaconda3\\lib\\site-packages (from -r requirements.txt (line 195)) (2.6.1)\n",
      "Requirement already satisfied: pycurl==7.43.0.3 in c:\\users\\kenda\\appdata\\local\\continuum\\anaconda3\\lib\\site-packages (from -r requirements.txt (line 196)) (7.43.0.3)\n",
      "Requirement already satisfied: pydantic==1.8.2 in c:\\users\\kenda\\appdata\\local\\continuum\\anaconda3\\lib\\site-packages (from -r requirements.txt (line 197)) (1.8.2)\n",
      "Requirement already satisfied: pyflakes==2.1.1 in c:\\users\\kenda\\appdata\\local\\continuum\\anaconda3\\lib\\site-packages (from -r requirements.txt (line 198)) (2.1.1)\n",
      "Requirement already satisfied: Pygments==2.4.2 in c:\\users\\kenda\\appdata\\local\\continuum\\anaconda3\\lib\\site-packages (from -r requirements.txt (line 199)) (2.4.2)\n",
      "Requirement already satisfied: pyjsparser==2.7.1 in c:\\users\\kenda\\appdata\\local\\continuum\\anaconda3\\lib\\site-packages (from -r requirements.txt (line 200)) (2.7.1)\n",
      "Requirement already satisfied: pylint==2.3.1 in c:\\users\\kenda\\appdata\\local\\continuum\\anaconda3\\lib\\site-packages (from -r requirements.txt (line 201)) (2.3.1)\n",
      "Requirement already satisfied: pynndescent==0.5.5 in c:\\users\\kenda\\appdata\\local\\continuum\\anaconda3\\lib\\site-packages (from -r requirements.txt (line 202)) (0.5.5)\n",
      "Requirement already satisfied: pyodbc==4.0.26 in c:\\users\\kenda\\appdata\\local\\continuum\\anaconda3\\lib\\site-packages (from -r requirements.txt (line 203)) (4.0.26)\n",
      "Requirement already satisfied: pyOpenSSL==19.0.0 in c:\\users\\kenda\\appdata\\local\\continuum\\anaconda3\\lib\\site-packages (from -r requirements.txt (line 204)) (19.0.0)\n",
      "Requirement already satisfied: pyparsing==2.4.0 in c:\\users\\kenda\\appdata\\local\\continuum\\anaconda3\\lib\\site-packages (from -r requirements.txt (line 205)) (2.4.0)\n",
      "Requirement already satisfied: PyPrind==2.11.3 in c:\\users\\kenda\\appdata\\local\\continuum\\anaconda3\\lib\\site-packages (from -r requirements.txt (line 206)) (2.11.3)\n",
      "Requirement already satisfied: pyproj==1.9.6 in c:\\users\\kenda\\appdata\\local\\continuum\\anaconda3\\lib\\site-packages (from -r requirements.txt (line 207)) (1.9.6)\n",
      "Requirement already satisfied: pyreadline==2.1 in c:\\users\\kenda\\appdata\\local\\continuum\\anaconda3\\lib\\site-packages (from -r requirements.txt (line 208)) (2.1)\n",
      "Requirement already satisfied: pyrsistent==0.14.11 in c:\\users\\kenda\\appdata\\local\\continuum\\anaconda3\\lib\\site-packages (from -r requirements.txt (line 209)) (0.14.11)\n",
      "Requirement already satisfied: pySmartDL==1.3.4 in c:\\users\\kenda\\appdata\\local\\continuum\\anaconda3\\lib\\site-packages (from -r requirements.txt (line 210)) (1.3.4)\n",
      "Requirement already satisfied: PySocks==1.7.0 in c:\\users\\kenda\\appdata\\local\\continuum\\anaconda3\\lib\\site-packages (from -r requirements.txt (line 211)) (1.7.0)\n",
      "Requirement already satisfied: pyspark==3.1.2 in c:\\users\\kenda\\appdata\\local\\continuum\\anaconda3\\lib\\site-packages (from -r requirements.txt (line 212)) (3.1.2)\n",
      "Requirement already satisfied: pytest==5.0.1 in c:\\users\\kenda\\appdata\\local\\continuum\\anaconda3\\lib\\site-packages (from -r requirements.txt (line 213)) (5.0.1)\n",
      "Requirement already satisfied: pytest-arraydiff==0.3 in c:\\users\\kenda\\appdata\\local\\continuum\\anaconda3\\lib\\site-packages (from -r requirements.txt (line 214)) (0.3)\n",
      "Requirement already satisfied: pytest-astropy==0.5.0 in c:\\users\\kenda\\appdata\\local\\continuum\\anaconda3\\lib\\site-packages (from -r requirements.txt (line 215)) (0.5.0)\n",
      "Requirement already satisfied: pytest-doctestplus==0.3.0 in c:\\users\\kenda\\appdata\\local\\continuum\\anaconda3\\lib\\site-packages (from -r requirements.txt (line 216)) (0.3.0)\n",
      "Requirement already satisfied: pytest-openfiles==0.3.2 in c:\\users\\kenda\\appdata\\local\\continuum\\anaconda3\\lib\\site-packages (from -r requirements.txt (line 217)) (0.3.2)\n",
      "Requirement already satisfied: pytest-remotedata==0.3.1 in c:\\users\\kenda\\appdata\\local\\continuum\\anaconda3\\lib\\site-packages (from -r requirements.txt (line 218)) (0.3.1)\n",
      "Requirement already satisfied: python-dateutil==2.8.0 in c:\\users\\kenda\\appdata\\local\\continuum\\anaconda3\\lib\\site-packages (from -r requirements.txt (line 219)) (2.8.0)\n",
      "Requirement already satisfied: pytz==2019.1 in c:\\users\\kenda\\appdata\\local\\continuum\\anaconda3\\lib\\site-packages (from -r requirements.txt (line 220)) (2019.1)\n",
      "Requirement already satisfied: PyWavelets==1.0.3 in c:\\users\\kenda\\appdata\\local\\continuum\\anaconda3\\lib\\site-packages (from -r requirements.txt (line 221)) (1.0.3)\n",
      "Requirement already satisfied: pywin32==223 in c:\\users\\kenda\\appdata\\local\\continuum\\anaconda3\\lib\\site-packages (from -r requirements.txt (line 222)) (223)\n",
      "Requirement already satisfied: pywinpty==0.5.5 in c:\\users\\kenda\\appdata\\local\\continuum\\anaconda3\\lib\\site-packages (from -r requirements.txt (line 223)) (0.5.5)\n",
      "Requirement already satisfied: PyYAML==5.1.1 in c:\\users\\kenda\\appdata\\local\\continuum\\anaconda3\\lib\\site-packages (from -r requirements.txt (line 224)) (5.1.1)\n",
      "Requirement already satisfied: pyzmq==18.0.0 in c:\\users\\kenda\\appdata\\local\\continuum\\anaconda3\\lib\\site-packages (from -r requirements.txt (line 225)) (18.0.0)\n",
      "Requirement already satisfied: QtAwesome==0.5.7 in c:\\users\\kenda\\appdata\\local\\continuum\\anaconda3\\lib\\site-packages (from -r requirements.txt (line 226)) (0.5.7)\n",
      "Requirement already satisfied: qtconsole==4.5.1 in c:\\users\\kenda\\appdata\\local\\continuum\\anaconda3\\lib\\site-packages (from -r requirements.txt (line 227)) (4.5.1)\n",
      "Requirement already satisfied: QtPy==1.8.0 in c:\\users\\kenda\\appdata\\local\\continuum\\anaconda3\\lib\\site-packages (from -r requirements.txt (line 228)) (1.8.0)\n",
      "Requirement already satisfied: regex==2021.11.10 in c:\\users\\kenda\\appdata\\local\\continuum\\anaconda3\\lib\\site-packages (from -r requirements.txt (line 229)) (2021.11.10)\n",
      "Requirement already satisfied: requests==2.22.0 in c:\\users\\kenda\\appdata\\local\\continuum\\anaconda3\\lib\\site-packages (from -r requirements.txt (line 230)) (2.22.0)\n",
      "Requirement already satisfied: requests-oauthlib==1.3.0 in c:\\users\\kenda\\appdata\\local\\continuum\\anaconda3\\lib\\site-packages (from -r requirements.txt (line 231)) (1.3.0)\n",
      "Requirement already satisfied: retrying==1.3.3 in c:\\users\\kenda\\appdata\\local\\continuum\\anaconda3\\lib\\site-packages (from -r requirements.txt (line 232)) (1.3.3)\n",
      "Requirement already satisfied: rope==0.14.0 in c:\\users\\kenda\\appdata\\local\\continuum\\anaconda3\\lib\\site-packages (from -r requirements.txt (line 233)) (0.14.0)\n",
      "Requirement already satisfied: rsa==4.7.2 in c:\\users\\kenda\\appdata\\local\\continuum\\anaconda3\\lib\\site-packages (from -r requirements.txt (line 234)) (4.7.2)\n",
      "Requirement already satisfied: Rtree==0.8.3 in c:\\users\\kenda\\appdata\\local\\continuum\\anaconda3\\lib\\site-packages (from -r requirements.txt (line 235)) (0.8.3)\n",
      "Requirement already satisfied: ruamel-yaml==0.15.46 in c:\\users\\kenda\\appdata\\local\\continuum\\anaconda3\\lib\\site-packages (from -r requirements.txt (line 236)) (0.15.46)\n",
      "Requirement already satisfied: sacremoses==0.0.46 in c:\\users\\kenda\\appdata\\local\\continuum\\anaconda3\\lib\\site-packages (from -r requirements.txt (line 237)) (0.0.46)\n",
      "Requirement already satisfied: scikit-image==0.15.0 in c:\\users\\kenda\\appdata\\local\\continuum\\anaconda3\\lib\\site-packages (from -r requirements.txt (line 238)) (0.15.0)\n",
      "Requirement already satisfied: scikit-learn==1.0.2 in c:\\users\\kenda\\appdata\\local\\continuum\\anaconda3\\lib\\site-packages (from -r requirements.txt (line 239)) (1.0.2)\n",
      "Requirement already satisfied: scipy==1.2.1 in c:\\users\\kenda\\appdata\\local\\continuum\\anaconda3\\lib\\site-packages (from -r requirements.txt (line 240)) (1.2.1)\n",
      "Requirement already satisfied: seaborn==0.11.1 in c:\\users\\kenda\\appdata\\local\\continuum\\anaconda3\\lib\\site-packages (from -r requirements.txt (line 241)) (0.11.1)\n",
      "Requirement already satisfied: Send2Trash==1.5.0 in c:\\users\\kenda\\appdata\\local\\continuum\\anaconda3\\lib\\site-packages (from -r requirements.txt (line 242)) (1.5.0)\n",
      "Requirement already satisfied: sent2vec==0.2.2 in c:\\users\\kenda\\appdata\\local\\continuum\\anaconda3\\lib\\site-packages (from -r requirements.txt (line 243)) (0.2.2)\n",
      "Requirement already satisfied: sentence-transformers==2.1.0 in c:\\users\\kenda\\appdata\\local\\continuum\\anaconda3\\lib\\site-packages (from -r requirements.txt (line 244)) (2.1.0)\n",
      "Requirement already satisfied: sentencepiece==0.1.96 in c:\\users\\kenda\\appdata\\local\\continuum\\anaconda3\\lib\\site-packages (from -r requirements.txt (line 245)) (0.1.96)\n",
      "Requirement already satisfied: Shapely==1.7.1 in c:\\users\\kenda\\appdata\\local\\continuum\\anaconda3\\lib\\site-packages (from -r requirements.txt (line 246)) (1.7.1)\n",
      "Requirement already satisfied: simplegeneric==0.8.1 in c:\\users\\kenda\\appdata\\local\\continuum\\anaconda3\\lib\\site-packages (from -r requirements.txt (line 247)) (0.8.1)\n",
      "Requirement already satisfied: singledispatch==3.4.0.3 in c:\\users\\kenda\\appdata\\local\\continuum\\anaconda3\\lib\\site-packages (from -r requirements.txt (line 248)) (3.4.0.3)\n",
      "Requirement already satisfied: six==1.16.0 in c:\\users\\kenda\\appdata\\local\\continuum\\anaconda3\\lib\\site-packages (from -r requirements.txt (line 249)) (1.16.0)\n",
      "Requirement already satisfied: smart-open==5.2.1 in c:\\users\\kenda\\appdata\\local\\continuum\\anaconda3\\lib\\site-packages (from -r requirements.txt (line 250)) (5.2.1)\n",
      "Requirement already satisfied: snowballstemmer==1.9.0 in c:\\users\\kenda\\appdata\\local\\continuum\\anaconda3\\lib\\site-packages (from -r requirements.txt (line 251)) (1.9.0)\n",
      "Requirement already satisfied: sortedcollections==1.1.2 in c:\\users\\kenda\\appdata\\local\\continuum\\anaconda3\\lib\\site-packages (from -r requirements.txt (line 252)) (1.1.2)\n",
      "Requirement already satisfied: sortedcontainers==2.1.0 in c:\\users\\kenda\\appdata\\local\\continuum\\anaconda3\\lib\\site-packages (from -r requirements.txt (line 253)) (2.1.0)\n",
      "Requirement already satisfied: soupsieve==1.8 in c:\\users\\kenda\\appdata\\local\\continuum\\anaconda3\\lib\\site-packages (from -r requirements.txt (line 254)) (1.8)\n",
      "Requirement already satisfied: spacy==3.2.1 in c:\\users\\kenda\\appdata\\local\\continuum\\anaconda3\\lib\\site-packages (from -r requirements.txt (line 255)) (3.2.1)\n",
      "Requirement already satisfied: spacy-legacy==3.0.8 in c:\\users\\kenda\\appdata\\local\\continuum\\anaconda3\\lib\\site-packages (from -r requirements.txt (line 256)) (3.0.8)\n",
      "Requirement already satisfied: spacy-loggers==1.0.1 in c:\\users\\kenda\\appdata\\local\\continuum\\anaconda3\\lib\\site-packages (from -r requirements.txt (line 257)) (1.0.1)\n",
      "Requirement already satisfied: Sphinx==2.1.2 in c:\\users\\kenda\\appdata\\local\\continuum\\anaconda3\\lib\\site-packages (from -r requirements.txt (line 258)) (2.1.2)\n",
      "Requirement already satisfied: sphinxcontrib-applehelp==1.0.1 in c:\\users\\kenda\\appdata\\local\\continuum\\anaconda3\\lib\\site-packages (from -r requirements.txt (line 259)) (1.0.1)\n",
      "Requirement already satisfied: sphinxcontrib-devhelp==1.0.1 in c:\\users\\kenda\\appdata\\local\\continuum\\anaconda3\\lib\\site-packages (from -r requirements.txt (line 260)) (1.0.1)\n",
      "Requirement already satisfied: sphinxcontrib-htmlhelp==1.0.2 in c:\\users\\kenda\\appdata\\local\\continuum\\anaconda3\\lib\\site-packages (from -r requirements.txt (line 261)) (1.0.2)\n",
      "Requirement already satisfied: sphinxcontrib-jsmath==1.0.1 in c:\\users\\kenda\\appdata\\local\\continuum\\anaconda3\\lib\\site-packages (from -r requirements.txt (line 262)) (1.0.1)\n",
      "Requirement already satisfied: sphinxcontrib-qthelp==1.0.2 in c:\\users\\kenda\\appdata\\local\\continuum\\anaconda3\\lib\\site-packages (from -r requirements.txt (line 263)) (1.0.2)\n",
      "Requirement already satisfied: sphinxcontrib-serializinghtml==1.1.3 in c:\\users\\kenda\\appdata\\local\\continuum\\anaconda3\\lib\\site-packages (from -r requirements.txt (line 264)) (1.1.3)\n",
      "Requirement already satisfied: sphinxcontrib-websupport==1.1.2 in c:\\users\\kenda\\appdata\\local\\continuum\\anaconda3\\lib\\site-packages (from -r requirements.txt (line 265)) (1.1.2)\n",
      "Requirement already satisfied: spyder==3.3.6 in c:\\users\\kenda\\appdata\\local\\continuum\\anaconda3\\lib\\site-packages (from -r requirements.txt (line 266)) (3.3.6)\n",
      "Requirement already satisfied: spyder-kernels==0.5.1 in c:\\users\\kenda\\appdata\\local\\continuum\\anaconda3\\lib\\site-packages (from -r requirements.txt (line 267)) (0.5.1)\n",
      "Requirement already satisfied: SQLAlchemy==1.3.5 in c:\\users\\kenda\\appdata\\local\\continuum\\anaconda3\\lib\\site-packages (from -r requirements.txt (line 268)) (1.3.5)\n",
      "Requirement already satisfied: srsly==2.4.2 in c:\\users\\kenda\\appdata\\local\\continuum\\anaconda3\\lib\\site-packages (from -r requirements.txt (line 269)) (2.4.2)\n",
      "Requirement already satisfied: statsmodels==0.10.0 in c:\\users\\kenda\\appdata\\local\\continuum\\anaconda3\\lib\\site-packages (from -r requirements.txt (line 270)) (0.10.0)\n",
      "Requirement already satisfied: sympy==1.4 in c:\\users\\kenda\\appdata\\local\\continuum\\anaconda3\\lib\\site-packages (from -r requirements.txt (line 271)) (1.4)\n",
      "Requirement already satisfied: tables==3.5.2 in c:\\users\\kenda\\appdata\\local\\continuum\\anaconda3\\lib\\site-packages (from -r requirements.txt (line 272)) (3.5.2)\n",
      "Requirement already satisfied: tblib==1.4.0 in c:\\users\\kenda\\appdata\\local\\continuum\\anaconda3\\lib\\site-packages (from -r requirements.txt (line 273)) (1.4.0)\n",
      "Requirement already satisfied: tensorboard==2.7.0 in c:\\users\\kenda\\appdata\\local\\continuum\\anaconda3\\lib\\site-packages (from -r requirements.txt (line 274)) (2.7.0)\n",
      "Requirement already satisfied: tensorboard-data-server==0.6.1 in c:\\users\\kenda\\appdata\\local\\continuum\\anaconda3\\lib\\site-packages (from -r requirements.txt (line 275)) (0.6.1)\n",
      "Requirement already satisfied: tensorboard-plugin-wit==1.8.0 in c:\\users\\kenda\\appdata\\local\\continuum\\anaconda3\\lib\\site-packages (from -r requirements.txt (line 276)) (1.8.0)\n",
      "Requirement already satisfied: tensorflow==2.7.0 in c:\\users\\kenda\\appdata\\local\\continuum\\anaconda3\\lib\\site-packages (from -r requirements.txt (line 277)) (2.7.0)\n",
      "Requirement already satisfied: tensorflow-estimator==2.7.0 in c:\\users\\kenda\\appdata\\local\\continuum\\anaconda3\\lib\\site-packages (from -r requirements.txt (line 278)) (2.7.0)\n",
      "Requirement already satisfied: tensorflow-hub==0.12.0 in c:\\users\\kenda\\appdata\\local\\continuum\\anaconda3\\lib\\site-packages (from -r requirements.txt (line 279)) (0.12.0)\n",
      "Requirement already satisfied: tensorflow-io-gcs-filesystem==0.23.1 in c:\\users\\kenda\\appdata\\local\\continuum\\anaconda3\\lib\\site-packages (from -r requirements.txt (line 280)) (0.23.1)\n",
      "Requirement already satisfied: tensorflow-text==2.7.3 in c:\\users\\kenda\\appdata\\local\\continuum\\anaconda3\\lib\\site-packages (from -r requirements.txt (line 281)) (2.7.3)\n",
      "Requirement already satisfied: termcolor==1.1.0 in c:\\users\\kenda\\appdata\\local\\continuum\\anaconda3\\lib\\site-packages (from -r requirements.txt (line 282)) (1.1.0)\n",
      "Requirement already satisfied: terminado==0.8.2 in c:\\users\\kenda\\appdata\\local\\continuum\\anaconda3\\lib\\site-packages (from -r requirements.txt (line 283)) (0.8.2)\n",
      "Requirement already satisfied: testpath==0.4.2 in c:\\users\\kenda\\appdata\\local\\continuum\\anaconda3\\lib\\site-packages (from -r requirements.txt (line 284)) (0.4.2)\n",
      "Requirement already satisfied: thinc==8.0.13 in c:\\users\\kenda\\appdata\\local\\continuum\\anaconda3\\lib\\site-packages (from -r requirements.txt (line 285)) (8.0.13)\n",
      "Requirement already satisfied: threadpoolctl==3.0.0 in c:\\users\\kenda\\appdata\\local\\continuum\\anaconda3\\lib\\site-packages (from -r requirements.txt (line 286)) (3.0.0)\n",
      "Requirement already satisfied: tokenizers==0.10.3 in c:\\users\\kenda\\appdata\\local\\continuum\\anaconda3\\lib\\site-packages (from -r requirements.txt (line 287)) (0.10.3)\n",
      "Requirement already satisfied: toml==0.10.2 in c:\\users\\kenda\\appdata\\local\\continuum\\anaconda3\\lib\\site-packages (from -r requirements.txt (line 288)) (0.10.2)\n",
      "Requirement already satisfied: toolz==0.10.0 in c:\\users\\kenda\\appdata\\local\\continuum\\anaconda3\\lib\\site-packages (from -r requirements.txt (line 289)) (0.10.0)\n",
      "Requirement already satisfied: top2vec==1.0.26 in c:\\users\\kenda\\appdata\\local\\continuum\\anaconda3\\lib\\site-packages (from -r requirements.txt (line 290)) (1.0.26)\n",
      "Requirement already satisfied: torch==1.9.0 in c:\\users\\kenda\\appdata\\local\\continuum\\anaconda3\\lib\\site-packages (from -r requirements.txt (line 291)) (1.9.0)\n",
      "Requirement already satisfied: torchvision==0.10.0 in c:\\users\\kenda\\appdata\\local\\continuum\\anaconda3\\lib\\site-packages (from -r requirements.txt (line 292)) (0.10.0)\n",
      "Requirement already satisfied: tornado==6.0.3 in c:\\users\\kenda\\appdata\\local\\continuum\\anaconda3\\lib\\site-packages (from -r requirements.txt (line 293)) (6.0.3)\n",
      "Requirement already satisfied: tqdm==4.62.3 in c:\\users\\kenda\\appdata\\local\\continuum\\anaconda3\\lib\\site-packages (from -r requirements.txt (line 294)) (4.62.3)\n",
      "Requirement already satisfied: traitlets==4.3.2 in c:\\users\\kenda\\appdata\\local\\continuum\\anaconda3\\lib\\site-packages (from -r requirements.txt (line 295)) (4.3.2)\n",
      "Requirement already satisfied: transformers==4.15.0 in c:\\users\\kenda\\appdata\\local\\continuum\\anaconda3\\lib\\site-packages (from -r requirements.txt (line 296)) (4.15.0)\n",
      "Requirement already satisfied: typer==0.4.0 in c:\\users\\kenda\\appdata\\local\\continuum\\anaconda3\\lib\\site-packages (from -r requirements.txt (line 297)) (0.4.0)\n",
      "Requirement already satisfied: typing-extensions==3.10.0.0 in c:\\users\\kenda\\appdata\\local\\continuum\\anaconda3\\lib\\site-packages (from -r requirements.txt (line 298)) (3.10.0.0)\n",
      "Requirement already satisfied: tzlocal==2.1 in c:\\users\\kenda\\appdata\\local\\continuum\\anaconda3\\lib\\site-packages (from -r requirements.txt (line 299)) (2.1)\n",
      "Requirement already satisfied: umap-learn==0.5.2 in c:\\users\\kenda\\appdata\\local\\continuum\\anaconda3\\lib\\site-packages (from -r requirements.txt (line 300)) (0.5.2)\n",
      "Requirement already satisfied: unicodecsv==0.14.1 in c:\\users\\kenda\\appdata\\local\\continuum\\anaconda3\\lib\\site-packages (from -r requirements.txt (line 301)) (0.14.1)\n",
      "Requirement already satisfied: urllib3==1.24.2 in c:\\users\\kenda\\appdata\\local\\continuum\\anaconda3\\lib\\site-packages (from -r requirements.txt (line 302)) (1.24.2)\n",
      "Requirement already satisfied: uszipcode==0.2.6 in c:\\users\\kenda\\appdata\\local\\continuum\\anaconda3\\lib\\site-packages (from -r requirements.txt (line 303)) (0.2.6)\n",
      "Requirement already satisfied: wasabi==0.9.0 in c:\\users\\kenda\\appdata\\local\\continuum\\anaconda3\\lib\\site-packages (from -r requirements.txt (line 304)) (0.9.0)\n",
      "Requirement already satisfied: wcwidth==0.1.7 in c:\\users\\kenda\\appdata\\local\\continuum\\anaconda3\\lib\\site-packages (from -r requirements.txt (line 305)) (0.1.7)\n",
      "Requirement already satisfied: webencodings==0.5.1 in c:\\users\\kenda\\appdata\\local\\continuum\\anaconda3\\lib\\site-packages (from -r requirements.txt (line 306)) (0.5.1)\n",
      "Requirement already satisfied: Werkzeug==0.15.4 in c:\\users\\kenda\\appdata\\local\\continuum\\anaconda3\\lib\\site-packages (from -r requirements.txt (line 307)) (0.15.4)\n",
      "Requirement already satisfied: widgetsnbextension==3.5.0 in c:\\users\\kenda\\appdata\\local\\continuum\\anaconda3\\lib\\site-packages (from -r requirements.txt (line 308)) (3.5.0)\n",
      "Requirement already satisfied: win-inet-pton==1.1.0 in c:\\users\\kenda\\appdata\\local\\continuum\\anaconda3\\lib\\site-packages (from -r requirements.txt (line 309)) (1.1.0)\n",
      "Requirement already satisfied: win-unicode-console==0.5 in c:\\users\\kenda\\appdata\\local\\continuum\\anaconda3\\lib\\site-packages (from -r requirements.txt (line 310)) (0.5)\n",
      "Requirement already satisfied: wincertstore==0.2 in c:\\users\\kenda\\appdata\\local\\continuum\\anaconda3\\lib\\site-packages (from -r requirements.txt (line 311)) (0.2)\n",
      "Requirement already satisfied: wordcloud==1.8.1 in c:\\users\\kenda\\appdata\\local\\continuum\\anaconda3\\lib\\site-packages (from -r requirements.txt (line 312)) (1.8.1)\n",
      "Requirement already satisfied: wrapt==1.11.2 in c:\\users\\kenda\\appdata\\local\\continuum\\anaconda3\\lib\\site-packages (from -r requirements.txt (line 313)) (1.11.2)\n",
      "Requirement already satisfied: xlrd==1.2.0 in c:\\users\\kenda\\appdata\\local\\continuum\\anaconda3\\lib\\site-packages (from -r requirements.txt (line 314)) (1.2.0)\n",
      "Requirement already satisfied: XlsxWriter==1.1.8 in c:\\users\\kenda\\appdata\\local\\continuum\\anaconda3\\lib\\site-packages (from -r requirements.txt (line 315)) (1.1.8)\n",
      "Requirement already satisfied: xlwings==0.15.8 in c:\\users\\kenda\\appdata\\local\\continuum\\anaconda3\\lib\\site-packages (from -r requirements.txt (line 316)) (0.15.8)\n",
      "Requirement already satisfied: xlwt==1.3.0 in c:\\users\\kenda\\appdata\\local\\continuum\\anaconda3\\lib\\site-packages (from -r requirements.txt (line 317)) (1.3.0)\n",
      "Requirement already satisfied: xmltodict==0.12.0 in c:\\users\\kenda\\appdata\\local\\continuum\\anaconda3\\lib\\site-packages (from -r requirements.txt (line 318)) (0.12.0)\n",
      "Requirement already satisfied: zict==1.0.0 in c:\\users\\kenda\\appdata\\local\\continuum\\anaconda3\\lib\\site-packages (from -r requirements.txt (line 319)) (1.0.0)\n",
      "Requirement already satisfied: zipp==0.5.1 in c:\\users\\kenda\\appdata\\local\\continuum\\anaconda3\\lib\\site-packages (from -r requirements.txt (line 320)) (0.5.1)\n",
      "Requirement already satisfied: setuptools in c:\\users\\kenda\\appdata\\local\\continuum\\anaconda3\\lib\\site-packages (from anaconda-client==1.7.2->-r requirements.txt (line 4)) (57.4.0)\n",
      "Collecting typed-ast>=1.3.0; implementation_name == \"cpython\" (from astroid==2.2.5->-r requirements.txt (line 8))\n",
      "  Using cached https://files.pythonhosted.org/packages/b9/81/63817fa31d617e0a255125187fc3623dcc3ff5397f1f982ef840cb182056/typed_ast-1.5.1-cp37-cp37m-win_amd64.whl\n",
      "Requirement already satisfied: wheel<1.0,>=0.23.0 in c:\\users\\kenda\\appdata\\local\\continuum\\anaconda3\\lib\\site-packages (from astunparse==1.6.3->-r requirements.txt (line 10)) (0.33.4)\n",
      "Collecting ruamel_yaml_conda>=0.11.14 (from conda==4.10.3->-r requirements.txt (line 43))\n",
      "  Using cached https://files.pythonhosted.org/packages/94/ef/31bfa8456e01ff13d8d98bdbc80ab2e592c830e52ccaff62c35d5f890357/ruamel_yaml_conda-0.15.80.tar.gz\n",
      "Note: you may need to restart the kernel to use updated packages.\n"
     ]
    },
    {
     "name": "stderr",
     "output_type": "stream",
     "text": [
      "    ERROR: Complete output from command python setup.py egg_info:\n",
      "    ERROR: Traceback (most recent call last):\n",
      "      File \"C:\\Users\\kenda\\AppData\\Local\\Temp\\pip-install-v1o4ko7j\\ruamel-yaml-conda\\ruamel_yaml\\__init__.py\", line 21, in <module>\n",
      "        from .main import *                               # NOQA\n",
      "      File \"C:\\Users\\kenda\\AppData\\Local\\Temp\\pip-install-v1o4ko7j\\ruamel-yaml-conda\\ruamel_yaml\\main.py\", line 12, in <module>\n",
      "        import ruamel.yaml\n",
      "    ModuleNotFoundError: No module named 'ruamel'\n",
      "    \n",
      "    During handling of the above exception, another exception occurred:\n",
      "    \n",
      "    Traceback (most recent call last):\n",
      "      File \"<string>\", line 1, in <module>\n",
      "      File \"C:\\Users\\kenda\\AppData\\Local\\Temp\\pip-install-v1o4ko7j\\ruamel-yaml-conda\\setup.py\", line 14, in <module>\n",
      "        import ruamel_yaml  # NOQA\n",
      "      File \"C:\\Users\\kenda\\AppData\\Local\\Temp\\pip-install-v1o4ko7j\\ruamel-yaml-conda\\ruamel_yaml\\__init__.py\", line 23, in <module>\n",
      "        from ruamel_yaml.main import *                               # NOQA\n",
      "      File \"C:\\Users\\kenda\\AppData\\Local\\Temp\\pip-install-v1o4ko7j\\ruamel-yaml-conda\\ruamel_yaml\\main.py\", line 12, in <module>\n",
      "        import ruamel.yaml\n",
      "    ModuleNotFoundError: No module named 'ruamel'\n",
      "    ----------------------------------------\n",
      "ERROR: Command \"python setup.py egg_info\" failed with error code 1 in C:\\Users\\kenda\\AppData\\Local\\Temp\\pip-install-v1o4ko7j\\ruamel-yaml-conda\\\n"
     ]
    }
   ],
   "source": [
    "pip install -r requirements.txt"
   ]
  },
  {
   "cell_type": "code",
   "execution_count": 4,
   "metadata": {},
   "outputs": [],
   "source": [
    "import warnings\n",
    "warnings.filterwarnings('ignore')\n",
    "\n",
    "import pandas as pd\n",
    "import numpy as np\n",
    "import nltk\n",
    "import re\n",
    "\n",
    "from top2vec import Top2Vec\n",
    "\n",
    "\n",
    "# nltk.download('punkt')\n",
    "# from nltk.tokenize import word_tokenize"
   ]
  },
  {
   "cell_type": "markdown",
   "metadata": {},
   "source": [
    "# Topic Modeling Using Top2Vec"
   ]
  },
  {
   "cell_type": "markdown",
   "metadata": {},
   "source": [
    "Load NYT Data for 2020 and 2021"
   ]
  },
  {
   "cell_type": "code",
   "execution_count": 5,
   "metadata": {},
   "outputs": [],
   "source": [
    "nyt2020 = pd.read_csv(\"data/NYTData2020.csv\")\n",
    "nyt2021 = pd.read_csv(\"data/NYTData2021.csv\")\n",
    "\n",
    "nyt = nyt2021.append(nyt2020)"
   ]
  },
  {
   "cell_type": "markdown",
   "metadata": {},
   "source": [
    "Take NYT review summaries and train a Top2Vec Model\n",
    "\n",
    "https://pypi.org/project/top2vec/"
   ]
  },
  {
   "cell_type": "code",
   "execution_count": 24,
   "metadata": {},
   "outputs": [
    {
     "name": "stderr",
     "output_type": "stream",
     "text": [
      "2022-01-06 20:07:20,990 - top2vec - INFO - Pre-processing documents for training\n",
      "INFO:top2vec:Pre-processing documents for training\n",
      "2022-01-06 20:07:21,096 - top2vec - INFO - Downloading universal-sentence-encoder model\n",
      "INFO:top2vec:Downloading universal-sentence-encoder model\n",
      "2022-01-06 20:07:27,006 - top2vec - INFO - Creating joint document/word embedding\n",
      "INFO:top2vec:Creating joint document/word embedding\n",
      "2022-01-06 20:07:27,387 - top2vec - INFO - Creating lower dimension embedding of documents\n",
      "INFO:top2vec:Creating lower dimension embedding of documents\n",
      "2022-01-06 20:07:32,032 - top2vec - INFO - Finding dense areas of documents\n",
      "INFO:top2vec:Finding dense areas of documents\n",
      "2022-01-06 20:07:32,124 - top2vec - INFO - Finding topics\n",
      "INFO:top2vec:Finding topics\n"
     ]
    }
   ],
   "source": [
    "documents = nyt['summary_short'].tolist()\n",
    "\n",
    "model = Top2Vec(documents, speed=\"deep-learn\", workers=8,\n",
    "                embedding_model = \"universal-sentence-encoder\")"
   ]
  },
  {
   "cell_type": "markdown",
   "metadata": {},
   "source": [
    "Print Number of Topics Defined by Model"
   ]
  },
  {
   "cell_type": "code",
   "execution_count": 37,
   "metadata": {},
   "outputs": [
    {
     "data": {
      "text/plain": [
       "3"
      ]
     },
     "execution_count": 37,
     "metadata": {},
     "output_type": "execute_result"
    }
   ],
   "source": [
    "model.get_num_topics()"
   ]
  },
  {
   "cell_type": "markdown",
   "metadata": {},
   "source": [
    "How many documents are most similar to each topic?"
   ]
  },
  {
   "cell_type": "code",
   "execution_count": 38,
   "metadata": {},
   "outputs": [],
   "source": [
    "topic_sizes, topic_nums = model.get_topic_sizes()"
   ]
  },
  {
   "cell_type": "code",
   "execution_count": 39,
   "metadata": {},
   "outputs": [
    {
     "data": {
      "text/plain": [
       "array([929, 413,  54], dtype=int64)"
      ]
     },
     "execution_count": 39,
     "metadata": {},
     "output_type": "execute_result"
    }
   ],
   "source": [
    "topic_sizes"
   ]
  },
  {
   "cell_type": "markdown",
   "metadata": {},
   "source": [
    "Define Top Words for Each Topic"
   ]
  },
  {
   "cell_type": "code",
   "execution_count": 32,
   "metadata": {},
   "outputs": [],
   "source": [
    "topic_words, word_scores, topic_nums = model.get_topics(model.get_num_topics())"
   ]
  },
  {
   "cell_type": "code",
   "execution_count": 33,
   "metadata": {},
   "outputs": [
    {
     "data": {
      "text/plain": [
       "array([['comedy', 'drama', 'thriller', 'director', 'movie', 'film',\n",
       "        'documentary', 'this', 'netflix', 'that', 'into', 'plays', 'it',\n",
       "        'story', 'the', 'her', 'and', 'as', 'of', 'from', 'its', 'stars',\n",
       "        'but', 'family', 'is', 'with', 'about', 'for', 'an', 'to', 'in',\n",
       "        'feature', 'his', 'who', 'at', 'two', 'new', 'by', 'on',\n",
       "        'follows', 'young', 'are', 'life', 'woman', 'up', 'their'],\n",
       "       ['documentary', 'thriller', 'film', 'drama', 'that', 'this',\n",
       "        'movie', 'comedy', 'about', 'it', 'director', 'life', 'into',\n",
       "        'from', 'story', 'the', 'her', 'of', 'and', 'as', 'but', 'who',\n",
       "        'woman', 'netflix', 'for', 'an', 'with', 'feature', 'its', 'is',\n",
       "        'to', 'on', 'two', 'at', 'by', 'family', 'in', 'up', 'his',\n",
       "        'are', 'plays', 'new', 'stars', 'their', 'young', 'follows'],\n",
       "       ['documentary', 'netflix', 'movie', 'thriller', 'film', 'comedy',\n",
       "        'her', 'drama', 'this', 'that', 'director', 'it', 'from', 'as',\n",
       "        'its', 'of', 'the', 'about', 'feature', 'his', 'life', 'but',\n",
       "        'into', 'woman', 'story', 'on', 'is', 'for', 'with', 'and', 'at',\n",
       "        'to', 'their', 'by', 'are', 'in', 'an', 'who', 'up', 'two',\n",
       "        'new', 'stars', 'plays', 'family', 'young', 'follows']],\n",
       "      dtype='<U11')"
      ]
     },
     "execution_count": 33,
     "metadata": {},
     "output_type": "execute_result"
    }
   ],
   "source": [
    "topic_words"
   ]
  },
  {
   "cell_type": "markdown",
   "metadata": {},
   "source": [
    "-----"
   ]
  },
  {
   "cell_type": "markdown",
   "metadata": {},
   "source": [
    "# Topic Modeling with OMDB Plots"
   ]
  },
  {
   "cell_type": "markdown",
   "metadata": {},
   "source": [
    "Load in OMDB Data"
   ]
  },
  {
   "cell_type": "code",
   "execution_count": 15,
   "metadata": {},
   "outputs": [],
   "source": [
    "omdb2020 = pd.read_csv(\"data/OMDBData2020.csv\")\n",
    "omdb2020.Plot = omdb2020.Plot.fillna(value=\"\")\n",
    "\n",
    "omdb2021 = pd.read_csv(\"data/OMDBData2021.csv\")\n",
    "omdb2021.Plot = omdb2021.Plot.fillna(value=\"\")\n",
    "\n",
    "omdb = omdb2020.append(omdb2021)"
   ]
  },
  {
   "cell_type": "markdown",
   "metadata": {},
   "source": [
    "Train TFIDF Vectorizer"
   ]
  },
  {
   "cell_type": "code",
   "execution_count": 41,
   "metadata": {},
   "outputs": [],
   "source": [
    "from sklearn.feature_extraction.text import TfidfVectorizer, CountVectorizer\n",
    "import numpy as np\n",
    "\n",
    "tfidf_vectorizer_NMF = TfidfVectorizer(max_features = 20000, # only top 5k by freq\n",
    "                                       lowercase = True, # drop capitalization\n",
    "                                       ngram_range = (1,2), # include up to 2-grams, we can make this only 1 if needed\n",
    "                                       min_df=1,  # note: absolute count of doc\n",
    "                                       token_pattern = r'\\b[a-z]{3,12}\\b',   # remove short, non-word-like terms\n",
    "                                       stop_words='english') # default English stopwords\n",
    "\n",
    "tfidf_documents_NMF = tfidf_vectorizer_NMF.fit_transform(omdb[\"Plot\"])\n",
    "feature_names_NMF = tfidf_vectorizer_NMF.get_feature_names_out()"
   ]
  },
  {
   "cell_type": "markdown",
   "metadata": {},
   "source": [
    "Train NMF for n = 2-10 topics."
   ]
  },
  {
   "cell_type": "code",
   "execution_count": 23,
   "metadata": {},
   "outputs": [
    {
     "name": "stdout",
     "output_type": "stream",
     "text": [
      "2 Topics:\n",
      "[['family', 'young', 'old', 'father', 'year', 'woman', 'year old', 'home', 'mother', 'finds'], ['life', 'new', 'film', 'story', 'world', 'documentary', 'york', 'new york', 'city', 'love']]\n",
      "\n",
      "\n",
      "3 Topics:\n",
      "[['family', 'young', 'old', 'father', 'woman', 'year', 'home', 'year old', 'mother', 'finds'], ['life', 'new', 'film', 'story', 'world', 'documentary', 'york', 'new york', 'city', 'love'], ['school', 'high', 'high school', 'students', 'senior', 'team', 'student', 'school football', 'school students', 'football']]\n",
      "\n",
      "\n",
      "4 Topics:\n",
      "[['family', 'young', 'father', 'woman', 'home', 'mother', 'son', 'wife', 'daughter', 'house'], ['life', 'new', 'film', 'story', 'world', 'documentary', 'york', 'new york', 'love', 'city'], ['school', 'high', 'high school', 'students', 'team', 'senior', 'student', 'school football', 'school students', 'football'], ['year', 'old', 'year old', 'old girl', 'finds', 'love', 'old daughter', 'girl', 'best', 'friend']]\n",
      "\n",
      "\n",
      "5 Topics:\n",
      "[['family', 'father', 'young', 'woman', 'mother', 'home', 'son', 'wife', 'daughter', 'house'], ['life', 'film', 'story', 'world', 'documentary', 'love', 'american', 'music', 'time', 'people'], ['school', 'high', 'high school', 'students', 'team', 'senior', 'student', 'school football', 'school students', 'football'], ['year', 'old', 'year old', 'old girl', 'finds', 'love', 'old daughter', 'girl', 'best', 'friend'], ['new', 'york', 'new york', 'city', 'york city', 'right', 'swiped', 'time new', 'swiped right', 'based']]\n",
      "\n",
      "\n",
      "6 Topics:\n",
      "[['family', 'father', 'young', 'woman', 'mother', 'home', 'son', 'wife', 'daughter', 'house'], ['story', 'film', 'world', 'love', 'documentary', 'american', 'time', 'follows', 'people', 'music'], ['school', 'high', 'high school', 'students', 'senior', 'team', 'student', 'school students', 'school football', 'football'], ['year', 'old', 'year old', 'old girl', 'finds', 'love', 'old daughter', 'girl', 'best', 'friend'], ['new', 'york', 'new york', 'city', 'york city', 'time new', 'swiped', 'swiped right', 'right', 'based'], ['life', 'look', 'work', 'look life', 'life work', 'singer', 'depth look', 'depth', 'songwriter', 'singer songwriter']]\n",
      "\n",
      "\n",
      "7 Topics:\n",
      "[['family', 'father', 'young', 'woman', 'mother', 'home', 'son', 'wife', 'house', 'daughter'], ['world', 'film', 'story', 'documentary', 'american', 'time', 'follows', 'history', 'music', 'people'], ['school', 'high', 'high school', 'students', 'senior', 'team', 'student', 'school students', 'school football', 'football'], ['year', 'old', 'year old', 'old girl', 'finds', 'old daughter', 'girl', 'best', 'friend', 'thousand year'], ['new', 'york', 'new york', 'city', 'york city', 'swiped right', 'time new', 'swiped', 'right', 'based'], ['life', 'look', 'work', 'look life', 'life work', 'singer', 'depth', 'depth look', 'songwriter', 'singer songwriter'], ['love', 'films', 'short films', 'oscar nominated', 'oscar', 'nominated', 'short', 'nominated short', 'sister', 'animation']]\n",
      "\n",
      "\n",
      "8 Topics:\n",
      "[['family', 'father', 'young', 'mother', 'woman', 'home', 'son', 'wife', 'daughter', 'house'], ['world', 'film', 'story', 'documentary', 'american', 'time', 'music', 'follows', 'history', 'lives'], ['school', 'high', 'high school', 'students', 'senior', 'team', 'school students', 'student', 'school football', 'football'], ['year', 'old', 'year old', 'old girl', 'finds', 'old daughter', 'girl', 'best', 'friend', 'thousand year'], ['new', 'york', 'new york', 'city', 'york city', 'swiped right', 'swiped', 'time new', 'right', 'based'], ['life', 'look', 'work', 'look life', 'life work', 'singer', 'depth', 'depth look', 'songwriter', 'singer songwriter'], ['love', 'films', 'short films', 'oscar nominated', 'oscar', 'nominated', 'short', 'nominated short', 'sister', 'animation'], ['town', 'small', 'small town', 'local', 'midwest', 'midwest town', 'moves', 'death', 'community', 'terrorizing']]\n",
      "\n",
      "\n",
      "9 Topics:\n",
      "[['world', 'town', 'fight', 'small', 'way', 'finds', 'mysterious', 'group', 'time', 'local'], ['film', 'story', 'documentary', 'american', 'music', 'history', 'black', 'people', 'follows', 'world'], ['school', 'high', 'high school', 'students', 'senior', 'team', 'school students', 'school football', 'student', 'football'], ['year', 'old', 'year old', 'old girl', 'finds', 'old daughter', 'girl', 'thousand year', 'thousand', 'love'], ['new', 'york', 'new york', 'city', 'york city', 'time new', 'swiped', 'swiped right', 'right', 'based'], ['life', 'look', 'work', 'look life', 'life work', 'depth', 'depth look', 'singer', 'songwriter', 'singer songwriter'], ['love', 'short films', 'oscar nominated', 'films', 'oscar', 'nominated', 'short', 'nominated short', 'sister', 'animation'], ['family', 'home', 'brother', 'new', 'forced', 'trip', 'road', 'mother', 'takes', 'house'], ['young', 'father', 'woman', 'son', 'young woman', 'mother', 'wife', 'daughter', 'girl', 'house']]\n",
      "\n",
      "\n",
      "10 Topics:\n",
      "[['world', 'fight', 'way', 'war', 'time', 'finds', 'mysterious', 'group', 'lives', 'battle'], ['film', 'story', 'documentary', 'american', 'music', 'history', 'black', 'people', 'feature', 'follows'], ['school', 'high school', 'high', 'students', 'senior', 'team', 'school students', 'school football', 'student', 'football'], ['year', 'old', 'year old', 'old girl', 'finds', 'old daughter', 'girl', 'thousand year', 'thousand', 'ground'], ['new', 'york', 'new york', 'city', 'york city', 'swiped', 'swiped right', 'time new', 'right', 'based'], ['life', 'look', 'work', 'look life', 'life work', 'depth', 'depth look', 'singer', 'songwriter', 'singer songwriter'], ['love', 'short films', 'oscar nominated', 'films', 'oscar', 'nominated', 'short', 'nominated short', 'sister', 'animation'], ['family', 'home', 'brother', 'new', 'forced', 'trip', 'road', 'mother', 'takes', 'house'], ['young', 'father', 'woman', 'son', 'young woman', 'mother', 'daughter', 'wife', 'girl', 'house'], ['town', 'small', 'small town', 'midwest', 'local', 'midwest town', 'moves', 'community', 'terrorizing', 'home']]\n",
      "\n",
      "\n"
     ]
    }
   ],
   "source": [
    "from sklearn.decomposition import NMF\n",
    "for num_topics in range(2, 11):\n",
    "    nmf = NMF(\n",
    "        n_components=num_topics,\n",
    "        init='nndsvd', \n",
    "        random_state = 42\n",
    "        )\n",
    "    W = nmf.fit_transform(tfidf_documents_NMF)\n",
    "    H = nmf.components_\n",
    "    top_components = np.argsort(-H)[:, :10]\n",
    "    \n",
    "    topics = []\n",
    "    for t in top_components:\n",
    "        topic_words = []\n",
    "        for w in t:\n",
    "            topic_words.append(feature_names_NMF[w])\n",
    "        topics.append(topic_words)\n",
    "        \n",
    "    print(f\"{num_topics} Topics:\")\n",
    "    print(topics)\n",
    "    print(\"\\n\")\n",
    "        "
   ]
  },
  {
   "cell_type": "markdown",
   "metadata": {},
   "source": [
    "------"
   ]
  }
 ],
 "metadata": {
  "kernelspec": {
   "display_name": "Python 3",
   "language": "python",
   "name": "python3"
  },
  "language_info": {
   "codemirror_mode": {
    "name": "ipython",
    "version": 3
   },
   "file_extension": ".py",
   "mimetype": "text/x-python",
   "name": "python",
   "nbconvert_exporter": "python",
   "pygments_lexer": "ipython3",
   "version": "3.7.3"
  }
 },
 "nbformat": 4,
 "nbformat_minor": 4
}
