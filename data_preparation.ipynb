{
 "cells": [
  {
   "cell_type": "code",
   "execution_count": 7,
   "metadata": {},
   "outputs": [],
   "source": [
    "import pandas as pd\n",
    "import numpy as np\n",
    "from ast import literal_eval\n",
    "import re\n",
    "import glob, os\n",
    "import requests\n",
    "from bs4 import BeautifulSoup\n",
    "from DataCleaning import get_nyt_review_text"
   ]
  },
  {
   "cell_type": "code",
   "execution_count": 10,
   "metadata": {},
   "outputs": [],
   "source": [
    "omdb_files = glob.glob(os.path.join(r'data', \"OMDBData*.csv\"))\n",
    "nyt_files = glob.glob(os.path.join(r'data', \"NYTData*.csv\"))\n",
    "\n",
    "omdb_df_temp = (pd.read_csv(f) for f in omdb_files)\n",
    "nyt_df_temp = (pd.read_csv(f) for f in nyt_files)\n",
    "omdb_df   = pd.concat(omdb_df_temp, ignore_index=True)\n",
    "nyt_df   = pd.concat(nyt_df_temp, ignore_index=True)\n",
    "omdb_df = omdb_df.loc[:, ~omdb_df.columns.str.contains('^Unnamed')]\n",
    "nyt_df = nyt_df.loc[:, ~nyt_df.columns.str.contains('^Unnamed')]"
   ]
  },
  {
   "cell_type": "code",
   "execution_count": null,
   "metadata": {},
   "outputs": [],
   "source": [
    "# Clean OMDB Ratings\n",
    "omdb_df[\"Ratings\"]=omdb_df[\"Ratings\"].apply(literal_eval).apply(lambda x: dict([list(d.values()) for d in x]))\n",
    "unpacked_ratings_df=omdb_df[\"Ratings\"].apply(pd.Series)\n",
    "omdb_df=omdb_df.join(unpacked_ratings_df)\n",
    "omdb_df[\"Internet Movie Database\"]=omdb_df[\"Internet Movie Database\"].str.extract(r\"(.*?)\\/\").astype(float)\n",
    "omdb_df[\"Rotten Tomatoes\"]= omdb_df[\"Rotten Tomatoes\"].str.extract(r\"(.*?)\\%\").astype(float)\n",
    "omdb_df[\"Metacritic\"]=omdb_df[\"Metacritic\"].str.extract(r\"(.*?)\\/\").astype(float)"
   ]
  },
  {
   "cell_type": "code",
   "execution_count": null,
   "metadata": {},
   "outputs": [],
   "source": [
    "# Scrape NYT movie reviews for full text:\n",
    "nyt_df['review_text']=nyt_df['link'].apply(lambda x: get_nyt_review_text(literal_eval(x)['url']))\n",
    "nyt_df.to_csv(\"data/NYTData_wReviewText.csv\",encoding='utf-8-sig')"
   ]
  }
 ],
 "metadata": {
  "interpreter": {
   "hash": "ecf5722fdaf1897a315d257d89d94520bfcaa453217d5becf09b39e73618b0de"
  },
  "kernelspec": {
   "display_name": "Python 3.8.12 64-bit ('base': conda)",
   "language": "python",
   "name": "python3"
  },
  "language_info": {
   "codemirror_mode": {
    "name": "ipython",
    "version": 3
   },
   "file_extension": ".py",
   "mimetype": "text/x-python",
   "name": "python",
   "nbconvert_exporter": "python",
   "pygments_lexer": "ipython3",
   "version": "3.8.12"
  },
  "orig_nbformat": 4
 },
 "nbformat": 4,
 "nbformat_minor": 2
}
