{
 "cells": [
  {
   "cell_type": "code",
   "execution_count": 1,
   "metadata": {},
   "outputs": [],
   "source": [
    "import pandas as pd\n",
    "import numpy as np\n",
    "from ast import literal_eval\n",
    "import re\n",
    "import glob, os\n",
    "import requests\n",
    "from bs4 import BeautifulSoup\n",
    "from DataCleaning import get_nyt_review_text,get_omdb_awards"
   ]
  },
  {
   "cell_type": "code",
   "execution_count": null,
   "metadata": {},
   "outputs": [],
   "source": [
    "# Scrape NYT movie reviews for full text:\n",
    "# --- step completed; no need to re-run; commenting out for record-keeping\n",
    "\n",
    "# nyt_files = glob.glob(os.path.join(r'data', \"NYTData20*.csv\"))\n",
    "# nyt_df_temp = (pd.read_csv(f) for f in nyt_files)\n",
    "# nyt_df   = pd.concat(nyt_df_temp, ignore_index=True)\n",
    "# nyt_df = nyt_df.loc[:, ~nyt_df.columns.str.contains('^Unnamed')]\n",
    "# nyt_df['review_text']=nyt_df['link'].apply(lambda x: get_nyt_review_text(literal_eval(x)['url']))\n",
    "# nyt_df.to_csv(\"data/NYTData_wReviewText.csv\",encoding='utf-8-sig')\n",
    "\n",
    "# Read Cleaned CSV:\n",
    "nyt_df=pd.read_csv(\"data/NYTData_wReviewText.csv\", parse_dates=[\"publication_date\",\"opening_date\",\"date_updated\"])\n",
    "nyt_df = nyt_df.loc[:, ~nyt_df.columns.str.contains('^Unnamed')]\n",
    "nyt_df=nyt_df[nyt_df[\"publication_date\"].dt.year >= 2020] #Only 2020 and 2021 data"
   ]
  },
  {
   "cell_type": "code",
   "execution_count": 6,
   "metadata": {},
   "outputs": [],
   "source": [
    "#Read OMDB Data from API calls:\n",
    "omdb_files = glob.glob(os.path.join(r'data', \"OMDBData202*.csv\")) #Only 2020 and 2021 data\n",
    "omdb_df_temp = (pd.read_csv(f,parse_dates=[\"Released\",\"DVD\"],thousands=',') for f in omdb_files)\n",
    "omdb_df   = pd.concat(omdb_df_temp, ignore_index=True)\n",
    "omdb_df = omdb_df.loc[:, ~omdb_df.columns.str.contains('^Unnamed')]\n",
    "\n",
    "#Remove Duplicates based on unique imdbID:\n",
    "omdb_df.drop_duplicates([\"imdbID\"],inplace=True)\n",
    "\n",
    "#For movies with similar names, select more popular movie (more likely to be reviewed by NYT):\n",
    "omdb_df=omdb_df.sort_values(by=\"imdbVotes\",ascending=False,ignore_index=True)\n",
    "omdb_df.drop_duplicates([\"Title\"],inplace=True)\n",
    "\n",
    "# Clean OMDB Ratings:\n",
    "omdb_df[\"Ratings\"] = omdb_df[\"Ratings\"].apply(literal_eval).apply(lambda x: dict([list(d.values()) for d in x]))\n",
    "unpacked_ratings_df = omdb_df[\"Ratings\"].apply(pd.Series)\n",
    "omdb_df = omdb_df.join(unpacked_ratings_df)\n",
    "omdb_df[\"Internet Movie Database\"] = omdb_df[\"Internet Movie Database\"].str.extract(r\"(.*?)\\/\").astype(float)\n",
    "omdb_df[\"Rotten Tomatoes\"] = omdb_df[\"Rotten Tomatoes\"].str.extract(r\"(.*?)\\%\").astype(float)\n",
    "omdb_df[\"Metacritic\"] = omdb_df[\"Metacritic\"].str.extract(r\"(.*?)\\/\").astype(float)\n",
    "omdb_df[\"Released\"].dt.strftime('%Y-%m-%d');\n",
    "\n",
    "#Convert runtimes to integer values\n",
    "omdb_df[\"Runtime\"]=omdb_df[\"Runtime\"].apply(lambda x: re.findall(r\"\\d+\",x)[0] if \"min\" in str(x) else x).astype(float)\n",
    "omdb_df=omdb_df.rename({'Runtime': 'Runtime_mins'}, axis=1) #for clarity\n",
    "\n",
    "#Get awards\n",
    "omdb_df[['oscar_wins', 'oscar_noms','emmy_wins','emmy_noms','total_wins','total_noms']] = omdb_df.apply(get_omdb_awards, axis=1, result_type=\"expand\")\n",
    "\n",
    "#Convert Box Office numbers to float:\n",
    "omdb_df[\"BoxOffice\"] = omdb_df[\"BoxOffice\"].replace('[\\$,]', '', regex=True).astype(float)"
   ]
  },
  {
   "cell_type": "code",
   "execution_count": null,
   "metadata": {},
   "outputs": [],
   "source": [
    "# Join OMDB and NYT DFs\n",
    "joined_df=pd.merge(omdb_df, nyt_df,  how='inner', left_on=['Title'], right_on = ['display_title'])\n",
    "\n",
    "#Write joined df:\n",
    "joined_df.to_csv(\"data/joined_df.csv\",encoding='utf-8-sig')"
   ]
  }
 ],
 "metadata": {
  "interpreter": {
   "hash": "ecf5722fdaf1897a315d257d89d94520bfcaa453217d5becf09b39e73618b0de"
  },
  "kernelspec": {
   "display_name": "Python 3.8.12 64-bit ('base': conda)",
   "language": "python",
   "name": "python3"
  },
  "language_info": {
   "codemirror_mode": {
    "name": "ipython",
    "version": 3
   },
   "file_extension": ".py",
   "mimetype": "text/x-python",
   "name": "python",
   "nbconvert_exporter": "python",
   "pygments_lexer": "ipython3",
   "version": "3.8.12"
  },
  "orig_nbformat": 4
 },
 "nbformat": 4,
 "nbformat_minor": 2
}
