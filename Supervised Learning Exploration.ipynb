{
 "cells": [
  {
   "cell_type": "code",
   "execution_count": 539,
   "id": "6a769906",
   "metadata": {},
   "outputs": [],
   "source": [
    "import matplotlib.pyplot as plt\n",
    "import numpy as np\n",
    "import pandas as pd\n",
    "import re\n",
    "from sklearn.linear_model import LogisticRegression\n",
    "from sklearn.metrics import classification_report, confusion_matrix\n",
    "from sklearn.metrics import f1_score"
   ]
  },
  {
   "cell_type": "code",
   "execution_count": 540,
   "id": "950fb619",
   "metadata": {},
   "outputs": [],
   "source": [
    "# read in all data (downloaded and renamed from joined_df in Github)\n",
    "all_data = pd.read_csv('data_movie_reviews.csv')"
   ]
  },
  {
   "cell_type": "markdown",
   "id": "3d55d3fa",
   "metadata": {},
   "source": [
    "# Data Exploration and Cleaning"
   ]
  },
  {
   "cell_type": "code",
   "execution_count": 541,
   "id": "44d9b9ea",
   "metadata": {},
   "outputs": [
    {
     "data": {
      "text/plain": [
       "array(['2020', '2021', '2019', '2001', '2020–', '1930', '2013', '2018',\n",
       "       '2016', '2005', '1945', '2017', '1980', '1981', '1979', '2004',\n",
       "       '2014', '2007', '2010', '1976', '2012', '2000', '1992', '2008',\n",
       "       '1982', '1978', '2015', '2011', '2021–', '1974'], dtype=object)"
      ]
     },
     "execution_count": 541,
     "metadata": {},
     "output_type": "execute_result"
    }
   ],
   "source": [
    "# found a problem with filtering by year so checking those values\n",
    "all_data['Year'].unique()"
   ]
  },
  {
   "cell_type": "code",
   "execution_count": 542,
   "id": "c404b1ea",
   "metadata": {},
   "outputs": [],
   "source": [
    "# remove dashes\n",
    "all_data['Year'] = all_data['Year'].apply(lambda x: re.sub(r'[\\W_]+', '', x))"
   ]
  },
  {
   "cell_type": "code",
   "execution_count": 543,
   "id": "e76ca220",
   "metadata": {},
   "outputs": [
    {
     "data": {
      "text/plain": [
       "Index(['Unnamed: 0', 'Title', 'Year', 'Rated', 'Released', 'Runtime_mins',\n",
       "       'Genre', 'Director', 'Writer', 'Actors', 'Plot', 'Language', 'Country',\n",
       "       'Awards', 'Poster', 'Ratings', 'Metascore', 'imdbRating', 'imdbVotes',\n",
       "       'imdbID', 'Type', 'DVD', 'BoxOffice', 'Production', 'Website',\n",
       "       'Response', 'totalSeasons', 'Internet Movie Database',\n",
       "       'Rotten Tomatoes', 'Metacritic', 'oscar_wins', 'oscar_noms',\n",
       "       'emmy_wins', 'emmy_noms', 'total_wins', 'total_noms', 'display_title',\n",
       "       'mpaa_rating', 'critics_pick', 'byline', 'headline', 'summary_short',\n",
       "       'publication_date', 'opening_date', 'date_updated', 'link',\n",
       "       'multimedia', 'review_text'],\n",
       "      dtype='object')"
      ]
     },
     "execution_count": 543,
     "metadata": {},
     "output_type": "execute_result"
    }
   ],
   "source": [
    "# now let's explore some of the distributions of some of the variables\n",
    "all_data.columns"
   ]
  },
  {
   "cell_type": "code",
   "execution_count": 544,
   "id": "4b7a6153",
   "metadata": {},
   "outputs": [
    {
     "data": {
      "text/plain": [
       "<AxesSubplot:>"
      ]
     },
     "execution_count": 544,
     "metadata": {},
     "output_type": "execute_result"
    },
    {
     "data": {
      "image/png": "[encoded data removed]",
      "text/plain": [
       "<Figure size 432x288 with 1 Axes>"
      ]
     },
     "metadata": {
      "needs_background": "light"
     },
     "output_type": "display_data"
    }
   ],
   "source": [
    "# critics pick (what we are predicting)\n",
    "all_data['critics_pick'].value_counts().plot(kind = 'bar')\n",
    "# looks like most are not critics pick"
   ]
  },
  {
   "cell_type": "code",
   "execution_count": 545,
   "id": "2f92004d",
   "metadata": {},
   "outputs": [
    {
     "data": {
      "text/plain": [
       "{'G',\n",
       " 'MA-17',\n",
       " 'Not Rated',\n",
       " 'PG',\n",
       " 'PG-13',\n",
       " 'R',\n",
       " 'TV-14',\n",
       " 'TV-G',\n",
       " 'TV-MA',\n",
       " 'TV-PG',\n",
       " 'TV-Y7',\n",
       " 'Unrated',\n",
       " nan}"
      ]
     },
     "execution_count": 545,
     "metadata": {},
     "output_type": "execute_result"
    }
   ],
   "source": [
    "set(all_data['Rated'])"
   ]
  },
  {
   "cell_type": "code",
   "execution_count": 546,
   "id": "0447f0a3",
   "metadata": {},
   "outputs": [
    {
     "data": {
      "text/plain": [
       "<AxesSubplot:>"
      ]
     },
     "execution_count": 546,
     "metadata": {},
     "output_type": "execute_result"
    },
    {
     "data": {
      "image/png": "[encoded data removed]",
      "text/plain": [
       "<Figure size 432x288 with 1 Axes>"
      ]
     },
     "metadata": {
      "needs_background": "light"
     },
     "output_type": "display_data"
    }
   ],
   "source": [
    "# rating\n",
    "all_data['Rated'].value_counts().plot(kind = 'bar')"
   ]
  },
  {
   "cell_type": "code",
   "execution_count": 547,
   "id": "cb7f98cf",
   "metadata": {},
   "outputs": [
    {
     "data": {
      "image/png": "[encoded data removed]",
      "text/plain": [
       "<Figure size 720x432 with 1 Axes>"
      ]
     },
     "metadata": {
      "needs_background": "light"
     },
     "output_type": "display_data"
    }
   ],
   "source": [
    "# now we can look at each by critics choice -- doesn't look like huge chunk of any one genre has critics choice\n",
    "cross_tab_prop = pd.crosstab(index=all_data['Rated'],\n",
    "                             columns=all_data['critics_pick'])\n",
    "cross_tab_prop.plot(kind='bar', \n",
    "                    stacked=True, \n",
    "                    colormap='tab10', \n",
    "                    figsize=(10, 6))\n",
    "\n",
    "plt.legend(loc=\"upper left\", ncol=2)\n",
    "plt.xlabel(\"Rated\")\n",
    "plt.ylabel(\"Count\")\n",
    "plt.show()"
   ]
  },
  {
   "cell_type": "code",
   "execution_count": 548,
   "id": "0b232d07",
   "metadata": {},
   "outputs": [
    {
     "data": {
      "text/plain": [
       "[nan,\n",
       " 'PG-13',\n",
       " 'PG',\n",
       " 'G',\n",
       " 'TV-G',\n",
       " 'TV-MA',\n",
       " 'TV-14',\n",
       " 'R',\n",
       " 'Unrated',\n",
       " 'TV-PG',\n",
       " 'Not Rated',\n",
       " 'MA-17',\n",
       " 'TV-Y7']"
      ]
     },
     "execution_count": 548,
     "metadata": {},
     "output_type": "execute_result"
    }
   ],
   "source": [
    "list(set(all_data['Rated']))"
   ]
  },
  {
   "cell_type": "code",
   "execution_count": 549,
   "id": "5bcc0512",
   "metadata": {},
   "outputs": [],
   "source": [
    "# now create a variable for each rating and assign 1 if that rating\n",
    "for rating in list(set(all_data['Rated'])):\n",
    "    values = []\n",
    "    for listed_rating in all_data['Rated']:\n",
    "            if listed_rating == rating:\n",
    "                values.append(1)\n",
    "            else:\n",
    "                values.append(0)\n",
    "    all_data[rating] = values"
   ]
  },
  {
   "cell_type": "code",
   "execution_count": 550,
   "id": "d5fa5d71",
   "metadata": {},
   "outputs": [
    {
     "data": {
      "text/plain": [
       "Documentary                  233\n",
       "Drama                        144\n",
       "Comedy, Drama                 46\n",
       "Comedy                        28\n",
       "Drama, Horror, Mystery        27\n",
       "                            ... \n",
       "Action, Comedy, Horror         1\n",
       "Drama, Family, Fantasy         1\n",
       "Documentary, Crime, Sport      1\n",
       "Comedy, Family, Romance        1\n",
       "Short, Comedy                  1\n",
       "Name: Genre, Length: 235, dtype: int64"
      ]
     },
     "execution_count": 550,
     "metadata": {},
     "output_type": "execute_result"
    }
   ],
   "source": [
    "# Genre\n",
    "all_data['Genre'].value_counts()"
   ]
  },
  {
   "cell_type": "code",
   "execution_count": 551,
   "id": "07ea3c2e",
   "metadata": {},
   "outputs": [
    {
     "data": {
      "text/plain": [
       "['Documentary',\n",
       " 'Drama',\n",
       " 'Sport',\n",
       " 'Mystery',\n",
       " 'Action',\n",
       " 'Animation',\n",
       " 'Thriller',\n",
       " 'Family',\n",
       " 'Western',\n",
       " 'Comedy',\n",
       " 'Fantasy',\n",
       " 'Romance',\n",
       " 'Crime',\n",
       " 'History',\n",
       " 'Talk-Show',\n",
       " 'Adventure',\n",
       " 'War',\n",
       " 'Musical',\n",
       " 'Music',\n",
       " 'Horror',\n",
       " 'Biography',\n",
       " 'Short',\n",
       " 'Sci-Fi',\n",
       " 'nan']"
      ]
     },
     "execution_count": 551,
     "metadata": {},
     "output_type": "execute_result"
    }
   ],
   "source": [
    "# let's clean that up a bit\n",
    "# find the unique genres\n",
    "all_genres = []\n",
    "all_data['Genre'] = all_data['Genre'].astype(str)\n",
    "for genres_string in list(all_data['Genre']):\n",
    "    genre_list = genres_string.split(',')\n",
    "    for genre in genre_list:\n",
    "        all_genres.append(genre.strip())\n",
    "unique_genres = list(set(all_genres))\n",
    "unique_genres"
   ]
  },
  {
   "cell_type": "code",
   "execution_count": 552,
   "id": "99cc4547",
   "metadata": {},
   "outputs": [],
   "source": [
    "# now create a variable for each genre and assign 1 if listed for genre description\n",
    "for genre in unique_genres:\n",
    "    values = []\n",
    "    for genre_description in all_data['Genre']:\n",
    "        if genre in genre_description:\n",
    "            values.append(1)\n",
    "        else:\n",
    "            values.append(0)\n",
    "    all_data[genre] = values"
   ]
  },
  {
   "cell_type": "code",
   "execution_count": 553,
   "id": "b0896f17",
   "metadata": {},
   "outputs": [],
   "source": [
    "# moving genre to end of dataframe with assignments\n",
    "genre = all_data.pop('Genre')\n",
    "all_data['genre'] = genre"
   ]
  },
  {
   "cell_type": "code",
   "execution_count": 554,
   "id": "faadfc49",
   "metadata": {},
   "outputs": [
    {
     "data": {
      "text/html": [
       "<div>\n",
       "<style scoped>\n",
       "    .dataframe tbody tr th:only-of-type {\n",
       "        vertical-align: middle;\n",
       "    }\n",
       "\n",
       "    .dataframe tbody tr th {\n",
       "        vertical-align: top;\n",
       "    }\n",
       "\n",
       "    .dataframe thead th {\n",
       "        text-align: right;\n",
       "    }\n",
       "</style>\n",
       "<table border=\"1\" class=\"dataframe\">\n",
       "  <thead>\n",
       "    <tr style=\"text-align: right;\">\n",
       "      <th></th>\n",
       "      <th>Documentary</th>\n",
       "      <th>Drama</th>\n",
       "      <th>Sport</th>\n",
       "      <th>Mystery</th>\n",
       "      <th>Action</th>\n",
       "      <th>Animation</th>\n",
       "      <th>Thriller</th>\n",
       "      <th>Family</th>\n",
       "      <th>Western</th>\n",
       "      <th>Comedy</th>\n",
       "      <th>...</th>\n",
       "      <th>Adventure</th>\n",
       "      <th>War</th>\n",
       "      <th>Musical</th>\n",
       "      <th>Music</th>\n",
       "      <th>Horror</th>\n",
       "      <th>Biography</th>\n",
       "      <th>Short</th>\n",
       "      <th>Sci-Fi</th>\n",
       "      <th>nan</th>\n",
       "      <th>genre</th>\n",
       "    </tr>\n",
       "  </thead>\n",
       "  <tbody>\n",
       "    <tr>\n",
       "      <th>0</th>\n",
       "      <td>0</td>\n",
       "      <td>0</td>\n",
       "      <td>0</td>\n",
       "      <td>0</td>\n",
       "      <td>1</td>\n",
       "      <td>0</td>\n",
       "      <td>1</td>\n",
       "      <td>0</td>\n",
       "      <td>0</td>\n",
       "      <td>0</td>\n",
       "      <td>...</td>\n",
       "      <td>0</td>\n",
       "      <td>0</td>\n",
       "      <td>0</td>\n",
       "      <td>0</td>\n",
       "      <td>0</td>\n",
       "      <td>0</td>\n",
       "      <td>0</td>\n",
       "      <td>1</td>\n",
       "      <td>0</td>\n",
       "      <td>Action, Sci-Fi, Thriller</td>\n",
       "    </tr>\n",
       "    <tr>\n",
       "      <th>1</th>\n",
       "      <td>0</td>\n",
       "      <td>1</td>\n",
       "      <td>0</td>\n",
       "      <td>0</td>\n",
       "      <td>1</td>\n",
       "      <td>0</td>\n",
       "      <td>0</td>\n",
       "      <td>0</td>\n",
       "      <td>0</td>\n",
       "      <td>0</td>\n",
       "      <td>...</td>\n",
       "      <td>1</td>\n",
       "      <td>0</td>\n",
       "      <td>0</td>\n",
       "      <td>0</td>\n",
       "      <td>0</td>\n",
       "      <td>0</td>\n",
       "      <td>0</td>\n",
       "      <td>0</td>\n",
       "      <td>0</td>\n",
       "      <td>Action, Adventure, Drama</td>\n",
       "    </tr>\n",
       "    <tr>\n",
       "      <th>2</th>\n",
       "      <td>0</td>\n",
       "      <td>0</td>\n",
       "      <td>0</td>\n",
       "      <td>0</td>\n",
       "      <td>1</td>\n",
       "      <td>0</td>\n",
       "      <td>0</td>\n",
       "      <td>0</td>\n",
       "      <td>0</td>\n",
       "      <td>0</td>\n",
       "      <td>...</td>\n",
       "      <td>1</td>\n",
       "      <td>0</td>\n",
       "      <td>0</td>\n",
       "      <td>0</td>\n",
       "      <td>0</td>\n",
       "      <td>0</td>\n",
       "      <td>0</td>\n",
       "      <td>0</td>\n",
       "      <td>0</td>\n",
       "      <td>Action, Adventure, Fantasy</td>\n",
       "    </tr>\n",
       "    <tr>\n",
       "      <th>3</th>\n",
       "      <td>0</td>\n",
       "      <td>0</td>\n",
       "      <td>0</td>\n",
       "      <td>0</td>\n",
       "      <td>0</td>\n",
       "      <td>1</td>\n",
       "      <td>0</td>\n",
       "      <td>0</td>\n",
       "      <td>0</td>\n",
       "      <td>1</td>\n",
       "      <td>...</td>\n",
       "      <td>1</td>\n",
       "      <td>0</td>\n",
       "      <td>0</td>\n",
       "      <td>0</td>\n",
       "      <td>0</td>\n",
       "      <td>0</td>\n",
       "      <td>0</td>\n",
       "      <td>0</td>\n",
       "      <td>0</td>\n",
       "      <td>Animation, Adventure, Comedy</td>\n",
       "    </tr>\n",
       "    <tr>\n",
       "      <th>4</th>\n",
       "      <td>0</td>\n",
       "      <td>0</td>\n",
       "      <td>0</td>\n",
       "      <td>0</td>\n",
       "      <td>0</td>\n",
       "      <td>1</td>\n",
       "      <td>0</td>\n",
       "      <td>0</td>\n",
       "      <td>0</td>\n",
       "      <td>1</td>\n",
       "      <td>...</td>\n",
       "      <td>1</td>\n",
       "      <td>0</td>\n",
       "      <td>0</td>\n",
       "      <td>0</td>\n",
       "      <td>0</td>\n",
       "      <td>0</td>\n",
       "      <td>0</td>\n",
       "      <td>0</td>\n",
       "      <td>0</td>\n",
       "      <td>Animation, Adventure, Comedy</td>\n",
       "    </tr>\n",
       "    <tr>\n",
       "      <th>...</th>\n",
       "      <td>...</td>\n",
       "      <td>...</td>\n",
       "      <td>...</td>\n",
       "      <td>...</td>\n",
       "      <td>...</td>\n",
       "      <td>...</td>\n",
       "      <td>...</td>\n",
       "      <td>...</td>\n",
       "      <td>...</td>\n",
       "      <td>...</td>\n",
       "      <td>...</td>\n",
       "      <td>...</td>\n",
       "      <td>...</td>\n",
       "      <td>...</td>\n",
       "      <td>...</td>\n",
       "      <td>...</td>\n",
       "      <td>...</td>\n",
       "      <td>...</td>\n",
       "      <td>...</td>\n",
       "      <td>...</td>\n",
       "      <td>...</td>\n",
       "    </tr>\n",
       "    <tr>\n",
       "      <th>1222</th>\n",
       "      <td>0</td>\n",
       "      <td>0</td>\n",
       "      <td>0</td>\n",
       "      <td>0</td>\n",
       "      <td>1</td>\n",
       "      <td>0</td>\n",
       "      <td>0</td>\n",
       "      <td>0</td>\n",
       "      <td>0</td>\n",
       "      <td>0</td>\n",
       "      <td>...</td>\n",
       "      <td>0</td>\n",
       "      <td>0</td>\n",
       "      <td>0</td>\n",
       "      <td>0</td>\n",
       "      <td>0</td>\n",
       "      <td>0</td>\n",
       "      <td>1</td>\n",
       "      <td>0</td>\n",
       "      <td>0</td>\n",
       "      <td>Short, Action</td>\n",
       "    </tr>\n",
       "    <tr>\n",
       "      <th>1223</th>\n",
       "      <td>0</td>\n",
       "      <td>1</td>\n",
       "      <td>0</td>\n",
       "      <td>0</td>\n",
       "      <td>0</td>\n",
       "      <td>0</td>\n",
       "      <td>0</td>\n",
       "      <td>0</td>\n",
       "      <td>0</td>\n",
       "      <td>0</td>\n",
       "      <td>...</td>\n",
       "      <td>0</td>\n",
       "      <td>0</td>\n",
       "      <td>0</td>\n",
       "      <td>0</td>\n",
       "      <td>0</td>\n",
       "      <td>0</td>\n",
       "      <td>1</td>\n",
       "      <td>0</td>\n",
       "      <td>0</td>\n",
       "      <td>Short, Drama</td>\n",
       "    </tr>\n",
       "    <tr>\n",
       "      <th>1224</th>\n",
       "      <td>0</td>\n",
       "      <td>1</td>\n",
       "      <td>0</td>\n",
       "      <td>0</td>\n",
       "      <td>0</td>\n",
       "      <td>0</td>\n",
       "      <td>0</td>\n",
       "      <td>0</td>\n",
       "      <td>0</td>\n",
       "      <td>0</td>\n",
       "      <td>...</td>\n",
       "      <td>0</td>\n",
       "      <td>0</td>\n",
       "      <td>0</td>\n",
       "      <td>0</td>\n",
       "      <td>0</td>\n",
       "      <td>0</td>\n",
       "      <td>0</td>\n",
       "      <td>0</td>\n",
       "      <td>0</td>\n",
       "      <td>Crime, Drama</td>\n",
       "    </tr>\n",
       "    <tr>\n",
       "      <th>1225</th>\n",
       "      <td>0</td>\n",
       "      <td>1</td>\n",
       "      <td>0</td>\n",
       "      <td>0</td>\n",
       "      <td>1</td>\n",
       "      <td>0</td>\n",
       "      <td>0</td>\n",
       "      <td>0</td>\n",
       "      <td>0</td>\n",
       "      <td>0</td>\n",
       "      <td>...</td>\n",
       "      <td>0</td>\n",
       "      <td>0</td>\n",
       "      <td>0</td>\n",
       "      <td>0</td>\n",
       "      <td>0</td>\n",
       "      <td>0</td>\n",
       "      <td>0</td>\n",
       "      <td>0</td>\n",
       "      <td>0</td>\n",
       "      <td>Action, Crime, Drama</td>\n",
       "    </tr>\n",
       "    <tr>\n",
       "      <th>1226</th>\n",
       "      <td>0</td>\n",
       "      <td>0</td>\n",
       "      <td>0</td>\n",
       "      <td>0</td>\n",
       "      <td>0</td>\n",
       "      <td>0</td>\n",
       "      <td>0</td>\n",
       "      <td>0</td>\n",
       "      <td>0</td>\n",
       "      <td>1</td>\n",
       "      <td>...</td>\n",
       "      <td>0</td>\n",
       "      <td>0</td>\n",
       "      <td>0</td>\n",
       "      <td>0</td>\n",
       "      <td>0</td>\n",
       "      <td>0</td>\n",
       "      <td>1</td>\n",
       "      <td>0</td>\n",
       "      <td>0</td>\n",
       "      <td>Short, Comedy</td>\n",
       "    </tr>\n",
       "  </tbody>\n",
       "</table>\n",
       "<p>1227 rows × 25 columns</p>\n",
       "</div>"
      ],
      "text/plain": [
       "      Documentary  Drama  Sport  Mystery  Action  Animation  Thriller  Family  \\\n",
       "0               0      0      0        0       1          0         1       0   \n",
       "1               0      1      0        0       1          0         0       0   \n",
       "2               0      0      0        0       1          0         0       0   \n",
       "3               0      0      0        0       0          1         0       0   \n",
       "4               0      0      0        0       0          1         0       0   \n",
       "...           ...    ...    ...      ...     ...        ...       ...     ...   \n",
       "1222            0      0      0        0       1          0         0       0   \n",
       "1223            0      1      0        0       0          0         0       0   \n",
       "1224            0      1      0        0       0          0         0       0   \n",
       "1225            0      1      0        0       1          0         0       0   \n",
       "1226            0      0      0        0       0          0         0       0   \n",
       "\n",
       "      Western  Comedy  ...  Adventure  War  Musical  Music  Horror  Biography  \\\n",
       "0           0       0  ...          0    0        0      0       0          0   \n",
       "1           0       0  ...          1    0        0      0       0          0   \n",
       "2           0       0  ...          1    0        0      0       0          0   \n",
       "3           0       1  ...          1    0        0      0       0          0   \n",
       "4           0       1  ...          1    0        0      0       0          0   \n",
       "...       ...     ...  ...        ...  ...      ...    ...     ...        ...   \n",
       "1222        0       0  ...          0    0        0      0       0          0   \n",
       "1223        0       0  ...          0    0        0      0       0          0   \n",
       "1224        0       0  ...          0    0        0      0       0          0   \n",
       "1225        0       0  ...          0    0        0      0       0          0   \n",
       "1226        0       1  ...          0    0        0      0       0          0   \n",
       "\n",
       "      Short  Sci-Fi  nan                         genre  \n",
       "0         0       1    0      Action, Sci-Fi, Thriller  \n",
       "1         0       0    0      Action, Adventure, Drama  \n",
       "2         0       0    0    Action, Adventure, Fantasy  \n",
       "3         0       0    0  Animation, Adventure, Comedy  \n",
       "4         0       0    0  Animation, Adventure, Comedy  \n",
       "...     ...     ...  ...                           ...  \n",
       "1222      1       0    0                 Short, Action  \n",
       "1223      1       0    0                  Short, Drama  \n",
       "1224      0       0    0                  Crime, Drama  \n",
       "1225      0       0    0          Action, Crime, Drama  \n",
       "1226      1       0    0                 Short, Comedy  \n",
       "\n",
       "[1227 rows x 25 columns]"
      ]
     },
     "execution_count": 554,
     "metadata": {},
     "output_type": "execute_result"
    }
   ],
   "source": [
    "# now viewing changes made\n",
    "all_data.iloc[: , -25:]"
   ]
  },
  {
   "cell_type": "code",
   "execution_count": 555,
   "id": "5b52b0bd",
   "metadata": {},
   "outputs": [],
   "source": [
    "# looks good! we'll remove the nan column as it is not needed\n",
    "all_data = all_data.drop(columns = ['nan'])"
   ]
  },
  {
   "cell_type": "code",
   "execution_count": 556,
   "id": "9aa0983e",
   "metadata": {},
   "outputs": [
    {
     "data": {
      "text/html": [
       "<div>\n",
       "<style scoped>\n",
       "    .dataframe tbody tr th:only-of-type {\n",
       "        vertical-align: middle;\n",
       "    }\n",
       "\n",
       "    .dataframe tbody tr th {\n",
       "        vertical-align: top;\n",
       "    }\n",
       "\n",
       "    .dataframe thead th {\n",
       "        text-align: right;\n",
       "    }\n",
       "</style>\n",
       "<table border=\"1\" class=\"dataframe\">\n",
       "  <thead>\n",
       "    <tr style=\"text-align: right;\">\n",
       "      <th></th>\n",
       "      <th>Documentary</th>\n",
       "      <th>Drama</th>\n",
       "      <th>Sport</th>\n",
       "      <th>Mystery</th>\n",
       "      <th>Action</th>\n",
       "      <th>Animation</th>\n",
       "      <th>Thriller</th>\n",
       "      <th>Family</th>\n",
       "      <th>Western</th>\n",
       "      <th>Comedy</th>\n",
       "      <th>...</th>\n",
       "      <th>History</th>\n",
       "      <th>Talk-Show</th>\n",
       "      <th>Adventure</th>\n",
       "      <th>War</th>\n",
       "      <th>Musical</th>\n",
       "      <th>Music</th>\n",
       "      <th>Horror</th>\n",
       "      <th>Biography</th>\n",
       "      <th>Short</th>\n",
       "      <th>Sci-Fi</th>\n",
       "    </tr>\n",
       "  </thead>\n",
       "  <tbody>\n",
       "    <tr>\n",
       "      <th>0</th>\n",
       "      <td>0</td>\n",
       "      <td>0</td>\n",
       "      <td>0</td>\n",
       "      <td>0</td>\n",
       "      <td>1</td>\n",
       "      <td>0</td>\n",
       "      <td>1</td>\n",
       "      <td>0</td>\n",
       "      <td>0</td>\n",
       "      <td>0</td>\n",
       "      <td>...</td>\n",
       "      <td>0</td>\n",
       "      <td>0</td>\n",
       "      <td>0</td>\n",
       "      <td>0</td>\n",
       "      <td>0</td>\n",
       "      <td>0</td>\n",
       "      <td>0</td>\n",
       "      <td>0</td>\n",
       "      <td>0</td>\n",
       "      <td>1</td>\n",
       "    </tr>\n",
       "    <tr>\n",
       "      <th>1</th>\n",
       "      <td>0</td>\n",
       "      <td>1</td>\n",
       "      <td>0</td>\n",
       "      <td>0</td>\n",
       "      <td>1</td>\n",
       "      <td>0</td>\n",
       "      <td>0</td>\n",
       "      <td>0</td>\n",
       "      <td>0</td>\n",
       "      <td>0</td>\n",
       "      <td>...</td>\n",
       "      <td>0</td>\n",
       "      <td>0</td>\n",
       "      <td>1</td>\n",
       "      <td>0</td>\n",
       "      <td>0</td>\n",
       "      <td>0</td>\n",
       "      <td>0</td>\n",
       "      <td>0</td>\n",
       "      <td>0</td>\n",
       "      <td>0</td>\n",
       "    </tr>\n",
       "    <tr>\n",
       "      <th>2</th>\n",
       "      <td>0</td>\n",
       "      <td>0</td>\n",
       "      <td>0</td>\n",
       "      <td>0</td>\n",
       "      <td>1</td>\n",
       "      <td>0</td>\n",
       "      <td>0</td>\n",
       "      <td>0</td>\n",
       "      <td>0</td>\n",
       "      <td>0</td>\n",
       "      <td>...</td>\n",
       "      <td>0</td>\n",
       "      <td>0</td>\n",
       "      <td>1</td>\n",
       "      <td>0</td>\n",
       "      <td>0</td>\n",
       "      <td>0</td>\n",
       "      <td>0</td>\n",
       "      <td>0</td>\n",
       "      <td>0</td>\n",
       "      <td>0</td>\n",
       "    </tr>\n",
       "    <tr>\n",
       "      <th>3</th>\n",
       "      <td>0</td>\n",
       "      <td>0</td>\n",
       "      <td>0</td>\n",
       "      <td>0</td>\n",
       "      <td>0</td>\n",
       "      <td>1</td>\n",
       "      <td>0</td>\n",
       "      <td>0</td>\n",
       "      <td>0</td>\n",
       "      <td>1</td>\n",
       "      <td>...</td>\n",
       "      <td>0</td>\n",
       "      <td>0</td>\n",
       "      <td>1</td>\n",
       "      <td>0</td>\n",
       "      <td>0</td>\n",
       "      <td>0</td>\n",
       "      <td>0</td>\n",
       "      <td>0</td>\n",
       "      <td>0</td>\n",
       "      <td>0</td>\n",
       "    </tr>\n",
       "    <tr>\n",
       "      <th>4</th>\n",
       "      <td>0</td>\n",
       "      <td>0</td>\n",
       "      <td>0</td>\n",
       "      <td>0</td>\n",
       "      <td>0</td>\n",
       "      <td>1</td>\n",
       "      <td>0</td>\n",
       "      <td>0</td>\n",
       "      <td>0</td>\n",
       "      <td>1</td>\n",
       "      <td>...</td>\n",
       "      <td>0</td>\n",
       "      <td>0</td>\n",
       "      <td>1</td>\n",
       "      <td>0</td>\n",
       "      <td>0</td>\n",
       "      <td>0</td>\n",
       "      <td>0</td>\n",
       "      <td>0</td>\n",
       "      <td>0</td>\n",
       "      <td>0</td>\n",
       "    </tr>\n",
       "    <tr>\n",
       "      <th>...</th>\n",
       "      <td>...</td>\n",
       "      <td>...</td>\n",
       "      <td>...</td>\n",
       "      <td>...</td>\n",
       "      <td>...</td>\n",
       "      <td>...</td>\n",
       "      <td>...</td>\n",
       "      <td>...</td>\n",
       "      <td>...</td>\n",
       "      <td>...</td>\n",
       "      <td>...</td>\n",
       "      <td>...</td>\n",
       "      <td>...</td>\n",
       "      <td>...</td>\n",
       "      <td>...</td>\n",
       "      <td>...</td>\n",
       "      <td>...</td>\n",
       "      <td>...</td>\n",
       "      <td>...</td>\n",
       "      <td>...</td>\n",
       "      <td>...</td>\n",
       "    </tr>\n",
       "    <tr>\n",
       "      <th>1222</th>\n",
       "      <td>0</td>\n",
       "      <td>0</td>\n",
       "      <td>0</td>\n",
       "      <td>0</td>\n",
       "      <td>1</td>\n",
       "      <td>0</td>\n",
       "      <td>0</td>\n",
       "      <td>0</td>\n",
       "      <td>0</td>\n",
       "      <td>0</td>\n",
       "      <td>...</td>\n",
       "      <td>0</td>\n",
       "      <td>0</td>\n",
       "      <td>0</td>\n",
       "      <td>0</td>\n",
       "      <td>0</td>\n",
       "      <td>0</td>\n",
       "      <td>0</td>\n",
       "      <td>0</td>\n",
       "      <td>1</td>\n",
       "      <td>0</td>\n",
       "    </tr>\n",
       "    <tr>\n",
       "      <th>1223</th>\n",
       "      <td>0</td>\n",
       "      <td>1</td>\n",
       "      <td>0</td>\n",
       "      <td>0</td>\n",
       "      <td>0</td>\n",
       "      <td>0</td>\n",
       "      <td>0</td>\n",
       "      <td>0</td>\n",
       "      <td>0</td>\n",
       "      <td>0</td>\n",
       "      <td>...</td>\n",
       "      <td>0</td>\n",
       "      <td>0</td>\n",
       "      <td>0</td>\n",
       "      <td>0</td>\n",
       "      <td>0</td>\n",
       "      <td>0</td>\n",
       "      <td>0</td>\n",
       "      <td>0</td>\n",
       "      <td>1</td>\n",
       "      <td>0</td>\n",
       "    </tr>\n",
       "    <tr>\n",
       "      <th>1224</th>\n",
       "      <td>0</td>\n",
       "      <td>1</td>\n",
       "      <td>0</td>\n",
       "      <td>0</td>\n",
       "      <td>0</td>\n",
       "      <td>0</td>\n",
       "      <td>0</td>\n",
       "      <td>0</td>\n",
       "      <td>0</td>\n",
       "      <td>0</td>\n",
       "      <td>...</td>\n",
       "      <td>0</td>\n",
       "      <td>0</td>\n",
       "      <td>0</td>\n",
       "      <td>0</td>\n",
       "      <td>0</td>\n",
       "      <td>0</td>\n",
       "      <td>0</td>\n",
       "      <td>0</td>\n",
       "      <td>0</td>\n",
       "      <td>0</td>\n",
       "    </tr>\n",
       "    <tr>\n",
       "      <th>1225</th>\n",
       "      <td>0</td>\n",
       "      <td>1</td>\n",
       "      <td>0</td>\n",
       "      <td>0</td>\n",
       "      <td>1</td>\n",
       "      <td>0</td>\n",
       "      <td>0</td>\n",
       "      <td>0</td>\n",
       "      <td>0</td>\n",
       "      <td>0</td>\n",
       "      <td>...</td>\n",
       "      <td>0</td>\n",
       "      <td>0</td>\n",
       "      <td>0</td>\n",
       "      <td>0</td>\n",
       "      <td>0</td>\n",
       "      <td>0</td>\n",
       "      <td>0</td>\n",
       "      <td>0</td>\n",
       "      <td>0</td>\n",
       "      <td>0</td>\n",
       "    </tr>\n",
       "    <tr>\n",
       "      <th>1226</th>\n",
       "      <td>0</td>\n",
       "      <td>0</td>\n",
       "      <td>0</td>\n",
       "      <td>0</td>\n",
       "      <td>0</td>\n",
       "      <td>0</td>\n",
       "      <td>0</td>\n",
       "      <td>0</td>\n",
       "      <td>0</td>\n",
       "      <td>1</td>\n",
       "      <td>...</td>\n",
       "      <td>0</td>\n",
       "      <td>0</td>\n",
       "      <td>0</td>\n",
       "      <td>0</td>\n",
       "      <td>0</td>\n",
       "      <td>0</td>\n",
       "      <td>0</td>\n",
       "      <td>0</td>\n",
       "      <td>1</td>\n",
       "      <td>0</td>\n",
       "    </tr>\n",
       "  </tbody>\n",
       "</table>\n",
       "<p>1227 rows × 23 columns</p>\n",
       "</div>"
      ],
      "text/plain": [
       "      Documentary  Drama  Sport  Mystery  Action  Animation  Thriller  Family  \\\n",
       "0               0      0      0        0       1          0         1       0   \n",
       "1               0      1      0        0       1          0         0       0   \n",
       "2               0      0      0        0       1          0         0       0   \n",
       "3               0      0      0        0       0          1         0       0   \n",
       "4               0      0      0        0       0          1         0       0   \n",
       "...           ...    ...    ...      ...     ...        ...       ...     ...   \n",
       "1222            0      0      0        0       1          0         0       0   \n",
       "1223            0      1      0        0       0          0         0       0   \n",
       "1224            0      1      0        0       0          0         0       0   \n",
       "1225            0      1      0        0       1          0         0       0   \n",
       "1226            0      0      0        0       0          0         0       0   \n",
       "\n",
       "      Western  Comedy  ...  History  Talk-Show  Adventure  War  Musical  \\\n",
       "0           0       0  ...        0          0          0    0        0   \n",
       "1           0       0  ...        0          0          1    0        0   \n",
       "2           0       0  ...        0          0          1    0        0   \n",
       "3           0       1  ...        0          0          1    0        0   \n",
       "4           0       1  ...        0          0          1    0        0   \n",
       "...       ...     ...  ...      ...        ...        ...  ...      ...   \n",
       "1222        0       0  ...        0          0          0    0        0   \n",
       "1223        0       0  ...        0          0          0    0        0   \n",
       "1224        0       0  ...        0          0          0    0        0   \n",
       "1225        0       0  ...        0          0          0    0        0   \n",
       "1226        0       1  ...        0          0          0    0        0   \n",
       "\n",
       "      Music  Horror  Biography  Short  Sci-Fi  \n",
       "0         0       0          0      0       1  \n",
       "1         0       0          0      0       0  \n",
       "2         0       0          0      0       0  \n",
       "3         0       0          0      0       0  \n",
       "4         0       0          0      0       0  \n",
       "...     ...     ...        ...    ...     ...  \n",
       "1222      0       0          0      1       0  \n",
       "1223      0       0          0      1       0  \n",
       "1224      0       0          0      0       0  \n",
       "1225      0       0          0      0       0  \n",
       "1226      0       0          0      1       0  \n",
       "\n",
       "[1227 rows x 23 columns]"
      ]
     },
     "execution_count": 556,
     "metadata": {},
     "output_type": "execute_result"
    }
   ],
   "source": [
    "# now we can look at the distribution of the genres\n",
    "genres_df = all_data.iloc[: , -24:-1]\n",
    "genres_df"
   ]
  },
  {
   "cell_type": "code",
   "execution_count": 557,
   "id": "fcb4e44e",
   "metadata": {},
   "outputs": [
    {
     "data": {
      "text/plain": [
       "<AxesSubplot:>"
      ]
     },
     "execution_count": 557,
     "metadata": {},
     "output_type": "execute_result"
    },
    {
     "data": {
      "image/png": "[encoded data removed]",
      "text/plain": [
       "<Figure size 432x288 with 1 Axes>"
      ]
     },
     "metadata": {
      "needs_background": "light"
     },
     "output_type": "display_data"
    }
   ],
   "source": [
    "genres_df.sum().plot(kind = 'bar')"
   ]
  },
  {
   "cell_type": "code",
   "execution_count": 558,
   "id": "d53797c1",
   "metadata": {},
   "outputs": [
    {
     "data": {
      "image/png": "[encoded data removed]",
      "text/plain": [
       "<Figure size 720x432 with 1 Axes>"
      ]
     },
     "metadata": {
      "needs_background": "light"
     },
     "output_type": "display_data"
    }
   ],
   "source": [
    "# looking at a couple of genres where critics pick\n",
    "cross_tab_prop = pd.crosstab(index=all_data['Drama'],\n",
    "                             columns=all_data['critics_pick'],\n",
    "                            normalize = 'index')\n",
    "cross_tab_prop.plot(kind='bar', \n",
    "                    stacked=True, \n",
    "                    colormap='tab10', \n",
    "                    figsize=(10, 6))\n",
    "\n",
    "plt.legend(loc=\"upper left\", ncol=2)\n",
    "plt.xlabel(\"Drama\")\n",
    "plt.ylabel(\"Proportion\")\n",
    "plt.show()"
   ]
  },
  {
   "cell_type": "code",
   "execution_count": 559,
   "id": "12e219f4",
   "metadata": {},
   "outputs": [
    {
     "data": {
      "image/png": "[encoded data removed]",
      "text/plain": [
       "<Figure size 720x432 with 1 Axes>"
      ]
     },
     "metadata": {
      "needs_background": "light"
     },
     "output_type": "display_data"
    }
   ],
   "source": [
    "cross_tab_prop = pd.crosstab(index=all_data['Comedy'],\n",
    "                             columns=all_data['critics_pick'],\n",
    "                            normalize = 'index')\n",
    "cross_tab_prop.plot(kind='bar', \n",
    "                    stacked=True, \n",
    "                    colormap='tab10', \n",
    "                    figsize=(10, 6))\n",
    "\n",
    "plt.legend(loc=\"upper left\", ncol=2)\n",
    "plt.xlabel(\"Comedy\")\n",
    "plt.ylabel(\"Proportion\")\n",
    "plt.show()"
   ]
  },
  {
   "cell_type": "code",
   "execution_count": 560,
   "id": "633d08e7",
   "metadata": {},
   "outputs": [
    {
     "data": {
      "image/png": "[encoded data removed]",
      "text/plain": [
       "<Figure size 720x432 with 1 Axes>"
      ]
     },
     "metadata": {
      "needs_background": "light"
     },
     "output_type": "display_data"
    }
   ],
   "source": [
    "cross_tab_prop = pd.crosstab(index=all_data['Documentary'],\n",
    "                             columns=all_data['critics_pick'],\n",
    "                            normalize = 'index')\n",
    "cross_tab_prop.plot(kind='bar', \n",
    "                    stacked=True, \n",
    "                    colormap='tab10', \n",
    "                    figsize=(10, 6))\n",
    "\n",
    "plt.legend(loc=\"upper left\", ncol=2)\n",
    "plt.xlabel(\"Documentary\")\n",
    "plt.ylabel(\"Proportion\")\n",
    "plt.show()"
   ]
  },
  {
   "cell_type": "code",
   "execution_count": 561,
   "id": "b2d41333",
   "metadata": {},
   "outputs": [
    {
     "data": {
      "image/png": "[encoded data removed]",
      "text/plain": [
       "<Figure size 720x432 with 1 Axes>"
      ]
     },
     "metadata": {
      "needs_background": "light"
     },
     "output_type": "display_data"
    }
   ],
   "source": [
    "# now looking at wins\n",
    "cross_tab_prop = pd.crosstab(index=all_data['critics_pick'],\n",
    "                             columns=all_data['total_wins'],\n",
    "                            normalize = 'index')\n",
    "cross_tab_prop.plot(kind='bar', \n",
    "                    stacked=True, \n",
    "                    colormap='tab10', \n",
    "                    figsize=(10, 6))\n",
    "\n",
    "plt.legend(loc=\"upper left\", ncol=2)\n",
    "plt.xlabel(\"total_wins\")\n",
    "plt.ylabel(\"Proportion\")\n",
    "plt.show()\n",
    "\n",
    "# it's a little rough looking with no filtering but we can see that movies not critics pick have less wins than critics picks"
   ]
  },
  {
   "cell_type": "code",
   "execution_count": 562,
   "id": "37c7d991",
   "metadata": {},
   "outputs": [
    {
     "data": {
      "image/png": "[encoded data removed]",
      "text/plain": [
       "<Figure size 720x432 with 1 Axes>"
      ]
     },
     "metadata": {
      "needs_background": "light"
     },
     "output_type": "display_data"
    }
   ],
   "source": [
    "# let's create a new category for \"won_something\"\n",
    "all_data['won_something'] = all_data['total_wins'].apply(lambda x: True if int(x) > 0 else False)\n",
    "\n",
    "# now plot as above\n",
    "cross_tab_prop = pd.crosstab(index=all_data['critics_pick'],\n",
    "                             columns=all_data['won_something'],\n",
    "                            normalize = 'index')\n",
    "cross_tab_prop.plot(kind='bar', \n",
    "                    stacked=True, \n",
    "                    colormap='tab10', \n",
    "                    figsize=(10, 6))\n",
    "\n",
    "plt.legend(loc=\"upper left\", ncol=2)\n",
    "plt.xlabel(\"total_wins\")\n",
    "plt.ylabel(\"Proportion\")\n",
    "plt.show()"
   ]
  },
  {
   "cell_type": "code",
   "execution_count": 563,
   "id": "114c1abb",
   "metadata": {},
   "outputs": [
    {
     "data": {
      "text/plain": [
       "<AxesSubplot:ylabel='Frequency'>"
      ]
     },
     "execution_count": 563,
     "metadata": {},
     "output_type": "execute_result"
    },
    {
     "data": {
      "image/png": "[encoded data removed]",
      "text/plain": [
       "<Figure size 432x288 with 1 Axes>"
      ]
     },
     "metadata": {
      "needs_background": "light"
     },
     "output_type": "display_data"
    }
   ],
   "source": [
    "# distribution of rotten tomatoes by critics choice (the picks)\n",
    "all_data[all_data['critics_pick'] == 1]['Rotten Tomatoes'].plot(kind = 'hist')"
   ]
  },
  {
   "cell_type": "code",
   "execution_count": 564,
   "id": "66f912d1",
   "metadata": {},
   "outputs": [
    {
     "data": {
      "text/plain": [
       "<AxesSubplot:ylabel='Frequency'>"
      ]
     },
     "execution_count": 564,
     "metadata": {},
     "output_type": "execute_result"
    },
    {
     "data": {
      "image/png": "[encoded data removed]",
      "text/plain": [
       "<Figure size 432x288 with 1 Axes>"
      ]
     },
     "metadata": {
      "needs_background": "light"
     },
     "output_type": "display_data"
    }
   ],
   "source": [
    "# distribution of rotten tomatoes by critics choice (not picked)\n",
    "all_data[all_data['critics_pick'] == 0]['Rotten Tomatoes'].plot(kind = 'hist')"
   ]
  },
  {
   "cell_type": "code",
   "execution_count": 565,
   "id": "ee32374a",
   "metadata": {},
   "outputs": [
    {
     "data": {
      "text/plain": [
       "<AxesSubplot:ylabel='Frequency'>"
      ]
     },
     "execution_count": 565,
     "metadata": {},
     "output_type": "execute_result"
    },
    {
     "data": {
      "image/png": "[encoded data removed]",
      "text/plain": [
       "<Figure size 432x288 with 1 Axes>"
      ]
     },
     "metadata": {
      "needs_background": "light"
     },
     "output_type": "display_data"
    }
   ],
   "source": [
    "# now runtime minutes (picked)\n",
    "all_data[all_data['critics_pick'] == 1]['Runtime_mins'].plot(kind = 'hist')"
   ]
  },
  {
   "cell_type": "code",
   "execution_count": 566,
   "id": "f92cc688",
   "metadata": {},
   "outputs": [
    {
     "data": {
      "text/plain": [
       "<AxesSubplot:ylabel='Frequency'>"
      ]
     },
     "execution_count": 566,
     "metadata": {},
     "output_type": "execute_result"
    },
    {
     "data": {
      "image/png": "[encoded data removed]",
      "text/plain": [
       "<Figure size 432x288 with 1 Axes>"
      ]
     },
     "metadata": {
      "needs_background": "light"
     },
     "output_type": "display_data"
    }
   ],
   "source": [
    "# now runtime minutes (not picked)\n",
    "all_data[all_data['critics_pick'] == 0]['Runtime_mins'].plot(kind = 'hist')\n",
    "# some obvious skew issues here, but not exploring just yet"
   ]
  },
  {
   "cell_type": "markdown",
   "id": "f1506e23",
   "metadata": {},
   "source": [
    "# Modeling"
   ]
  },
  {
   "cell_type": "code",
   "execution_count": 567,
   "id": "93523f77",
   "metadata": {},
   "outputs": [
    {
     "name": "stdout",
     "output_type": "stream",
     "text": [
      "train count:  484\n",
      "test count:  436\n"
     ]
    }
   ],
   "source": [
    "# split into train and test (train on 2020, test on 2021)\n",
    "train = all_data[all_data['Year'] == '2020']\n",
    "test = all_data[all_data['Year'] == '2021']\n",
    "\n",
    "# view counts for each\n",
    "print('train count: ', len(train))\n",
    "print('test count: ', len(test))"
   ]
  },
  {
   "cell_type": "code",
   "execution_count": 568,
   "id": "3c024120",
   "metadata": {},
   "outputs": [],
   "source": [
    "# having trouble adding runtime mins -- come back later\n",
    "train_X = train[['Documentary',\n",
    "                 'Drama',\n",
    "                 'Thriller',\n",
    "                 'Comedy',\n",
    "                'total_wins']]\n",
    "train_y = train['critics_pick']"
   ]
  },
  {
   "cell_type": "code",
   "execution_count": 569,
   "id": "f0ba82a1",
   "metadata": {},
   "outputs": [],
   "source": [
    "test_X = test[['Documentary',\n",
    "             'Drama',\n",
    "             'Thriller',\n",
    "             'Comedy',\n",
    "              'total_wins']]\n",
    "test_y = test['critics_pick']"
   ]
  },
  {
   "cell_type": "code",
   "execution_count": 570,
   "id": "e312a53d",
   "metadata": {},
   "outputs": [],
   "source": [
    "model = LogisticRegression(solver='liblinear', random_state=42)"
   ]
  },
  {
   "cell_type": "code",
   "execution_count": 571,
   "id": "3d5437fc",
   "metadata": {},
   "outputs": [
    {
     "data": {
      "text/plain": [
       "LogisticRegression(random_state=42, solver='liblinear')"
      ]
     },
     "execution_count": 571,
     "metadata": {},
     "output_type": "execute_result"
    }
   ],
   "source": [
    "model.fit(train_X, train_y)"
   ]
  },
  {
   "cell_type": "code",
   "execution_count": 575,
   "id": "125d16c7",
   "metadata": {},
   "outputs": [
    {
     "data": {
      "text/plain": [
       "array([0, 0, 0, 0, 0, 0, 0, 0, 0, 0, 0, 0, 0, 0, 0, 0, 0, 0, 0, 0, 0, 0,\n",
       "       0, 0, 0, 0, 0, 0, 0, 1, 0, 0, 0, 0, 0, 0, 0, 0, 0, 0, 0, 0, 0, 0,\n",
       "       0, 0, 0, 0, 0, 0, 0, 0, 0, 0, 0, 0, 0, 0, 0, 0, 0, 0, 0, 0, 0, 0,\n",
       "       0, 0, 0, 0, 0, 0, 0, 0, 0, 0, 0, 0, 0, 0, 0, 0, 0, 0, 0, 0, 0, 0,\n",
       "       0, 0, 0, 0, 0, 0, 0, 0, 0, 0, 0, 0, 0, 0, 0, 0, 0, 0, 0, 0, 0, 0,\n",
       "       0, 0, 0, 0, 0, 0, 0, 0, 0, 0, 0, 0, 0, 0, 0, 0, 0, 0, 0, 0, 0, 0,\n",
       "       0, 0, 0, 0, 0, 0, 0, 0, 0, 0, 0, 0, 0, 0, 0, 0, 0, 0, 0, 0, 0, 0,\n",
       "       0, 0, 0, 0, 0, 0, 0, 0, 0, 0, 0, 0, 0, 0, 0, 0, 0, 0, 0, 0, 0, 0,\n",
       "       0, 0, 0, 0, 0, 0, 0, 0, 0, 0, 0, 0, 0, 0, 0, 0, 0, 0, 0, 0, 0, 0,\n",
       "       0, 0, 0, 0, 0, 0, 0, 0, 0, 0, 0, 0, 0, 0, 0, 0, 0, 0, 0, 0, 0, 0,\n",
       "       0, 0, 0, 0, 0, 0, 0, 0, 0, 0, 0, 0, 0, 0, 0, 0, 0, 0, 0, 0, 0, 0,\n",
       "       0, 0, 0, 0, 0, 0, 0, 0, 0, 0, 0, 0, 0, 0, 0, 0, 0, 0, 0, 0, 0, 0,\n",
       "       0, 0, 0, 0, 0, 0, 0, 0, 0, 0, 0, 0, 0, 0, 0, 0, 0, 0, 0, 0, 0, 0,\n",
       "       0, 0, 0, 0, 0, 0, 0, 0, 0, 0, 0, 0, 0, 0, 0, 0, 0, 0, 0, 0, 0, 0,\n",
       "       0, 0, 0, 0, 0, 0, 0, 0, 0, 0, 0, 0, 0, 0, 0, 0, 0, 0, 0, 0, 0, 0,\n",
       "       0, 0, 0, 0, 0, 0, 0, 0, 0, 0, 0, 0, 0, 0, 0, 0, 0, 0, 0, 0, 0, 0,\n",
       "       0, 0, 0, 0, 0, 0, 0, 0, 0, 0, 0, 0, 0, 0, 0, 0, 0, 0, 0, 0, 0, 0,\n",
       "       0, 0, 0, 0, 0, 0, 0, 0, 0, 0, 0, 0, 0, 0, 0, 0, 0, 0, 0, 0, 0, 0,\n",
       "       0, 0, 0, 0, 0, 0, 0, 0, 0, 0, 0, 0, 0, 0, 0, 0, 0, 0, 0, 0, 0, 0,\n",
       "       0, 0, 0, 0, 0, 0, 0, 0, 0, 0, 0, 0, 0, 0, 0, 0, 0, 0], dtype=int64)"
      ]
     },
     "execution_count": 575,
     "metadata": {},
     "output_type": "execute_result"
    }
   ],
   "source": [
    "y_pred = model.predict(test_X)\n",
    "y_pred"
   ]
  },
  {
   "cell_type": "code",
   "execution_count": 583,
   "id": "aadab19f",
   "metadata": {},
   "outputs": [
    {
     "name": "stdout",
     "output_type": "stream",
     "text": [
      "report:\n",
      "              precision    recall  f1-score   support\n",
      "\n",
      "           0       0.82      1.00      0.90       355\n",
      "           1       1.00      0.01      0.02        81\n",
      "\n",
      "    accuracy                           0.82       436\n",
      "   macro avg       0.91      0.51      0.46       436\n",
      "weighted avg       0.85      0.82      0.74       436\n",
      "\n"
     ]
    }
   ],
   "source": [
    "report = classification_report(test_y, y_pred)\n",
    "print('report:', report, sep='\\n')"
   ]
  },
  {
   "cell_type": "code",
   "execution_count": 587,
   "id": "f41877c5",
   "metadata": {},
   "outputs": [
    {
     "data": {
      "text/plain": [
       "0    355\n",
       "1     81\n",
       "Name: critics_pick, dtype: int64"
      ]
     },
     "execution_count": 587,
     "metadata": {},
     "output_type": "execute_result"
    }
   ],
   "source": [
    "test_y.value_counts()"
   ]
  },
  {
   "cell_type": "code",
   "execution_count": 591,
   "id": "63d1dac5",
   "metadata": {},
   "outputs": [
    {
     "data": {
      "text/plain": [
       "0    435\n",
       "1      1\n",
       "dtype: int64"
      ]
     },
     "execution_count": 591,
     "metadata": {},
     "output_type": "execute_result"
    }
   ],
   "source": [
    "pd.Series(y_pred).value_counts()"
   ]
  },
  {
   "cell_type": "code",
   "execution_count": null,
   "id": "2f72272a",
   "metadata": {},
   "outputs": [],
   "source": []
  }
 ],
 "metadata": {
  "kernelspec": {
   "display_name": "Python 3",
   "language": "python",
   "name": "python3"
  },
  "language_info": {
   "codemirror_mode": {
    "name": "ipython",
    "version": 3
   },
   "file_extension": ".py",
   "mimetype": "text/x-python",
   "name": "python",
   "nbconvert_exporter": "python",
   "pygments_lexer": "ipython3",
   "version": "3.8.8"
  }
 },
 "nbformat": 4,
 "nbformat_minor": 5
}
