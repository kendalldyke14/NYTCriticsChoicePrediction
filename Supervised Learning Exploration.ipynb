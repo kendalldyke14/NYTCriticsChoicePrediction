{
 "cells": [
  {
   "cell_type": "code",
   "execution_count": 1,
   "metadata": {},
   "outputs": [],
   "source": [
    "import matplotlib.pyplot as plt\n",
    "import numpy as np\n",
    "import pandas as pd\n",
    "import re\n",
    "from sklearn.metrics import classification_report, confusion_matrix\n",
    "from sklearn.metrics import f1_score\n",
    "from sklearn.ensemble import RandomForestClassifier\n",
    "from sklearn.linear_model import LogisticRegression\n",
    "from sklearn.feature_selection import SelectFromModel\n",
    "import datetime\n",
    "from sklearn.metrics import RocCurveDisplay\n",
    "from sklearn import svm\n",
    "import random"
   ]
  },
  {
   "cell_type": "code",
   "execution_count": 2,
   "metadata": {},
   "outputs": [],
   "source": [
    "# read in all data (downloaded and renamed from joined_df in Github)\n",
    "# all_data = pd.read_csv('data_movie_reviews.csv')\n",
    "all_data = pd.read_csv('data/joined_df.csv')"
   ]
  },
  {
   "cell_type": "markdown",
   "metadata": {},
   "source": [
    "# Data Exploration and Cleaning"
   ]
  },
  {
   "cell_type": "code",
   "execution_count": 3,
   "metadata": {},
   "outputs": [
    {
     "data": {
      "text/plain": [
       "array(['2020', '2021', '2019', '2001', '2020–', '1930', '2013', '2018',\n",
       "       '2016', '2005', '1945', '2017', '1980', '1981', '1979', '2004',\n",
       "       '2014', '2007', '2010', '1976', '2012', '2000', '1992', '2008',\n",
       "       '1982', '1978', '2015', '2011', '2021–', '1974'], dtype=object)"
      ]
     },
     "execution_count": 3,
     "metadata": {},
     "output_type": "execute_result"
    }
   ],
   "source": [
    "# found a problem with filtering by year so checking those values\n",
    "all_data['Year'].unique()"
   ]
  },
  {
   "cell_type": "code",
   "execution_count": 4,
   "metadata": {},
   "outputs": [],
   "source": [
    "# remove dashes\n",
    "all_data['Year'] = all_data['Year'].apply(lambda x: re.sub(r'[\\W_]+', '', x))"
   ]
  },
  {
   "cell_type": "code",
   "execution_count": 5,
   "metadata": {},
   "outputs": [
    {
     "data": {
      "text/plain": [
       "Index(['Unnamed: 0', 'Title', 'Year', 'Rated', 'Released', 'Runtime_mins',\n",
       "       'Genre', 'Director', 'Writer', 'Actors', 'Plot', 'Language', 'Country',\n",
       "       'Awards', 'Poster', 'Ratings', 'Metascore', 'imdbRating', 'imdbVotes',\n",
       "       'imdbID', 'Type', 'DVD', 'BoxOffice', 'Production', 'Website',\n",
       "       'Response', 'totalSeasons', 'Internet Movie Database',\n",
       "       'Rotten Tomatoes', 'Metacritic', 'oscar_wins', 'oscar_noms',\n",
       "       'emmy_wins', 'emmy_noms', 'total_wins', 'total_noms', 'display_title',\n",
       "       'mpaa_rating', 'critics_pick', 'byline', 'headline', 'summary_short',\n",
       "       'publication_date', 'opening_date', 'date_updated', 'link',\n",
       "       'multimedia', 'review_text'],\n",
       "      dtype='object')"
      ]
     },
     "execution_count": 5,
     "metadata": {},
     "output_type": "execute_result"
    }
   ],
   "source": [
    "# now let's explore some of the distributions of some of the variables\n",
    "all_data.columns"
   ]
  },
  {
   "cell_type": "code",
   "execution_count": 6,
   "metadata": {},
   "outputs": [
    {
     "data": {
      "text/plain": [
       "<matplotlib.axes._subplots.AxesSubplot at 0x168ba5d6c88>"
      ]
     },
     "execution_count": 6,
     "metadata": {},
     "output_type": "execute_result"
    },
    {
     "data": {
      "image/png": "[encoded data removed]",
      "text/plain": [
       "<Figure size 432x288 with 1 Axes>"
      ]
     },
     "metadata": {
      "needs_background": "light"
     },
     "output_type": "display_data"
    }
   ],
   "source": [
    "# critics pick (what we are predicting)\n",
    "all_data['critics_pick'].value_counts().plot(kind = 'bar')\n",
    "# looks like most are not critics pick"
   ]
  },
  {
   "cell_type": "code",
   "execution_count": 7,
   "metadata": {},
   "outputs": [
    {
     "data": {
      "text/plain": [
       "{'G',\n",
       " 'MA-17',\n",
       " 'Not Rated',\n",
       " 'PG',\n",
       " 'PG-13',\n",
       " 'R',\n",
       " 'TV-14',\n",
       " 'TV-G',\n",
       " 'TV-MA',\n",
       " 'TV-PG',\n",
       " 'TV-Y7',\n",
       " 'Unrated',\n",
       " nan}"
      ]
     },
     "execution_count": 7,
     "metadata": {},
     "output_type": "execute_result"
    }
   ],
   "source": [
    "set(all_data['Rated'])"
   ]
  },
  {
   "cell_type": "code",
   "execution_count": 8,
   "metadata": {},
   "outputs": [
    {
     "data": {
      "text/plain": [
       "<matplotlib.axes._subplots.AxesSubplot at 0x168bc777898>"
      ]
     },
     "execution_count": 8,
     "metadata": {},
     "output_type": "execute_result"
    },
    {
     "data": {
      "image/png": "[encoded data removed]",
      "text/plain": [
       "<Figure size 432x288 with 1 Axes>"
      ]
     },
     "metadata": {
      "needs_background": "light"
     },
     "output_type": "display_data"
    }
   ],
   "source": [
    "# rating\n",
    "all_data['Rated'].value_counts().plot(kind = 'bar')"
   ]
  },
  {
   "cell_type": "code",
   "execution_count": 9,
   "metadata": {},
   "outputs": [
    {
     "data": {
      "image/png": "[encoded data removed]",
      "text/plain": [
       "<Figure size 720x432 with 1 Axes>"
      ]
     },
     "metadata": {
      "needs_background": "light"
     },
     "output_type": "display_data"
    }
   ],
   "source": [
    "# now we can look at each by critics choice -- doesn't look like huge chunk of any one genre has critics choice\n",
    "cross_tab_prop = pd.crosstab(index=all_data['Rated'],\n",
    "                             columns=all_data['critics_pick'])\n",
    "cross_tab_prop.plot(kind='bar', \n",
    "                    stacked=True, \n",
    "                    colormap='tab10', \n",
    "                    figsize=(10, 6))\n",
    "\n",
    "plt.legend(loc=\"upper left\", ncol=2)\n",
    "plt.xlabel(\"Rated\")\n",
    "plt.ylabel(\"Count\")\n",
    "plt.show()"
   ]
  },
  {
   "cell_type": "code",
   "execution_count": 10,
   "metadata": {},
   "outputs": [
    {
     "data": {
      "text/plain": [
       "[nan,\n",
       " 'TV-Y7',\n",
       " 'PG',\n",
       " 'TV-14',\n",
       " 'TV-PG',\n",
       " 'TV-MA',\n",
       " 'PG-13',\n",
       " 'Unrated',\n",
       " 'TV-G',\n",
       " 'Not Rated',\n",
       " 'MA-17',\n",
       " 'G',\n",
       " 'R']"
      ]
     },
     "execution_count": 10,
     "metadata": {},
     "output_type": "execute_result"
    }
   ],
   "source": [
    "list(set(all_data['Rated']))"
   ]
  },
  {
   "cell_type": "code",
   "execution_count": 11,
   "metadata": {},
   "outputs": [],
   "source": [
    "# now just turn into numerical values\n",
    "ratings_dict = {}\n",
    "for i, name in zip(range(len(list(set(all_data['Rated'])))), list(set(all_data['Rated']))):\n",
    "    ratings_dict[name] = i\n",
    "all_data['Rating_num'] = all_data['Rated']\n",
    "all_data = all_data.replace({\"Rating_num\": ratings_dict})"
   ]
  },
  {
   "cell_type": "code",
   "execution_count": 12,
   "metadata": {},
   "outputs": [
    {
     "data": {
      "text/plain": [
       "Documentary                  233\n",
       "Drama                        144\n",
       "Comedy, Drama                 46\n",
       "Comedy                        28\n",
       "Drama, Horror, Mystery        27\n",
       "                            ... \n",
       "Action, Comedy, Horror         1\n",
       "Drama, Family, Fantasy         1\n",
       "Documentary, Crime, Sport      1\n",
       "Comedy, Family, Romance        1\n",
       "Short, Comedy                  1\n",
       "Name: Genre, Length: 235, dtype: int64"
      ]
     },
     "execution_count": 12,
     "metadata": {},
     "output_type": "execute_result"
    }
   ],
   "source": [
    "# Genre\n",
    "all_data['Genre'].value_counts()"
   ]
  },
  {
   "cell_type": "code",
   "execution_count": 13,
   "metadata": {},
   "outputs": [
    {
     "data": {
      "text/plain": [
       "['Musical',\n",
       " 'Animation',\n",
       " 'Romance',\n",
       " 'Western',\n",
       " 'Music',\n",
       " 'Mystery',\n",
       " 'War',\n",
       " 'Short',\n",
       " 'Talk-Show',\n",
       " 'Sci-Fi',\n",
       " 'Crime',\n",
       " 'nan',\n",
       " 'Thriller',\n",
       " 'Family',\n",
       " 'Sport',\n",
       " 'Drama',\n",
       " 'Fantasy',\n",
       " 'Action',\n",
       " 'Adventure',\n",
       " 'Documentary',\n",
       " 'History',\n",
       " 'Comedy',\n",
       " 'Horror',\n",
       " 'Biography']"
      ]
     },
     "execution_count": 13,
     "metadata": {},
     "output_type": "execute_result"
    }
   ],
   "source": [
    "# let's clean that up a bit\n",
    "# find the unique genres\n",
    "all_genres = []\n",
    "all_data['Genre'] = all_data['Genre'].astype(str)\n",
    "for genres_string in list(all_data['Genre']):\n",
    "    genre_list = genres_string.split(',')\n",
    "    for genre in genre_list:\n",
    "        all_genres.append(genre.strip())\n",
    "unique_genres = list(set(all_genres))\n",
    "unique_genres"
   ]
  },
  {
   "cell_type": "code",
   "execution_count": 14,
   "metadata": {},
   "outputs": [],
   "source": [
    "# now create a variable for each genre and assign 1 if listed for genre description\n",
    "for genre in unique_genres:\n",
    "    values = []\n",
    "    for genre_description in all_data['Genre']:\n",
    "        if genre in genre_description:\n",
    "            values.append(1)\n",
    "        else:\n",
    "            values.append(0)\n",
    "    all_data[genre] = values"
   ]
  },
  {
   "cell_type": "code",
   "execution_count": 15,
   "metadata": {},
   "outputs": [],
   "source": [
    "# moving genre to end of dataframe with assignments\n",
    "genre = all_data.pop('Genre')\n",
    "all_data['genre'] = genre"
   ]
  },
  {
   "cell_type": "code",
   "execution_count": 16,
   "metadata": {},
   "outputs": [
    {
     "data": {
      "text/html": [
       "<div>\n",
       "<style scoped>\n",
       "    .dataframe tbody tr th:only-of-type {\n",
       "        vertical-align: middle;\n",
       "    }\n",
       "\n",
       "    .dataframe tbody tr th {\n",
       "        vertical-align: top;\n",
       "    }\n",
       "\n",
       "    .dataframe thead th {\n",
       "        text-align: right;\n",
       "    }\n",
       "</style>\n",
       "<table border=\"1\" class=\"dataframe\">\n",
       "  <thead>\n",
       "    <tr style=\"text-align: right;\">\n",
       "      <th></th>\n",
       "      <th>Musical</th>\n",
       "      <th>Animation</th>\n",
       "      <th>Romance</th>\n",
       "      <th>Western</th>\n",
       "      <th>Music</th>\n",
       "      <th>Mystery</th>\n",
       "      <th>War</th>\n",
       "      <th>Short</th>\n",
       "      <th>Talk-Show</th>\n",
       "      <th>Sci-Fi</th>\n",
       "      <th>...</th>\n",
       "      <th>Drama</th>\n",
       "      <th>Fantasy</th>\n",
       "      <th>Action</th>\n",
       "      <th>Adventure</th>\n",
       "      <th>Documentary</th>\n",
       "      <th>History</th>\n",
       "      <th>Comedy</th>\n",
       "      <th>Horror</th>\n",
       "      <th>Biography</th>\n",
       "      <th>genre</th>\n",
       "    </tr>\n",
       "  </thead>\n",
       "  <tbody>\n",
       "    <tr>\n",
       "      <th>0</th>\n",
       "      <td>0</td>\n",
       "      <td>0</td>\n",
       "      <td>0</td>\n",
       "      <td>0</td>\n",
       "      <td>0</td>\n",
       "      <td>0</td>\n",
       "      <td>0</td>\n",
       "      <td>0</td>\n",
       "      <td>0</td>\n",
       "      <td>1</td>\n",
       "      <td>...</td>\n",
       "      <td>0</td>\n",
       "      <td>0</td>\n",
       "      <td>1</td>\n",
       "      <td>0</td>\n",
       "      <td>0</td>\n",
       "      <td>0</td>\n",
       "      <td>0</td>\n",
       "      <td>0</td>\n",
       "      <td>0</td>\n",
       "      <td>Action, Sci-Fi, Thriller</td>\n",
       "    </tr>\n",
       "    <tr>\n",
       "      <th>1</th>\n",
       "      <td>0</td>\n",
       "      <td>0</td>\n",
       "      <td>0</td>\n",
       "      <td>0</td>\n",
       "      <td>0</td>\n",
       "      <td>0</td>\n",
       "      <td>0</td>\n",
       "      <td>0</td>\n",
       "      <td>0</td>\n",
       "      <td>0</td>\n",
       "      <td>...</td>\n",
       "      <td>1</td>\n",
       "      <td>0</td>\n",
       "      <td>1</td>\n",
       "      <td>1</td>\n",
       "      <td>0</td>\n",
       "      <td>0</td>\n",
       "      <td>0</td>\n",
       "      <td>0</td>\n",
       "      <td>0</td>\n",
       "      <td>Action, Adventure, Drama</td>\n",
       "    </tr>\n",
       "    <tr>\n",
       "      <th>2</th>\n",
       "      <td>0</td>\n",
       "      <td>0</td>\n",
       "      <td>0</td>\n",
       "      <td>0</td>\n",
       "      <td>0</td>\n",
       "      <td>0</td>\n",
       "      <td>0</td>\n",
       "      <td>0</td>\n",
       "      <td>0</td>\n",
       "      <td>0</td>\n",
       "      <td>...</td>\n",
       "      <td>0</td>\n",
       "      <td>1</td>\n",
       "      <td>1</td>\n",
       "      <td>1</td>\n",
       "      <td>0</td>\n",
       "      <td>0</td>\n",
       "      <td>0</td>\n",
       "      <td>0</td>\n",
       "      <td>0</td>\n",
       "      <td>Action, Adventure, Fantasy</td>\n",
       "    </tr>\n",
       "    <tr>\n",
       "      <th>3</th>\n",
       "      <td>0</td>\n",
       "      <td>1</td>\n",
       "      <td>0</td>\n",
       "      <td>0</td>\n",
       "      <td>0</td>\n",
       "      <td>0</td>\n",
       "      <td>0</td>\n",
       "      <td>0</td>\n",
       "      <td>0</td>\n",
       "      <td>0</td>\n",
       "      <td>...</td>\n",
       "      <td>0</td>\n",
       "      <td>0</td>\n",
       "      <td>0</td>\n",
       "      <td>1</td>\n",
       "      <td>0</td>\n",
       "      <td>0</td>\n",
       "      <td>1</td>\n",
       "      <td>0</td>\n",
       "      <td>0</td>\n",
       "      <td>Animation, Adventure, Comedy</td>\n",
       "    </tr>\n",
       "    <tr>\n",
       "      <th>4</th>\n",
       "      <td>0</td>\n",
       "      <td>1</td>\n",
       "      <td>0</td>\n",
       "      <td>0</td>\n",
       "      <td>0</td>\n",
       "      <td>0</td>\n",
       "      <td>0</td>\n",
       "      <td>0</td>\n",
       "      <td>0</td>\n",
       "      <td>0</td>\n",
       "      <td>...</td>\n",
       "      <td>0</td>\n",
       "      <td>0</td>\n",
       "      <td>0</td>\n",
       "      <td>1</td>\n",
       "      <td>0</td>\n",
       "      <td>0</td>\n",
       "      <td>1</td>\n",
       "      <td>0</td>\n",
       "      <td>0</td>\n",
       "      <td>Animation, Adventure, Comedy</td>\n",
       "    </tr>\n",
       "    <tr>\n",
       "      <th>...</th>\n",
       "      <td>...</td>\n",
       "      <td>...</td>\n",
       "      <td>...</td>\n",
       "      <td>...</td>\n",
       "      <td>...</td>\n",
       "      <td>...</td>\n",
       "      <td>...</td>\n",
       "      <td>...</td>\n",
       "      <td>...</td>\n",
       "      <td>...</td>\n",
       "      <td>...</td>\n",
       "      <td>...</td>\n",
       "      <td>...</td>\n",
       "      <td>...</td>\n",
       "      <td>...</td>\n",
       "      <td>...</td>\n",
       "      <td>...</td>\n",
       "      <td>...</td>\n",
       "      <td>...</td>\n",
       "      <td>...</td>\n",
       "      <td>...</td>\n",
       "    </tr>\n",
       "    <tr>\n",
       "      <th>1222</th>\n",
       "      <td>0</td>\n",
       "      <td>0</td>\n",
       "      <td>0</td>\n",
       "      <td>0</td>\n",
       "      <td>0</td>\n",
       "      <td>0</td>\n",
       "      <td>0</td>\n",
       "      <td>1</td>\n",
       "      <td>0</td>\n",
       "      <td>0</td>\n",
       "      <td>...</td>\n",
       "      <td>0</td>\n",
       "      <td>0</td>\n",
       "      <td>1</td>\n",
       "      <td>0</td>\n",
       "      <td>0</td>\n",
       "      <td>0</td>\n",
       "      <td>0</td>\n",
       "      <td>0</td>\n",
       "      <td>0</td>\n",
       "      <td>Short, Action</td>\n",
       "    </tr>\n",
       "    <tr>\n",
       "      <th>1223</th>\n",
       "      <td>0</td>\n",
       "      <td>0</td>\n",
       "      <td>0</td>\n",
       "      <td>0</td>\n",
       "      <td>0</td>\n",
       "      <td>0</td>\n",
       "      <td>0</td>\n",
       "      <td>1</td>\n",
       "      <td>0</td>\n",
       "      <td>0</td>\n",
       "      <td>...</td>\n",
       "      <td>1</td>\n",
       "      <td>0</td>\n",
       "      <td>0</td>\n",
       "      <td>0</td>\n",
       "      <td>0</td>\n",
       "      <td>0</td>\n",
       "      <td>0</td>\n",
       "      <td>0</td>\n",
       "      <td>0</td>\n",
       "      <td>Short, Drama</td>\n",
       "    </tr>\n",
       "    <tr>\n",
       "      <th>1224</th>\n",
       "      <td>0</td>\n",
       "      <td>0</td>\n",
       "      <td>0</td>\n",
       "      <td>0</td>\n",
       "      <td>0</td>\n",
       "      <td>0</td>\n",
       "      <td>0</td>\n",
       "      <td>0</td>\n",
       "      <td>0</td>\n",
       "      <td>0</td>\n",
       "      <td>...</td>\n",
       "      <td>1</td>\n",
       "      <td>0</td>\n",
       "      <td>0</td>\n",
       "      <td>0</td>\n",
       "      <td>0</td>\n",
       "      <td>0</td>\n",
       "      <td>0</td>\n",
       "      <td>0</td>\n",
       "      <td>0</td>\n",
       "      <td>Crime, Drama</td>\n",
       "    </tr>\n",
       "    <tr>\n",
       "      <th>1225</th>\n",
       "      <td>0</td>\n",
       "      <td>0</td>\n",
       "      <td>0</td>\n",
       "      <td>0</td>\n",
       "      <td>0</td>\n",
       "      <td>0</td>\n",
       "      <td>0</td>\n",
       "      <td>0</td>\n",
       "      <td>0</td>\n",
       "      <td>0</td>\n",
       "      <td>...</td>\n",
       "      <td>1</td>\n",
       "      <td>0</td>\n",
       "      <td>1</td>\n",
       "      <td>0</td>\n",
       "      <td>0</td>\n",
       "      <td>0</td>\n",
       "      <td>0</td>\n",
       "      <td>0</td>\n",
       "      <td>0</td>\n",
       "      <td>Action, Crime, Drama</td>\n",
       "    </tr>\n",
       "    <tr>\n",
       "      <th>1226</th>\n",
       "      <td>0</td>\n",
       "      <td>0</td>\n",
       "      <td>0</td>\n",
       "      <td>0</td>\n",
       "      <td>0</td>\n",
       "      <td>0</td>\n",
       "      <td>0</td>\n",
       "      <td>1</td>\n",
       "      <td>0</td>\n",
       "      <td>0</td>\n",
       "      <td>...</td>\n",
       "      <td>0</td>\n",
       "      <td>0</td>\n",
       "      <td>0</td>\n",
       "      <td>0</td>\n",
       "      <td>0</td>\n",
       "      <td>0</td>\n",
       "      <td>1</td>\n",
       "      <td>0</td>\n",
       "      <td>0</td>\n",
       "      <td>Short, Comedy</td>\n",
       "    </tr>\n",
       "  </tbody>\n",
       "</table>\n",
       "<p>1227 rows × 25 columns</p>\n",
       "</div>"
      ],
      "text/plain": [
       "      Musical  Animation  Romance  Western  Music  Mystery  War  Short  \\\n",
       "0           0          0        0        0      0        0    0      0   \n",
       "1           0          0        0        0      0        0    0      0   \n",
       "2           0          0        0        0      0        0    0      0   \n",
       "3           0          1        0        0      0        0    0      0   \n",
       "4           0          1        0        0      0        0    0      0   \n",
       "...       ...        ...      ...      ...    ...      ...  ...    ...   \n",
       "1222        0          0        0        0      0        0    0      1   \n",
       "1223        0          0        0        0      0        0    0      1   \n",
       "1224        0          0        0        0      0        0    0      0   \n",
       "1225        0          0        0        0      0        0    0      0   \n",
       "1226        0          0        0        0      0        0    0      1   \n",
       "\n",
       "      Talk-Show  Sci-Fi  ...  Drama  Fantasy  Action  Adventure  Documentary  \\\n",
       "0             0       1  ...      0        0       1          0            0   \n",
       "1             0       0  ...      1        0       1          1            0   \n",
       "2             0       0  ...      0        1       1          1            0   \n",
       "3             0       0  ...      0        0       0          1            0   \n",
       "4             0       0  ...      0        0       0          1            0   \n",
       "...         ...     ...  ...    ...      ...     ...        ...          ...   \n",
       "1222          0       0  ...      0        0       1          0            0   \n",
       "1223          0       0  ...      1        0       0          0            0   \n",
       "1224          0       0  ...      1        0       0          0            0   \n",
       "1225          0       0  ...      1        0       1          0            0   \n",
       "1226          0       0  ...      0        0       0          0            0   \n",
       "\n",
       "      History  Comedy  Horror  Biography                         genre  \n",
       "0           0       0       0          0      Action, Sci-Fi, Thriller  \n",
       "1           0       0       0          0      Action, Adventure, Drama  \n",
       "2           0       0       0          0    Action, Adventure, Fantasy  \n",
       "3           0       1       0          0  Animation, Adventure, Comedy  \n",
       "4           0       1       0          0  Animation, Adventure, Comedy  \n",
       "...       ...     ...     ...        ...                           ...  \n",
       "1222        0       0       0          0                 Short, Action  \n",
       "1223        0       0       0          0                  Short, Drama  \n",
       "1224        0       0       0          0                  Crime, Drama  \n",
       "1225        0       0       0          0          Action, Crime, Drama  \n",
       "1226        0       1       0          0                 Short, Comedy  \n",
       "\n",
       "[1227 rows x 25 columns]"
      ]
     },
     "execution_count": 16,
     "metadata": {},
     "output_type": "execute_result"
    }
   ],
   "source": [
    "# now viewing changes made\n",
    "all_data.iloc[: , -25:]"
   ]
  },
  {
   "cell_type": "code",
   "execution_count": 17,
   "metadata": {},
   "outputs": [],
   "source": [
    "# looks good! we'll remove the nan column as it is not needed\n",
    "all_data = all_data.drop(columns = ['nan'])"
   ]
  },
  {
   "cell_type": "code",
   "execution_count": 18,
   "metadata": {},
   "outputs": [
    {
     "data": {
      "text/html": [
       "<div>\n",
       "<style scoped>\n",
       "    .dataframe tbody tr th:only-of-type {\n",
       "        vertical-align: middle;\n",
       "    }\n",
       "\n",
       "    .dataframe tbody tr th {\n",
       "        vertical-align: top;\n",
       "    }\n",
       "\n",
       "    .dataframe thead th {\n",
       "        text-align: right;\n",
       "    }\n",
       "</style>\n",
       "<table border=\"1\" class=\"dataframe\">\n",
       "  <thead>\n",
       "    <tr style=\"text-align: right;\">\n",
       "      <th></th>\n",
       "      <th>Musical</th>\n",
       "      <th>Animation</th>\n",
       "      <th>Romance</th>\n",
       "      <th>Western</th>\n",
       "      <th>Music</th>\n",
       "      <th>Mystery</th>\n",
       "      <th>War</th>\n",
       "      <th>Short</th>\n",
       "      <th>Talk-Show</th>\n",
       "      <th>Sci-Fi</th>\n",
       "      <th>...</th>\n",
       "      <th>Sport</th>\n",
       "      <th>Drama</th>\n",
       "      <th>Fantasy</th>\n",
       "      <th>Action</th>\n",
       "      <th>Adventure</th>\n",
       "      <th>Documentary</th>\n",
       "      <th>History</th>\n",
       "      <th>Comedy</th>\n",
       "      <th>Horror</th>\n",
       "      <th>Biography</th>\n",
       "    </tr>\n",
       "  </thead>\n",
       "  <tbody>\n",
       "    <tr>\n",
       "      <th>0</th>\n",
       "      <td>0</td>\n",
       "      <td>0</td>\n",
       "      <td>0</td>\n",
       "      <td>0</td>\n",
       "      <td>0</td>\n",
       "      <td>0</td>\n",
       "      <td>0</td>\n",
       "      <td>0</td>\n",
       "      <td>0</td>\n",
       "      <td>1</td>\n",
       "      <td>...</td>\n",
       "      <td>0</td>\n",
       "      <td>0</td>\n",
       "      <td>0</td>\n",
       "      <td>1</td>\n",
       "      <td>0</td>\n",
       "      <td>0</td>\n",
       "      <td>0</td>\n",
       "      <td>0</td>\n",
       "      <td>0</td>\n",
       "      <td>0</td>\n",
       "    </tr>\n",
       "    <tr>\n",
       "      <th>1</th>\n",
       "      <td>0</td>\n",
       "      <td>0</td>\n",
       "      <td>0</td>\n",
       "      <td>0</td>\n",
       "      <td>0</td>\n",
       "      <td>0</td>\n",
       "      <td>0</td>\n",
       "      <td>0</td>\n",
       "      <td>0</td>\n",
       "      <td>0</td>\n",
       "      <td>...</td>\n",
       "      <td>0</td>\n",
       "      <td>1</td>\n",
       "      <td>0</td>\n",
       "      <td>1</td>\n",
       "      <td>1</td>\n",
       "      <td>0</td>\n",
       "      <td>0</td>\n",
       "      <td>0</td>\n",
       "      <td>0</td>\n",
       "      <td>0</td>\n",
       "    </tr>\n",
       "    <tr>\n",
       "      <th>2</th>\n",
       "      <td>0</td>\n",
       "      <td>0</td>\n",
       "      <td>0</td>\n",
       "      <td>0</td>\n",
       "      <td>0</td>\n",
       "      <td>0</td>\n",
       "      <td>0</td>\n",
       "      <td>0</td>\n",
       "      <td>0</td>\n",
       "      <td>0</td>\n",
       "      <td>...</td>\n",
       "      <td>0</td>\n",
       "      <td>0</td>\n",
       "      <td>1</td>\n",
       "      <td>1</td>\n",
       "      <td>1</td>\n",
       "      <td>0</td>\n",
       "      <td>0</td>\n",
       "      <td>0</td>\n",
       "      <td>0</td>\n",
       "      <td>0</td>\n",
       "    </tr>\n",
       "    <tr>\n",
       "      <th>3</th>\n",
       "      <td>0</td>\n",
       "      <td>1</td>\n",
       "      <td>0</td>\n",
       "      <td>0</td>\n",
       "      <td>0</td>\n",
       "      <td>0</td>\n",
       "      <td>0</td>\n",
       "      <td>0</td>\n",
       "      <td>0</td>\n",
       "      <td>0</td>\n",
       "      <td>...</td>\n",
       "      <td>0</td>\n",
       "      <td>0</td>\n",
       "      <td>0</td>\n",
       "      <td>0</td>\n",
       "      <td>1</td>\n",
       "      <td>0</td>\n",
       "      <td>0</td>\n",
       "      <td>1</td>\n",
       "      <td>0</td>\n",
       "      <td>0</td>\n",
       "    </tr>\n",
       "    <tr>\n",
       "      <th>4</th>\n",
       "      <td>0</td>\n",
       "      <td>1</td>\n",
       "      <td>0</td>\n",
       "      <td>0</td>\n",
       "      <td>0</td>\n",
       "      <td>0</td>\n",
       "      <td>0</td>\n",
       "      <td>0</td>\n",
       "      <td>0</td>\n",
       "      <td>0</td>\n",
       "      <td>...</td>\n",
       "      <td>0</td>\n",
       "      <td>0</td>\n",
       "      <td>0</td>\n",
       "      <td>0</td>\n",
       "      <td>1</td>\n",
       "      <td>0</td>\n",
       "      <td>0</td>\n",
       "      <td>1</td>\n",
       "      <td>0</td>\n",
       "      <td>0</td>\n",
       "    </tr>\n",
       "    <tr>\n",
       "      <th>...</th>\n",
       "      <td>...</td>\n",
       "      <td>...</td>\n",
       "      <td>...</td>\n",
       "      <td>...</td>\n",
       "      <td>...</td>\n",
       "      <td>...</td>\n",
       "      <td>...</td>\n",
       "      <td>...</td>\n",
       "      <td>...</td>\n",
       "      <td>...</td>\n",
       "      <td>...</td>\n",
       "      <td>...</td>\n",
       "      <td>...</td>\n",
       "      <td>...</td>\n",
       "      <td>...</td>\n",
       "      <td>...</td>\n",
       "      <td>...</td>\n",
       "      <td>...</td>\n",
       "      <td>...</td>\n",
       "      <td>...</td>\n",
       "      <td>...</td>\n",
       "    </tr>\n",
       "    <tr>\n",
       "      <th>1222</th>\n",
       "      <td>0</td>\n",
       "      <td>0</td>\n",
       "      <td>0</td>\n",
       "      <td>0</td>\n",
       "      <td>0</td>\n",
       "      <td>0</td>\n",
       "      <td>0</td>\n",
       "      <td>1</td>\n",
       "      <td>0</td>\n",
       "      <td>0</td>\n",
       "      <td>...</td>\n",
       "      <td>0</td>\n",
       "      <td>0</td>\n",
       "      <td>0</td>\n",
       "      <td>1</td>\n",
       "      <td>0</td>\n",
       "      <td>0</td>\n",
       "      <td>0</td>\n",
       "      <td>0</td>\n",
       "      <td>0</td>\n",
       "      <td>0</td>\n",
       "    </tr>\n",
       "    <tr>\n",
       "      <th>1223</th>\n",
       "      <td>0</td>\n",
       "      <td>0</td>\n",
       "      <td>0</td>\n",
       "      <td>0</td>\n",
       "      <td>0</td>\n",
       "      <td>0</td>\n",
       "      <td>0</td>\n",
       "      <td>1</td>\n",
       "      <td>0</td>\n",
       "      <td>0</td>\n",
       "      <td>...</td>\n",
       "      <td>0</td>\n",
       "      <td>1</td>\n",
       "      <td>0</td>\n",
       "      <td>0</td>\n",
       "      <td>0</td>\n",
       "      <td>0</td>\n",
       "      <td>0</td>\n",
       "      <td>0</td>\n",
       "      <td>0</td>\n",
       "      <td>0</td>\n",
       "    </tr>\n",
       "    <tr>\n",
       "      <th>1224</th>\n",
       "      <td>0</td>\n",
       "      <td>0</td>\n",
       "      <td>0</td>\n",
       "      <td>0</td>\n",
       "      <td>0</td>\n",
       "      <td>0</td>\n",
       "      <td>0</td>\n",
       "      <td>0</td>\n",
       "      <td>0</td>\n",
       "      <td>0</td>\n",
       "      <td>...</td>\n",
       "      <td>0</td>\n",
       "      <td>1</td>\n",
       "      <td>0</td>\n",
       "      <td>0</td>\n",
       "      <td>0</td>\n",
       "      <td>0</td>\n",
       "      <td>0</td>\n",
       "      <td>0</td>\n",
       "      <td>0</td>\n",
       "      <td>0</td>\n",
       "    </tr>\n",
       "    <tr>\n",
       "      <th>1225</th>\n",
       "      <td>0</td>\n",
       "      <td>0</td>\n",
       "      <td>0</td>\n",
       "      <td>0</td>\n",
       "      <td>0</td>\n",
       "      <td>0</td>\n",
       "      <td>0</td>\n",
       "      <td>0</td>\n",
       "      <td>0</td>\n",
       "      <td>0</td>\n",
       "      <td>...</td>\n",
       "      <td>0</td>\n",
       "      <td>1</td>\n",
       "      <td>0</td>\n",
       "      <td>1</td>\n",
       "      <td>0</td>\n",
       "      <td>0</td>\n",
       "      <td>0</td>\n",
       "      <td>0</td>\n",
       "      <td>0</td>\n",
       "      <td>0</td>\n",
       "    </tr>\n",
       "    <tr>\n",
       "      <th>1226</th>\n",
       "      <td>0</td>\n",
       "      <td>0</td>\n",
       "      <td>0</td>\n",
       "      <td>0</td>\n",
       "      <td>0</td>\n",
       "      <td>0</td>\n",
       "      <td>0</td>\n",
       "      <td>1</td>\n",
       "      <td>0</td>\n",
       "      <td>0</td>\n",
       "      <td>...</td>\n",
       "      <td>0</td>\n",
       "      <td>0</td>\n",
       "      <td>0</td>\n",
       "      <td>0</td>\n",
       "      <td>0</td>\n",
       "      <td>0</td>\n",
       "      <td>0</td>\n",
       "      <td>1</td>\n",
       "      <td>0</td>\n",
       "      <td>0</td>\n",
       "    </tr>\n",
       "  </tbody>\n",
       "</table>\n",
       "<p>1227 rows × 23 columns</p>\n",
       "</div>"
      ],
      "text/plain": [
       "      Musical  Animation  Romance  Western  Music  Mystery  War  Short  \\\n",
       "0           0          0        0        0      0        0    0      0   \n",
       "1           0          0        0        0      0        0    0      0   \n",
       "2           0          0        0        0      0        0    0      0   \n",
       "3           0          1        0        0      0        0    0      0   \n",
       "4           0          1        0        0      0        0    0      0   \n",
       "...       ...        ...      ...      ...    ...      ...  ...    ...   \n",
       "1222        0          0        0        0      0        0    0      1   \n",
       "1223        0          0        0        0      0        0    0      1   \n",
       "1224        0          0        0        0      0        0    0      0   \n",
       "1225        0          0        0        0      0        0    0      0   \n",
       "1226        0          0        0        0      0        0    0      1   \n",
       "\n",
       "      Talk-Show  Sci-Fi  ...  Sport  Drama  Fantasy  Action  Adventure  \\\n",
       "0             0       1  ...      0      0        0       1          0   \n",
       "1             0       0  ...      0      1        0       1          1   \n",
       "2             0       0  ...      0      0        1       1          1   \n",
       "3             0       0  ...      0      0        0       0          1   \n",
       "4             0       0  ...      0      0        0       0          1   \n",
       "...         ...     ...  ...    ...    ...      ...     ...        ...   \n",
       "1222          0       0  ...      0      0        0       1          0   \n",
       "1223          0       0  ...      0      1        0       0          0   \n",
       "1224          0       0  ...      0      1        0       0          0   \n",
       "1225          0       0  ...      0      1        0       1          0   \n",
       "1226          0       0  ...      0      0        0       0          0   \n",
       "\n",
       "      Documentary  History  Comedy  Horror  Biography  \n",
       "0               0        0       0       0          0  \n",
       "1               0        0       0       0          0  \n",
       "2               0        0       0       0          0  \n",
       "3               0        0       1       0          0  \n",
       "4               0        0       1       0          0  \n",
       "...           ...      ...     ...     ...        ...  \n",
       "1222            0        0       0       0          0  \n",
       "1223            0        0       0       0          0  \n",
       "1224            0        0       0       0          0  \n",
       "1225            0        0       0       0          0  \n",
       "1226            0        0       1       0          0  \n",
       "\n",
       "[1227 rows x 23 columns]"
      ]
     },
     "execution_count": 18,
     "metadata": {},
     "output_type": "execute_result"
    }
   ],
   "source": [
    "# now we can look at the distribution of the genres\n",
    "genres_df = all_data.iloc[: , -24:-1]\n",
    "genres_df"
   ]
  },
  {
   "cell_type": "code",
   "execution_count": 19,
   "metadata": {},
   "outputs": [
    {
     "data": {
      "text/plain": [
       "<matplotlib.axes._subplots.AxesSubplot at 0x168bd871390>"
      ]
     },
     "execution_count": 19,
     "metadata": {},
     "output_type": "execute_result"
    },
    {
     "data": {
      "image/png": "[encoded data removed]",
      "text/plain": [
       "<Figure size 432x288 with 1 Axes>"
      ]
     },
     "metadata": {
      "needs_background": "light"
     },
     "output_type": "display_data"
    }
   ],
   "source": [
    "genres_df.sum().plot(kind = 'bar')"
   ]
  },
  {
   "cell_type": "code",
   "execution_count": 20,
   "metadata": {},
   "outputs": [
    {
     "data": {
      "image/png": "[encoded data removed]",
      "text/plain": [
       "<Figure size 720x432 with 1 Axes>"
      ]
     },
     "metadata": {
      "needs_background": "light"
     },
     "output_type": "display_data"
    }
   ],
   "source": [
    "# looking at a couple of genres where critics pick\n",
    "cross_tab_prop = pd.crosstab(index=all_data['Drama'],\n",
    "                             columns=all_data['critics_pick'],\n",
    "                            normalize = 'index')\n",
    "cross_tab_prop.plot(kind='bar', \n",
    "                    stacked=True, \n",
    "                    colormap='tab10', \n",
    "                    figsize=(10, 6))\n",
    "\n",
    "plt.legend(loc=\"upper left\", ncol=2)\n",
    "plt.xlabel(\"Drama\")\n",
    "plt.ylabel(\"Proportion\")\n",
    "plt.show()"
   ]
  },
  {
   "cell_type": "code",
   "execution_count": 21,
   "metadata": {},
   "outputs": [
    {
     "data": {
      "image/png": "[encoded data removed]",
      "text/plain": [
       "<Figure size 720x432 with 1 Axes>"
      ]
     },
     "metadata": {
      "needs_background": "light"
     },
     "output_type": "display_data"
    }
   ],
   "source": [
    "cross_tab_prop = pd.crosstab(index=all_data['Comedy'],\n",
    "                             columns=all_data['critics_pick'],\n",
    "                            normalize = 'index')\n",
    "cross_tab_prop.plot(kind='bar', \n",
    "                    stacked=True, \n",
    "                    colormap='tab10', \n",
    "                    figsize=(10, 6))\n",
    "\n",
    "plt.legend(loc=\"upper left\", ncol=2)\n",
    "plt.xlabel(\"Comedy\")\n",
    "plt.ylabel(\"Proportion\")\n",
    "plt.show()"
   ]
  },
  {
   "cell_type": "code",
   "execution_count": 22,
   "metadata": {},
   "outputs": [
    {
     "data": {
      "image/png": "[encoded data removed]",
      "text/plain": [
       "<Figure size 720x432 with 1 Axes>"
      ]
     },
     "metadata": {
      "needs_background": "light"
     },
     "output_type": "display_data"
    }
   ],
   "source": [
    "cross_tab_prop = pd.crosstab(index=all_data['Documentary'],\n",
    "                             columns=all_data['critics_pick'],\n",
    "                            normalize = 'index')\n",
    "cross_tab_prop.plot(kind='bar', \n",
    "                    stacked=True, \n",
    "                    colormap='tab10', \n",
    "                    figsize=(10, 6))\n",
    "\n",
    "plt.legend(loc=\"upper left\", ncol=2)\n",
    "plt.xlabel(\"Documentary\")\n",
    "plt.ylabel(\"Proportion\")\n",
    "plt.show()"
   ]
  },
  {
   "cell_type": "code",
   "execution_count": 23,
   "metadata": {},
   "outputs": [
    {
     "data": {
      "image/png": "[encoded data removed]",
      "text/plain": [
       "<Figure size 720x432 with 1 Axes>"
      ]
     },
     "metadata": {
      "needs_background": "light"
     },
     "output_type": "display_data"
    }
   ],
   "source": [
    "# now looking at wins\n",
    "cross_tab_prop = pd.crosstab(index=all_data['critics_pick'],\n",
    "                             columns=all_data['total_wins'],\n",
    "                            normalize = 'index')\n",
    "cross_tab_prop.plot(kind='bar', \n",
    "                    stacked=True, \n",
    "                    colormap='tab10', \n",
    "                    figsize=(10, 6))\n",
    "\n",
    "plt.legend(loc=\"upper left\", ncol=2)\n",
    "plt.xlabel(\"total_wins\")\n",
    "plt.ylabel(\"Proportion\")\n",
    "plt.show()\n",
    "\n",
    "# it's a little rough looking with no filtering but we can see that movies not critics pick have less wins than critics picks"
   ]
  },
  {
   "cell_type": "code",
   "execution_count": 24,
   "metadata": {},
   "outputs": [
    {
     "data": {
      "image/png": "[encoded data removed]",
      "text/plain": [
       "<Figure size 720x432 with 1 Axes>"
      ]
     },
     "metadata": {
      "needs_background": "light"
     },
     "output_type": "display_data"
    }
   ],
   "source": [
    "# let's create a new category for \"won_something\"\n",
    "all_data['won_something'] = all_data['total_wins'].apply(lambda x: True if int(x) > 0 else False)\n",
    "\n",
    "# now plot as above\n",
    "cross_tab_prop = pd.crosstab(index=all_data['critics_pick'],\n",
    "                             columns=all_data['won_something'],\n",
    "                            normalize = 'index')\n",
    "cross_tab_prop.plot(kind='bar', \n",
    "                    stacked=True, \n",
    "                    colormap='tab10', \n",
    "                    figsize=(10, 6))\n",
    "\n",
    "plt.legend(loc=\"upper left\", ncol=2)\n",
    "plt.xlabel(\"total_wins\")\n",
    "plt.ylabel(\"Proportion\")\n",
    "plt.show()"
   ]
  },
  {
   "cell_type": "code",
   "execution_count": 25,
   "metadata": {},
   "outputs": [
    {
     "data": {
      "text/plain": [
       "<matplotlib.axes._subplots.AxesSubplot at 0x168bdb7c898>"
      ]
     },
     "execution_count": 25,
     "metadata": {},
     "output_type": "execute_result"
    },
    {
     "data": {
      "image/png": "[encoded data removed]",
      "text/plain": [
       "<Figure size 432x288 with 1 Axes>"
      ]
     },
     "metadata": {
      "needs_background": "light"
     },
     "output_type": "display_data"
    }
   ],
   "source": [
    "# distribution of rotten tomatoes by critics choice (the picks)\n",
    "all_data[all_data['critics_pick'] == 1]['Rotten Tomatoes'].plot(kind = 'hist')"
   ]
  },
  {
   "cell_type": "code",
   "execution_count": 26,
   "metadata": {},
   "outputs": [
    {
     "data": {
      "text/plain": [
       "<matplotlib.axes._subplots.AxesSubplot at 0x168bdd6a3c8>"
      ]
     },
     "execution_count": 26,
     "metadata": {},
     "output_type": "execute_result"
    },
    {
     "data": {
      "image/png": "[encoded data removed]",
      "text/plain": [
       "<Figure size 432x288 with 1 Axes>"
      ]
     },
     "metadata": {
      "needs_background": "light"
     },
     "output_type": "display_data"
    }
   ],
   "source": [
    "# distribution of rotten tomatoes by critics choice (not picked)\n",
    "all_data[all_data['critics_pick'] == 0]['Rotten Tomatoes'].plot(kind = 'hist')"
   ]
  },
  {
   "cell_type": "code",
   "execution_count": 27,
   "metadata": {},
   "outputs": [
    {
     "data": {
      "text/plain": [
       "<matplotlib.axes._subplots.AxesSubplot at 0x168bdd64198>"
      ]
     },
     "execution_count": 27,
     "metadata": {},
     "output_type": "execute_result"
    },
    {
     "data": {
      "image/png": "[encoded data removed]",
      "text/plain": [
       "<Figure size 432x288 with 1 Axes>"
      ]
     },
     "metadata": {
      "needs_background": "light"
     },
     "output_type": "display_data"
    }
   ],
   "source": [
    "# now runtime minutes (picked)\n",
    "all_data[all_data['critics_pick'] == 1]['Runtime_mins'].plot(kind = 'hist')"
   ]
  },
  {
   "cell_type": "code",
   "execution_count": 28,
   "metadata": {},
   "outputs": [
    {
     "data": {
      "text/plain": [
       "<matplotlib.axes._subplots.AxesSubplot at 0x168bde66ba8>"
      ]
     },
     "execution_count": 28,
     "metadata": {},
     "output_type": "execute_result"
    },
    {
     "data": {
      "image/png": "[encoded data removed]",
      "text/plain": [
       "<Figure size 432x288 with 1 Axes>"
      ]
     },
     "metadata": {
      "needs_background": "light"
     },
     "output_type": "display_data"
    }
   ],
   "source": [
    "# now runtime minutes (not picked)\n",
    "all_data[all_data['critics_pick'] == 0]['Runtime_mins'].plot(kind = 'hist')\n",
    "# some obvious skew issues here, but not exploring just yet"
   ]
  },
  {
   "cell_type": "code",
   "execution_count": 29,
   "metadata": {},
   "outputs": [
    {
     "data": {
      "image/png": "[encoded data removed]",
      "text/plain": [
       "<Figure size 720x432 with 1 Axes>"
      ]
     },
     "metadata": {
      "needs_background": "light"
     },
     "output_type": "display_data"
    },
    {
     "data": {
      "image/png": "[encoded data removed]",
      "text/plain": [
       "<Figure size 720x432 with 1 Axes>"
      ]
     },
     "metadata": {
      "needs_background": "light"
     },
     "output_type": "display_data"
    }
   ],
   "source": [
    "# now let's check the bylines\n",
    "cross_tab_prop = pd.crosstab(index=all_data['byline'],\n",
    "                             columns=all_data['critics_pick'])\n",
    "cross_tab_prop.plot(kind='bar', \n",
    "                    stacked=True, \n",
    "                    colormap='tab10', \n",
    "                    figsize=(10, 6))\n",
    "\n",
    "plt.legend(loc=\"upper left\", ncol=2)\n",
    "plt.xlabel(\"byline\")\n",
    "plt.ylabel(\"Count\")\n",
    "plt.show()\n",
    "\n",
    "cross_tab_prop = pd.crosstab(index=all_data['byline'],\n",
    "                             columns=all_data['critics_pick'],\n",
    "                            normalize = 'index')\n",
    "cross_tab_prop.plot(kind='bar', \n",
    "                    stacked=True, \n",
    "                    colormap='tab10', \n",
    "                    figsize=(10, 6))\n",
    "\n",
    "plt.legend(loc=\"upper left\", ncol=2)\n",
    "plt.xlabel(\"byline\")\n",
    "plt.ylabel(\"Count\")\n",
    "plt.show()\n",
    "# looks like there are a few common reviewers and some that have only given critics picks while other never, or rarely, do"
   ]
  },
  {
   "cell_type": "code",
   "execution_count": 30,
   "metadata": {},
   "outputs": [],
   "source": [
    "# now we need to convert the reviewers to integers for the model (like we did with rating)\n",
    "ratings_dict = {}\n",
    "for i, name in zip(range(len(list(set(all_data['byline'])))), list(set(all_data['byline']))):\n",
    "    ratings_dict[name] = i\n",
    "all_data['byline_num'] = all_data['byline']\n",
    "all_data = all_data.replace({\"byline_num\": ratings_dict})"
   ]
  },
  {
   "cell_type": "code",
   "execution_count": 31,
   "metadata": {},
   "outputs": [
    {
     "data": {
      "image/png": "[encoded data removed]",
      "text/plain": [
       "<Figure size 720x432 with 1 Axes>"
      ]
     },
     "metadata": {
      "needs_background": "light"
     },
     "output_type": "display_data"
    }
   ],
   "source": [
    "# we're also going to consider release date\n",
    "# we'll do it by week of the year\n",
    "all_data['Released'] = pd.to_datetime(all_data['Released'])\n",
    "weeks = []\n",
    "for x in all_data['Released']:\n",
    "    if str(x) != 'NaT':\n",
    "        week = x.isocalendar()[1]\n",
    "    else:\n",
    "        week = x\n",
    "    weeks.append(week)\n",
    "all_data['Released_week'] = weeks\n",
    "\n",
    "# now let's look at the proportions\n",
    "cross_tab_prop = pd.crosstab(index=all_data['Released_week'],\n",
    "                             columns=all_data['critics_pick'],\n",
    "                            normalize = 'index')\n",
    "cross_tab_prop.plot(kind='bar', \n",
    "                    stacked=True, \n",
    "                    colormap='tab10', \n",
    "                    figsize=(10, 6))\n",
    "\n",
    "plt.legend(loc=\"upper left\", ncol=2)\n",
    "plt.xlabel(\"released week\")\n",
    "plt.ylabel(\"Count\")\n",
    "plt.show()\n",
    "\n",
    "# kind of looks like summer weeks have more picks proportionally"
   ]
  },
  {
   "cell_type": "code",
   "execution_count": 32,
   "metadata": {},
   "outputs": [
    {
     "data": {
      "text/plain": [
       "<matplotlib.axes._subplots.AxesSubplot at 0x168bdb7c128>"
      ]
     },
     "execution_count": 32,
     "metadata": {},
     "output_type": "execute_result"
    },
    {
     "data": {
      "image/png": "[encoded data removed]",
      "text/plain": [
       "<Figure size 432x288 with 1 Axes>"
      ]
     },
     "metadata": {
      "needs_background": "light"
     },
     "output_type": "display_data"
    }
   ],
   "source": [
    "# let's look at box office now\n",
    "all_data[all_data['critics_pick'] == 1]['BoxOffice'].plot(kind = 'hist', bins = 50)"
   ]
  },
  {
   "cell_type": "code",
   "execution_count": 33,
   "metadata": {},
   "outputs": [
    {
     "data": {
      "text/plain": [
       "<matplotlib.axes._subplots.AxesSubplot at 0x168bda4d4e0>"
      ]
     },
     "execution_count": 33,
     "metadata": {},
     "output_type": "execute_result"
    },
    {
     "data": {
      "image/png": "[encoded data removed]",
      "text/plain": [
       "<Figure size 432x288 with 1 Axes>"
      ]
     },
     "metadata": {
      "needs_background": "light"
     },
     "output_type": "display_data"
    }
   ],
   "source": [
    "# let's look at box office now\n",
    "all_data[all_data['critics_pick'] == 0]['BoxOffice'].plot(kind = 'hist', bins = 50)\n",
    "# just looks like slightly more spread in non picks"
   ]
  },
  {
   "cell_type": "code",
   "execution_count": 34,
   "metadata": {},
   "outputs": [],
   "source": [
    "# despite just looking at some of the variables, we will include most in the modeling section and use feature selection"
   ]
  },
  {
   "cell_type": "code",
   "execution_count": 35,
   "metadata": {},
   "outputs": [],
   "source": [
    "# need to fix where NaT type -- should be NoneType\n",
    "all_data = all_data.astype(object).where(all_data.notnull(), None)\n",
    "# filling in null values to get model to work\n",
    "all_data = pd.DataFrame(all_data).fillna(-9)"
   ]
  },
  {
   "cell_type": "markdown",
   "metadata": {},
   "source": [
    "# Modeling: without text features"
   ]
  },
  {
   "cell_type": "code",
   "execution_count": 36,
   "metadata": {},
   "outputs": [],
   "source": [
    "random.seed(2)"
   ]
  },
  {
   "cell_type": "code",
   "execution_count": 37,
   "metadata": {},
   "outputs": [
    {
     "name": "stdout",
     "output_type": "stream",
     "text": [
      "train count:  484\n",
      "test count:  436\n"
     ]
    }
   ],
   "source": [
    "# split into train and test (train on 2020, test on 2021)\n",
    "train = all_data[all_data['Year'] == '2020']\n",
    "test = all_data[all_data['Year'] == '2021']\n",
    "\n",
    "# view counts for each\n",
    "print('train count: ', len(train))\n",
    "print('test count: ', len(test))"
   ]
  },
  {
   "cell_type": "markdown",
   "metadata": {},
   "source": [
    "Experiment with variables we think are a good fit: RandomForestClassifier"
   ]
  },
  {
   "cell_type": "code",
   "execution_count": 38,
   "metadata": {},
   "outputs": [],
   "source": [
    "X_train = train[['Rating_num', 'Action','Drama','Horror','Family','Short','Sport','Sci-Fi','Documentary',\n",
    " 'Thriller','Adventure','Released_week', 'Runtime_mins','BoxOffice', 'Rotten Tomatoes', \n",
    " 'oscar_wins', 'oscar_noms','total_wins', 'total_noms','byline_num']]\n",
    "y_train = train['critics_pick']\n",
    "X_test = test[['Rating_num', 'Action','Drama','Horror','Family','Short','Sport','Sci-Fi','Documentary',\n",
    " 'Thriller','Adventure','Released_week', 'Runtime_mins','BoxOffice', 'Rotten Tomatoes', \n",
    " 'oscar_wins', 'oscar_noms','total_wins', 'total_noms','byline_num']]\n",
    "y_test = test['critics_pick']"
   ]
  },
  {
   "cell_type": "code",
   "execution_count": 39,
   "metadata": {},
   "outputs": [
    {
     "name": "stdout",
     "output_type": "stream",
     "text": [
      "report:\n",
      "              precision    recall  f1-score   support\n",
      "\n",
      "           0       0.82      0.98      0.89       355\n",
      "           1       0.38      0.06      0.11        81\n",
      "\n",
      "    accuracy                           0.81       436\n",
      "   macro avg       0.60      0.52      0.50       436\n",
      "weighted avg       0.74      0.81      0.75       436\n",
      "\n"
     ]
    }
   ],
   "source": [
    "rfc = RandomForestClassifier(n_estimators = 100, random_state = 42, max_features = 1)\n",
    "rfc.fit(X_train, y_train)\n",
    "y_pred = rfc.predict(X_test)\n",
    "report = classification_report(y_test, y_pred)\n",
    "print('report:', report, sep='\\n')"
   ]
  },
  {
   "cell_type": "code",
   "execution_count": 40,
   "metadata": {},
   "outputs": [
    {
     "data": {
      "image/png": "[encoded data removed]",
      "text/plain": [
       "<Figure size 432x288 with 1 Axes>"
      ]
     },
     "metadata": {
      "needs_background": "light"
     },
     "output_type": "display_data"
    }
   ],
   "source": [
    "rfc_disp = RocCurveDisplay.from_estimator(rfc, X_test, y_test)\n",
    "plt.show()"
   ]
  },
  {
   "cell_type": "markdown",
   "metadata": {},
   "source": [
    "Next let's do it with feature selection: Random Forest Classifier"
   ]
  },
  {
   "cell_type": "code",
   "execution_count": 41,
   "metadata": {},
   "outputs": [],
   "source": [
    "X_train = train[['Rating_num', 'Action','Mystery','Fantasy','Animation','Romance','Drama','History','Western',\n",
    " 'Crime','Comedy','Horror','Family','Short','Sport','Sci-Fi','Documentary','Music','Biography','Talk-Show',\n",
    " 'Thriller','War','Adventure','Musical', 'Released_week', 'Runtime_mins','imdbRating', 'imdbVotes','BoxOffice', \n",
    " 'Rotten Tomatoes', 'Metacritic', 'oscar_wins', 'oscar_noms','emmy_wins', 'emmy_noms', 'total_wins', 'total_noms','byline_num']]\n",
    "y_train = train['critics_pick']"
   ]
  },
  {
   "cell_type": "code",
   "execution_count": 42,
   "metadata": {},
   "outputs": [
    {
     "name": "stdout",
     "output_type": "stream",
     "text": [
      "Index(['Rating_num', 'Released_week', 'Runtime_mins', 'imdbRating',\n",
      "       'imdbVotes', 'BoxOffice', 'Rotten Tomatoes', 'Metacritic', 'total_wins',\n",
      "       'total_noms', 'byline_num'],\n",
      "      dtype='object')\n"
     ]
    }
   ],
   "source": [
    "rfc = SelectFromModel(RandomForestClassifier(n_estimators = 100, random_state = 42, max_features = 1))\n",
    "rfc.fit(X_train, y_train)\n",
    "rfc.get_support()\n",
    "selected_feat= X_train.columns[(rfc.get_support())]\n",
    "len(selected_feat)\n",
    "print(selected_feat)"
   ]
  },
  {
   "cell_type": "code",
   "execution_count": 43,
   "metadata": {},
   "outputs": [
    {
     "data": {
      "image/png": "[encoded data removed]",
      "text/plain": [
       "<Figure size 1080x288 with 1 Axes>"
      ]
     },
     "metadata": {
      "needs_background": "light"
     },
     "output_type": "display_data"
    }
   ],
   "source": [
    "importances = rfc.estimator_.feature_importances_\n",
    "indices = np.argsort(importances)[::-1]\n",
    "# X is the train data used to fit the model \n",
    "plt.figure(figsize=(15, 4))\n",
    "plt.title(\"Feature importances\")\n",
    "plt.bar(range(X_train.shape[1]), importances[indices],\n",
    "       color=\"b\", align=\"center\")\n",
    "plt.xticks(range(X_train.shape[1]), indices)\n",
    "plt.xlim([-1, X_train.shape[1]])\n",
    "plt.show()"
   ]
  },
  {
   "cell_type": "code",
   "execution_count": 44,
   "metadata": {},
   "outputs": [
    {
     "data": {
      "text/plain": [
       "'Metacritic'"
      ]
     },
     "execution_count": 44,
     "metadata": {},
     "output_type": "execute_result"
    }
   ],
   "source": [
    "# first most important feature\n",
    "X_train.columns[30]"
   ]
  },
  {
   "cell_type": "code",
   "execution_count": 45,
   "metadata": {},
   "outputs": [
    {
     "name": "stdout",
     "output_type": "stream",
     "text": [
      "total_noms\n",
      "total_wins\n",
      "Runtime_mins\n",
      "imdbVotes\n",
      "byline_num\n",
      "imdbRating\n",
      "Released_week\n",
      "Rotten Tomatoes\n"
     ]
    }
   ],
   "source": [
    "# second-ninth most important feature in order\n",
    "for i in [36, 35, 25, 27, 37, 26, 24, 29]:\n",
    "    print(X_train.columns[i])"
   ]
  },
  {
   "cell_type": "code",
   "execution_count": 46,
   "metadata": {},
   "outputs": [
    {
     "name": "stdout",
     "output_type": "stream",
     "text": [
      "report:\n",
      "              precision    recall  f1-score   support\n",
      "\n",
      "           0       0.83      0.98      0.90       355\n",
      "           1       0.60      0.15      0.24        81\n",
      "\n",
      "    accuracy                           0.82       436\n",
      "   macro avg       0.72      0.56      0.57       436\n",
      "weighted avg       0.79      0.82      0.78       436\n",
      "\n"
     ]
    }
   ],
   "source": [
    "X_train = train[['Rating_num', 'Released_week', 'Runtime_mins', 'imdbRating',\n",
    "       'imdbVotes', 'Rotten Tomatoes', 'Metacritic', 'total_wins',\n",
    "       'total_noms', 'byline_num']]\n",
    "X_test = test[['Rating_num', 'Released_week', 'Runtime_mins', 'imdbRating',\n",
    "       'imdbVotes', 'Rotten Tomatoes', 'Metacritic', 'total_wins',\n",
    "       'total_noms', 'byline_num']]\n",
    "y_test = test['critics_pick']\n",
    "rfc = RandomForestClassifier(n_estimators = 100, random_state = 42, max_features = 1)\n",
    "rfc.fit(X_train, y_train)\n",
    "y_pred = rfc.predict(X_test)\n",
    "report = classification_report(y_test, y_pred)\n",
    "print('report:', report, sep='\\n')"
   ]
  },
  {
   "cell_type": "code",
   "execution_count": 47,
   "metadata": {},
   "outputs": [
    {
     "data": {
      "image/png": "[encoded data removed]",
      "text/plain": [
       "<Figure size 432x288 with 1 Axes>"
      ]
     },
     "metadata": {
      "needs_background": "light"
     },
     "output_type": "display_data"
    }
   ],
   "source": [
    "rfc_disp = RocCurveDisplay.from_estimator(rfc, X_test, y_test)\n",
    "plt.show()"
   ]
  },
  {
   "cell_type": "markdown",
   "metadata": {},
   "source": [
    "Experiment with variables we think are a good fit: LogisticRegression"
   ]
  },
  {
   "cell_type": "code",
   "execution_count": 48,
   "metadata": {},
   "outputs": [],
   "source": [
    "X_train = train[['Rating_num', 'Action','Drama','Horror','Family','Short','Sport','Sci-Fi','Documentary',\n",
    " 'Thriller','Adventure','Released_week', 'Runtime_mins','BoxOffice', 'Rotten Tomatoes', \n",
    " 'oscar_wins', 'oscar_noms','total_wins', 'total_noms','byline_num']]\n",
    "y_train = train['critics_pick']\n",
    "X_test = test[['Rating_num', 'Action','Drama','Horror','Family','Short','Sport','Sci-Fi','Documentary',\n",
    " 'Thriller','Adventure','Released_week', 'Runtime_mins','BoxOffice', 'Rotten Tomatoes', \n",
    " 'oscar_wins', 'oscar_noms','total_wins', 'total_noms','byline_num']]\n",
    "y_test = test['critics_pick']"
   ]
  },
  {
   "cell_type": "code",
   "execution_count": 49,
   "metadata": {},
   "outputs": [
    {
     "name": "stdout",
     "output_type": "stream",
     "text": [
      "report:\n",
      "              precision    recall  f1-score   support\n",
      "\n",
      "           0       0.82      0.97      0.89       355\n",
      "           1       0.41      0.09      0.14        81\n",
      "\n",
      "    accuracy                           0.81       436\n",
      "   macro avg       0.62      0.53      0.52       436\n",
      "weighted avg       0.75      0.81      0.75       436\n",
      "\n"
     ]
    }
   ],
   "source": [
    "lr = LogisticRegression(random_state = 42)\n",
    "lr.fit(X_train, y_train)\n",
    "y_pred = lr.predict(X_test)\n",
    "report = classification_report(y_test, y_pred)\n",
    "print('report:', report, sep='\\n')"
   ]
  },
  {
   "cell_type": "code",
   "execution_count": 50,
   "metadata": {},
   "outputs": [
    {
     "data": {
      "image/png": "[encoded data removed]",
      "text/plain": [
       "<Figure size 432x288 with 1 Axes>"
      ]
     },
     "metadata": {
      "needs_background": "light"
     },
     "output_type": "display_data"
    }
   ],
   "source": [
    "lr_disp = RocCurveDisplay.from_estimator(lr, X_test, y_test)\n",
    "plt.show()"
   ]
  },
  {
   "cell_type": "markdown",
   "metadata": {},
   "source": [
    "Next let's do it with feature selection: Logistic Regression"
   ]
  },
  {
   "cell_type": "code",
   "execution_count": 51,
   "metadata": {},
   "outputs": [],
   "source": [
    "X_train = train[['Rating_num', 'Action','Mystery','Fantasy','Animation','Romance','Drama','History','Western',\n",
    " 'Crime','Comedy','Horror','Family','Short','Sport','Sci-Fi','Documentary','Music','Biography','Talk-Show',\n",
    " 'Thriller','War','Adventure','Musical', 'Released_week', 'Runtime_mins','imdbRating', 'imdbVotes','BoxOffice', \n",
    " 'Rotten Tomatoes', 'Metacritic', 'oscar_wins', 'oscar_noms','emmy_wins', 'emmy_noms', 'total_wins', 'total_noms','byline_num']]\n",
    "y_train = train['critics_pick']"
   ]
  },
  {
   "cell_type": "code",
   "execution_count": 52,
   "metadata": {},
   "outputs": [
    {
     "name": "stdout",
     "output_type": "stream",
     "text": [
      "Index(['Released_week', 'Runtime_mins', 'Rotten Tomatoes', 'Metacritic',\n",
      "       'byline_num'],\n",
      "      dtype='object')\n"
     ]
    }
   ],
   "source": [
    "lr = SelectFromModel(LogisticRegression(random_state = 42))\n",
    "lr.fit(X_train, y_train)\n",
    "lr.get_support()\n",
    "selected_feat= X_train.columns[(lr.get_support())]\n",
    "len(selected_feat)\n",
    "print(selected_feat)"
   ]
  },
  {
   "cell_type": "code",
   "execution_count": 53,
   "metadata": {},
   "outputs": [
    {
     "name": "stdout",
     "output_type": "stream",
     "text": [
      "report:\n",
      "              precision    recall  f1-score   support\n",
      "\n",
      "           0       0.81      1.00      0.90       355\n",
      "           1       0.00      0.00      0.00        81\n",
      "\n",
      "    accuracy                           0.81       436\n",
      "   macro avg       0.41      0.50      0.45       436\n",
      "weighted avg       0.66      0.81      0.73       436\n",
      "\n"
     ]
    },
    {
     "name": "stderr",
     "output_type": "stream",
     "text": [
      "C:\\Users\\kenda\\AppData\\Local\\Continuum\\anaconda3\\lib\\site-packages\\sklearn\\metrics\\_classification.py:1318: UndefinedMetricWarning: Precision and F-score are ill-defined and being set to 0.0 in labels with no predicted samples. Use `zero_division` parameter to control this behavior.\n",
      "  _warn_prf(average, modifier, msg_start, len(result))\n",
      "C:\\Users\\kenda\\AppData\\Local\\Continuum\\anaconda3\\lib\\site-packages\\sklearn\\metrics\\_classification.py:1318: UndefinedMetricWarning: Precision and F-score are ill-defined and being set to 0.0 in labels with no predicted samples. Use `zero_division` parameter to control this behavior.\n",
      "  _warn_prf(average, modifier, msg_start, len(result))\n",
      "C:\\Users\\kenda\\AppData\\Local\\Continuum\\anaconda3\\lib\\site-packages\\sklearn\\metrics\\_classification.py:1318: UndefinedMetricWarning: Precision and F-score are ill-defined and being set to 0.0 in labels with no predicted samples. Use `zero_division` parameter to control this behavior.\n",
      "  _warn_prf(average, modifier, msg_start, len(result))\n"
     ]
    }
   ],
   "source": [
    "X_train = train[['Released_week', 'Runtime_mins', 'Rotten Tomatoes', 'Metacritic',\n",
    "       'byline_num']]\n",
    "X_test = test[['Released_week', 'Runtime_mins', 'Rotten Tomatoes', 'Metacritic',\n",
    "       'byline_num']]\n",
    "y_test = test['critics_pick']\n",
    "lr = LogisticRegression(random_state = 42)\n",
    "lr.fit(X_train, y_train)\n",
    "y_pred = lr.predict(X_test)\n",
    "report = classification_report(y_test, y_pred)\n",
    "print('report:', report, sep='\\n')"
   ]
  },
  {
   "cell_type": "code",
   "execution_count": 54,
   "metadata": {},
   "outputs": [
    {
     "data": {
      "image/png": "[encoded data removed]",
      "text/plain": [
       "<Figure size 432x288 with 1 Axes>"
      ]
     },
     "metadata": {
      "needs_background": "light"
     },
     "output_type": "display_data"
    }
   ],
   "source": [
    "lr_disp = RocCurveDisplay.from_estimator(lr, X_test, y_test)\n",
    "plt.show()"
   ]
  },
  {
   "cell_type": "markdown",
   "metadata": {},
   "source": [
    "-----"
   ]
  },
  {
   "cell_type": "markdown",
   "metadata": {},
   "source": [
    "# Modeling with text features - LDA"
   ]
  },
  {
   "cell_type": "markdown",
   "metadata": {},
   "source": [
    "Merge text data"
   ]
  },
  {
   "cell_type": "code",
   "execution_count": 55,
   "metadata": {},
   "outputs": [],
   "source": [
    "# text_related_df = pd.read_csv('NYT_Reviews_w_TopicRelatedness_02.csv')\n",
    "text_related_df = pd.read_csv('lda_model_outputs/NYT_Reviews_w_TopicRelatedness_02.csv')\n",
    "text_related_df = text_related_df[['display_title', 'Topic   #1', 'Topic   #2',\n",
    "       'Topic   #3', 'Topic   #4', 'Topic   #5', 'Topic   #6', 'Topic   #7',\n",
    "       'Topic   #8', 'Topic   #9', 'Topic   #10' ]]\n",
    "data_with_relatedness = all_data.merge(text_related_df, on = 'display_title', how = 'inner')\n",
    "# filling in null values to get model to work\n",
    "data_with_relatedness = pd.DataFrame(data_with_relatedness).fillna(-9)"
   ]
  },
  {
   "cell_type": "code",
   "execution_count": 56,
   "metadata": {},
   "outputs": [],
   "source": [
    "# split into train and test (train on 2020, test on 2021)\n",
    "train = data_with_relatedness[data_with_relatedness['Year'] == '2020']\n",
    "test = data_with_relatedness[data_with_relatedness['Year'] == '2021']"
   ]
  },
  {
   "cell_type": "markdown",
   "metadata": {},
   "source": [
    "Model Random Forest with Feature Selection including topic relatedness"
   ]
  },
  {
   "cell_type": "code",
   "execution_count": 57,
   "metadata": {},
   "outputs": [],
   "source": [
    "X_train = train[['Rating_num', 'Action','Mystery','Fantasy','Animation','Romance','Drama','History','Western',\n",
    " 'Crime','Comedy','Horror','Family','Short','Sport','Sci-Fi','Documentary','Music','Biography','Talk-Show',\n",
    " 'Thriller','War','Adventure','Musical', 'Released_week', 'Runtime_mins','imdbRating', 'imdbVotes','BoxOffice', \n",
    " 'Rotten Tomatoes', 'Metacritic', 'oscar_wins', 'oscar_noms','emmy_wins', 'emmy_noms', 'total_wins', 'total_noms','byline_num',\n",
    "                'Topic   #1', 'Topic   #2',\n",
    "       'Topic   #3', 'Topic   #4', 'Topic   #5', 'Topic   #6', 'Topic   #7',\n",
    "       'Topic   #8', 'Topic   #9', 'Topic   #10']]\n",
    "y_train = train['critics_pick']"
   ]
  },
  {
   "cell_type": "code",
   "execution_count": 58,
   "metadata": {},
   "outputs": [
    {
     "name": "stdout",
     "output_type": "stream",
     "text": [
      "Index(['Released_week', 'Runtime_mins', 'imdbRating', 'imdbVotes',\n",
      "       'Rotten Tomatoes', 'Metacritic', 'total_wins', 'total_noms',\n",
      "       'byline_num', 'Topic   #1', 'Topic   #2', 'Topic   #3', 'Topic   #4',\n",
      "       'Topic   #5', 'Topic   #6', 'Topic   #7', 'Topic   #8', 'Topic   #9',\n",
      "       'Topic   #10'],\n",
      "      dtype='object')\n"
     ]
    }
   ],
   "source": [
    "rfc = SelectFromModel(RandomForestClassifier(n_estimators = 100, random_state = 42, max_features = 1))\n",
    "rfc.fit(X_train, y_train)\n",
    "rfc.get_support()\n",
    "selected_feat= X_train.columns[(rfc.get_support())]\n",
    "len(selected_feat)\n",
    "print(selected_feat)\n",
    "# look like all topics are important features!"
   ]
  },
  {
   "cell_type": "code",
   "execution_count": 59,
   "metadata": {},
   "outputs": [
    {
     "name": "stdout",
     "output_type": "stream",
     "text": [
      "report:\n",
      "              precision    recall  f1-score   support\n",
      "\n",
      "           0       0.83      0.98      0.90       355\n",
      "           1       0.53      0.10      0.17        81\n",
      "\n",
      "    accuracy                           0.82       436\n",
      "   macro avg       0.68      0.54      0.53       436\n",
      "weighted avg       0.77      0.82      0.76       436\n",
      "\n"
     ]
    }
   ],
   "source": [
    "X_train = train[['Rating_num', 'Released_week', 'Runtime_mins', 'imdbRating',\n",
    "       'imdbVotes', 'Rotten Tomatoes', 'Metacritic', 'total_wins',\n",
    "       'total_noms', 'byline_num', 'Topic   #1', 'Topic   #2', 'Topic   #3',\n",
    "       'Topic   #4', 'Topic   #5', 'Topic   #6', 'Topic   #7', 'Topic   #8',\n",
    "       'Topic   #9', 'Topic   #10']]\n",
    "X_test = test[['Rating_num', 'Released_week', 'Runtime_mins', 'imdbRating',\n",
    "       'imdbVotes', 'Rotten Tomatoes', 'Metacritic', 'total_wins',\n",
    "       'total_noms', 'byline_num', 'Topic   #1', 'Topic   #2', 'Topic   #3',\n",
    "       'Topic   #4', 'Topic   #5', 'Topic   #6', 'Topic   #7', 'Topic   #8',\n",
    "       'Topic   #9', 'Topic   #10']]\n",
    "y_test = test['critics_pick']\n",
    "rfc = RandomForestClassifier(n_estimators = 100, random_state = 42, max_features = 1)\n",
    "rfc.fit(X_train, y_train)\n",
    "y_pred = rfc.predict(X_test)\n",
    "report = classification_report(y_test, y_pred)\n",
    "print('report:', report, sep='\\n')"
   ]
  },
  {
   "cell_type": "code",
   "execution_count": 60,
   "metadata": {},
   "outputs": [
    {
     "data": {
      "image/png": "[encoded data removed]",
      "text/plain": [
       "<Figure size 432x288 with 1 Axes>"
      ]
     },
     "metadata": {
      "needs_background": "light"
     },
     "output_type": "display_data"
    }
   ],
   "source": [
    "rfc_disp = RocCurveDisplay.from_estimator(rfc, X_test, y_test)\n",
    "plt.show()"
   ]
  },
  {
   "cell_type": "markdown",
   "metadata": {},
   "source": [
    "Model Random Forest with Feature Selection including topic assignment"
   ]
  },
  {
   "cell_type": "code",
   "execution_count": 61,
   "metadata": {},
   "outputs": [],
   "source": [
    "# text_assign_df = pd.read_csv('NYT_Reviews_w_TopicAssignment_02.csv')\n",
    "text_assign_df = pd.read_csv('lda_model_outputs/NYT_Reviews_w_TopicAssignment_02.csv')\n",
    "text_assign_df = text_assign_df[['display_title', 'Topic_Assignment']]\n",
    "data_with_topic_assignment = all_data.merge(text_assign_df, on = 'display_title', how = 'inner')\n",
    "# filling in null values to get model to work\n",
    "data_with_topic_assignment = pd.DataFrame(data_with_topic_assignment).fillna(-9)\n",
    "# change to numeric\n",
    "topic_dict = {}\n",
    "for i, name in zip(range(len(list(set(data_with_topic_assignment['Topic_Assignment'])))), \n",
    "                   list(set(data_with_topic_assignment['Topic_Assignment']))):\n",
    "    topic_dict[name] = i\n",
    "data_with_topic_assignment['Topic_Assignment_num'] = data_with_topic_assignment['Topic_Assignment']\n",
    "data_with_topic_assignment = data_with_topic_assignment.replace({\"Topic_Assignment_num\": topic_dict})"
   ]
  },
  {
   "cell_type": "code",
   "execution_count": 62,
   "metadata": {},
   "outputs": [],
   "source": [
    "# split into train and test (train on 2020, test on 2021)\n",
    "train = data_with_topic_assignment[data_with_topic_assignment['Year'] == '2020']\n",
    "test = data_with_topic_assignment[data_with_topic_assignment['Year'] == '2021']"
   ]
  },
  {
   "cell_type": "code",
   "execution_count": 63,
   "metadata": {},
   "outputs": [],
   "source": [
    "X_train = train[['Rating_num', 'Action','Mystery','Fantasy','Animation','Romance','Drama','History','Western',\n",
    " 'Crime','Comedy','Horror','Family','Short','Sport','Sci-Fi','Documentary','Music','Biography','Talk-Show',\n",
    " 'Thriller','War','Adventure','Musical', 'Released_week', 'Runtime_mins','imdbRating', 'imdbVotes','BoxOffice', \n",
    " 'Rotten Tomatoes', 'Metacritic', 'oscar_wins', 'oscar_noms','emmy_wins', 'emmy_noms', 'total_wins', 'total_noms','byline_num',\n",
    "                'Topic_Assignment_num']]\n",
    "y_train = train['critics_pick']"
   ]
  },
  {
   "cell_type": "code",
   "execution_count": 64,
   "metadata": {},
   "outputs": [
    {
     "name": "stdout",
     "output_type": "stream",
     "text": [
      "Index(['Rating_num', 'Released_week', 'Runtime_mins', 'imdbRating',\n",
      "       'imdbVotes', 'BoxOffice', 'Rotten Tomatoes', 'Metacritic', 'total_wins',\n",
      "       'total_noms', 'byline_num', 'Topic_Assignment_num'],\n",
      "      dtype='object')\n"
     ]
    }
   ],
   "source": [
    "rfc = SelectFromModel(RandomForestClassifier(n_estimators = 100, random_state = 42, max_features = 1))\n",
    "rfc.fit(X_train, y_train)\n",
    "rfc.get_support()\n",
    "selected_feat= X_train.columns[(rfc.get_support())]\n",
    "len(selected_feat)\n",
    "print(selected_feat)\n",
    "# look like the topic is an important feature!"
   ]
  },
  {
   "cell_type": "code",
   "execution_count": 65,
   "metadata": {},
   "outputs": [
    {
     "name": "stdout",
     "output_type": "stream",
     "text": [
      "report:\n",
      "              precision    recall  f1-score   support\n",
      "\n",
      "           0       0.84      0.99      0.91       355\n",
      "           1       0.72      0.16      0.26        81\n",
      "\n",
      "    accuracy                           0.83       436\n",
      "   macro avg       0.78      0.57      0.58       436\n",
      "weighted avg       0.82      0.83      0.79       436\n",
      "\n"
     ]
    }
   ],
   "source": [
    "X_train = train[['Rating_num', 'Released_week', 'Runtime_mins', 'imdbRating',\n",
    "       'imdbVotes', 'BoxOffice', 'Rotten Tomatoes', 'Metacritic', 'total_wins',\n",
    "       'total_noms', 'byline_num', 'Topic_Assignment_num']]\n",
    "X_test = test[['Rating_num', 'Released_week', 'Runtime_mins', 'imdbRating',\n",
    "       'imdbVotes', 'BoxOffice', 'Rotten Tomatoes', 'Metacritic', 'total_wins',\n",
    "       'total_noms', 'byline_num', 'Topic_Assignment_num']]\n",
    "y_test = test['critics_pick']\n",
    "rfc = RandomForestClassifier(n_estimators = 100, random_state = 42, max_features = 1)\n",
    "rfc.fit(X_train, y_train)\n",
    "y_pred = rfc.predict(X_test)\n",
    "report = classification_report(y_test, y_pred)\n",
    "print('report:', report, sep='\\n')"
   ]
  },
  {
   "cell_type": "code",
   "execution_count": 66,
   "metadata": {},
   "outputs": [
    {
     "data": {
      "image/png": "[encoded data removed]",
      "text/plain": [
       "<Figure size 432x288 with 1 Axes>"
      ]
     },
     "metadata": {
      "needs_background": "light"
     },
     "output_type": "display_data"
    }
   ],
   "source": [
    "rfc_disp = RocCurveDisplay.from_estimator(rfc, X_test, y_test)\n",
    "plt.show()"
   ]
  },
  {
   "cell_type": "markdown",
   "metadata": {},
   "source": [
    "-----"
   ]
  },
  {
   "cell_type": "markdown",
   "metadata": {},
   "source": [
    "# Modeling with text features - NMF"
   ]
  },
  {
   "cell_type": "markdown",
   "metadata": {},
   "source": [
    "Merge text data"
   ]
  },
  {
   "cell_type": "code",
   "execution_count": 67,
   "metadata": {},
   "outputs": [
    {
     "data": {
      "text/plain": [
       "Index(['Unnamed: 0', 'Unnamed: 0.1', 'Title', 'Year', 'Rated', 'Released',\n",
       "       'Runtime_mins', 'Genre', 'Director', 'Writer', 'Actors', 'Plot',\n",
       "       'Language', 'Country', 'Awards', 'Poster', 'Ratings', 'Metascore',\n",
       "       'imdbRating', 'imdbVotes', 'imdbID', 'Type', 'DVD', 'BoxOffice',\n",
       "       'Production', 'Website', 'Response', 'totalSeasons',\n",
       "       'Internet Movie Database', 'Rotten Tomatoes', 'Metacritic',\n",
       "       'oscar_wins', 'oscar_noms', 'emmy_wins', 'emmy_noms', 'total_wins',\n",
       "       'total_noms', 'display_title', 'mpaa_rating', 'critics_pick', 'byline',\n",
       "       'headline', 'summary_short', 'publication_date', 'opening_date',\n",
       "       'date_updated', 'link', 'multimedia', 'review_text', 'reviewTopic0',\n",
       "       'reviewTopic1', 'reviewTopic2', 'reviewTopic3', 'reviewTopic4',\n",
       "       'plotTopic0', 'plotTopic1', 'plotTopic2', 'plotTopic3', 'plotTopic4'],\n",
       "      dtype='object')"
      ]
     },
     "execution_count": 67,
     "metadata": {},
     "output_type": "execute_result"
    }
   ],
   "source": [
    "text_related_df = pd.read_csv('data/movie_data_withTopicRelatedness.csv')\n",
    "text_related_df.columns"
   ]
  },
  {
   "cell_type": "code",
   "execution_count": 68,
   "metadata": {},
   "outputs": [],
   "source": [
    "text_related_df = pd.read_csv('data/movie_data_withTopicRelatedness.csv')\n",
    "text_related_df = text_related_df[['display_title', 'reviewTopic0', 'reviewTopic1',\n",
    "       'reviewTopic2', 'reviewTopic3', 'reviewTopic4']]\n",
    "data_with_relatedness = all_data.merge(text_related_df, on = 'display_title', how = 'inner')\n",
    "# filling in null values to get model to work\n",
    "data_with_relatedness = pd.DataFrame(data_with_relatedness).fillna(-9)"
   ]
  },
  {
   "cell_type": "code",
   "execution_count": 69,
   "metadata": {},
   "outputs": [],
   "source": [
    "# split into train and test (train on 2020, test on 2021)\n",
    "train = data_with_relatedness[data_with_relatedness['Year'] == '2020']\n",
    "test = data_with_relatedness[data_with_relatedness['Year'] == '2021']"
   ]
  },
  {
   "cell_type": "code",
   "execution_count": 70,
   "metadata": {},
   "outputs": [
    {
     "data": {
      "text/plain": [
       "0    0.81422\n",
       "1    0.18578\n",
       "Name: critics_pick, dtype: float64"
      ]
     },
     "execution_count": 70,
     "metadata": {},
     "output_type": "execute_result"
    }
   ],
   "source": [
    "test[\"critics_pick\"].value_counts()/test.shape[0]\n",
    "# chance is 81.4%"
   ]
  },
  {
   "cell_type": "markdown",
   "metadata": {},
   "source": [
    "Model Random Forest with Feature Selection including topic relatedness"
   ]
  },
  {
   "cell_type": "code",
   "execution_count": 71,
   "metadata": {},
   "outputs": [],
   "source": [
    "X_train = train[['Rating_num', 'Action','Mystery','Fantasy','Animation','Romance','Drama','History','Western',\n",
    " 'Crime','Comedy','Horror','Family','Short','Sport','Sci-Fi','Documentary','Music','Biography','Talk-Show',\n",
    " 'Thriller','War','Adventure','Musical', 'Released_week', 'Runtime_mins','imdbRating', 'imdbVotes','BoxOffice', \n",
    " 'Rotten Tomatoes', 'Metacritic', 'oscar_wins', 'oscar_noms','emmy_wins', 'emmy_noms', 'total_wins', 'total_noms','byline_num',\n",
    "                'reviewTopic0', 'reviewTopic1',\n",
    "       'reviewTopic2', 'reviewTopic3', 'reviewTopic4']]\n",
    "y_train = train['critics_pick']"
   ]
  },
  {
   "cell_type": "code",
   "execution_count": 72,
   "metadata": {},
   "outputs": [
    {
     "name": "stdout",
     "output_type": "stream",
     "text": [
      "Index(['Rating_num', 'Released_week', 'Runtime_mins', 'imdbRating',\n",
      "       'imdbVotes', 'BoxOffice', 'Rotten Tomatoes', 'Metacritic', 'total_wins',\n",
      "       'total_noms', 'byline_num', 'reviewTopic0', 'reviewTopic1',\n",
      "       'reviewTopic2', 'reviewTopic3', 'reviewTopic4'],\n",
      "      dtype='object')\n"
     ]
    }
   ],
   "source": [
    "rfc = SelectFromModel(RandomForestClassifier(n_estimators = 100, random_state = 42, max_features = 1))\n",
    "rfc.fit(X_train, y_train)\n",
    "rfc.get_support()\n",
    "selected_feat= X_train.columns[(rfc.get_support())]\n",
    "len(selected_feat)\n",
    "print(selected_feat)\n",
    "# look like all topics are important features!"
   ]
  },
  {
   "cell_type": "code",
   "execution_count": 73,
   "metadata": {},
   "outputs": [
    {
     "name": "stdout",
     "output_type": "stream",
     "text": [
      "report:\n",
      "              precision    recall  f1-score   support\n",
      "\n",
      "           0       0.83      0.99      0.90       355\n",
      "           1       0.67      0.12      0.21        81\n",
      "\n",
      "    accuracy                           0.83       436\n",
      "   macro avg       0.75      0.55      0.56       436\n",
      "weighted avg       0.80      0.83      0.77       436\n",
      "\n"
     ]
    }
   ],
   "source": [
    "X_train = train[['Rating_num', 'Released_week', 'Runtime_mins', 'imdbRating',\n",
    "       'imdbVotes', 'Rotten Tomatoes', 'Metacritic', 'total_wins',\n",
    "       'total_noms', 'byline_num', 'reviewTopic0', 'reviewTopic1',\n",
    "       'reviewTopic2', 'reviewTopic3', 'reviewTopic4']]\n",
    "X_test = test[['Rating_num', 'Released_week', 'Runtime_mins', 'imdbRating',\n",
    "       'imdbVotes', 'Rotten Tomatoes', 'Metacritic', 'total_wins',\n",
    "       'total_noms', 'byline_num', 'reviewTopic0', 'reviewTopic1',\n",
    "       'reviewTopic2', 'reviewTopic3', 'reviewTopic4']]\n",
    "y_test = test['critics_pick']\n",
    "rfc = RandomForestClassifier(n_estimators = 100, random_state = 42, max_features = 1)\n",
    "rfc.fit(X_train, y_train)\n",
    "y_pred = rfc.predict(X_test)\n",
    "report = classification_report(y_test, y_pred)\n",
    "print('report:', report, sep='\\n')"
   ]
  },
  {
   "cell_type": "code",
   "execution_count": 74,
   "metadata": {},
   "outputs": [
    {
     "data": {
      "image/png": "[encoded data removed]",
      "text/plain": [
       "<Figure size 432x288 with 1 Axes>"
      ]
     },
     "metadata": {
      "needs_background": "light"
     },
     "output_type": "display_data"
    }
   ],
   "source": [
    "rfc_disp = RocCurveDisplay.from_estimator(rfc, X_test, y_test)\n",
    "plt.show()\n",
    "\n",
    "# AUC for NMF topic relatedness is slightly higher than without topics and with topic assignment"
   ]
  },
  {
   "cell_type": "markdown",
   "metadata": {},
   "source": [
    "Model Random Forest with Feature Selection including topic assignment"
   ]
  },
  {
   "cell_type": "code",
   "execution_count": 75,
   "metadata": {},
   "outputs": [],
   "source": [
    "text_assign_df = pd.read_csv('data/movie_data_withTopicAssignment.csv')\n",
    "text_assign_df = text_assign_df[['display_title', 'review_topic']]\n",
    "data_with_topic_assignment = all_data.merge(text_assign_df, on = 'display_title', how = 'inner')\n",
    "# filling in null values to get model to work\n",
    "data_with_topic_assignment = pd.DataFrame(data_with_topic_assignment).fillna(-9)\n",
    "data_with_topic_assignment['Topic_Assignment_num'] = data_with_topic_assignment['review_topic']\n",
    "data_with_topic_assignment = data_with_topic_assignment.replace({\"Topic_Assignment_num\": topic_dict})"
   ]
  },
  {
   "cell_type": "code",
   "execution_count": 76,
   "metadata": {},
   "outputs": [],
   "source": [
    "# split into train and test (train on 2020, test on 2021)\n",
    "train = data_with_topic_assignment[data_with_topic_assignment['Year'] == '2020']\n",
    "test = data_with_topic_assignment[data_with_topic_assignment['Year'] == '2021']"
   ]
  },
  {
   "cell_type": "code",
   "execution_count": 77,
   "metadata": {},
   "outputs": [],
   "source": [
    "X_train = train[['Rating_num', 'Action','Mystery','Fantasy','Animation','Romance','Drama','History','Western',\n",
    " 'Crime','Comedy','Horror','Family','Short','Sport','Sci-Fi','Documentary','Music','Biography','Talk-Show',\n",
    " 'Thriller','War','Adventure','Musical', 'Released_week', 'Runtime_mins','imdbRating', 'imdbVotes','BoxOffice', \n",
    " 'Rotten Tomatoes', 'Metacritic', 'oscar_wins', 'oscar_noms','emmy_wins', 'emmy_noms', 'total_wins', 'total_noms','byline_num',\n",
    "                'Topic_Assignment_num']]\n",
    "y_train = train['critics_pick']"
   ]
  },
  {
   "cell_type": "code",
   "execution_count": 78,
   "metadata": {},
   "outputs": [
    {
     "name": "stdout",
     "output_type": "stream",
     "text": [
      "Index(['Rating_num', 'Released_week', 'Runtime_mins', 'imdbRating',\n",
      "       'imdbVotes', 'BoxOffice', 'Rotten Tomatoes', 'Metacritic', 'total_wins',\n",
      "       'total_noms', 'byline_num', 'Topic_Assignment_num'],\n",
      "      dtype='object')\n"
     ]
    }
   ],
   "source": [
    "rfc = SelectFromModel(RandomForestClassifier(n_estimators = 100, random_state = 42, max_features = 1))\n",
    "rfc.fit(X_train, y_train)\n",
    "rfc.get_support()\n",
    "selected_feat= X_train.columns[(rfc.get_support())]\n",
    "len(selected_feat)\n",
    "print(selected_feat)\n",
    "# look like the topic is an important feature!"
   ]
  },
  {
   "cell_type": "code",
   "execution_count": 79,
   "metadata": {},
   "outputs": [
    {
     "name": "stdout",
     "output_type": "stream",
     "text": [
      "report:\n",
      "              precision    recall  f1-score   support\n",
      "\n",
      "           0       0.84      0.99      0.91       355\n",
      "           1       0.75      0.15      0.25        81\n",
      "\n",
      "    accuracy                           0.83       436\n",
      "   macro avg       0.79      0.57      0.58       436\n",
      "weighted avg       0.82      0.83      0.78       436\n",
      "\n"
     ]
    }
   ],
   "source": [
    "X_train = train[['Rating_num', 'Released_week', 'Runtime_mins', 'imdbRating',\n",
    "       'imdbVotes', 'BoxOffice', 'Rotten Tomatoes', 'Metacritic', 'total_wins',\n",
    "       'total_noms', 'byline_num', 'Topic_Assignment_num']]\n",
    "X_test = test[['Rating_num', 'Released_week', 'Runtime_mins', 'imdbRating',\n",
    "       'imdbVotes', 'BoxOffice', 'Rotten Tomatoes', 'Metacritic', 'total_wins',\n",
    "       'total_noms', 'byline_num', 'Topic_Assignment_num']]\n",
    "y_test = test['critics_pick']\n",
    "rfc = RandomForestClassifier(n_estimators = 100, random_state = 42, max_features = 1)\n",
    "rfc.fit(X_train, y_train)\n",
    "y_pred = rfc.predict(X_test)\n",
    "report = classification_report(y_test, y_pred)\n",
    "print('report:', report, sep='\\n')"
   ]
  },
  {
   "cell_type": "code",
   "execution_count": 80,
   "metadata": {},
   "outputs": [
    {
     "data": {
      "image/png": "[encoded data removed]",
      "text/plain": [
       "<Figure size 432x288 with 1 Axes>"
      ]
     },
     "metadata": {
      "needs_background": "light"
     },
     "output_type": "display_data"
    }
   ],
   "source": [
    "rfc_disp = RocCurveDisplay.from_estimator(rfc, X_test, y_test)\n",
    "plt.show()\n",
    "\n",
    "# AUC for NMF topic assignment is slightly lower than without topics and with topic relatedness"
   ]
  },
  {
   "cell_type": "code",
   "execution_count": null,
   "metadata": {},
   "outputs": [],
   "source": []
  }
 ],
 "metadata": {
  "kernelspec": {
   "display_name": "Python 3",
   "language": "python",
   "name": "python3"
  },
  "language_info": {
   "codemirror_mode": {
    "name": "ipython",
    "version": 3
   },
   "file_extension": ".py",
   "mimetype": "text/x-python",
   "name": "python",
   "nbconvert_exporter": "python",
   "pygments_lexer": "ipython3",
   "version": "3.7.3"
  }
 },
 "nbformat": 4,
 "nbformat_minor": 5
}
