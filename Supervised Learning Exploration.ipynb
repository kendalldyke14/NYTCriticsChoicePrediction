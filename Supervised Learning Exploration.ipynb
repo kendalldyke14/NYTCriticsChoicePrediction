{
 "cells": [
  {
   "cell_type": "code",
   "execution_count": 1228,
   "id": "f5509aee",
   "metadata": {},
   "outputs": [],
   "source": [
    "import matplotlib.pyplot as plt\n",
    "import numpy as np\n",
    "import pandas as pd\n",
    "import re\n",
    "from sklearn.metrics import classification_report, confusion_matrix\n",
    "from sklearn.metrics import f1_score\n",
    "from sklearn.ensemble import RandomForestClassifier\n",
    "from sklearn.linear_model import LogisticRegression\n",
    "from sklearn.feature_selection import SelectFromModel\n",
    "import datetime\n",
    "from sklearn.metrics import RocCurveDisplay\n",
    "from sklearn import svm\n",
    "import random"
   ]
  },
  {
   "cell_type": "code",
   "execution_count": 1229,
   "id": "16aadc53",
   "metadata": {},
   "outputs": [],
   "source": [
    "# read in all data (downloaded and renamed from joined_df in Github)\n",
    "all_data = pd.read_csv('data_movie_reviews.csv')"
   ]
  },
  {
   "cell_type": "markdown",
   "id": "d50c30e5",
   "metadata": {},
   "source": [
    "# Data Exploration and Cleaning"
   ]
  },
  {
   "cell_type": "code",
   "execution_count": 1230,
   "id": "f544c4c1",
   "metadata": {},
   "outputs": [
    {
     "data": {
      "text/plain": [
       "array(['2020', '2021', '2019', '2001', '2020–', '1930', '2013', '2018',\n",
       "       '2016', '2005', '1945', '2017', '1980', '1981', '1979', '2004',\n",
       "       '2014', '2007', '2010', '1976', '2012', '2000', '1992', '2008',\n",
       "       '1982', '1978', '2015', '2011', '2021–', '1974'], dtype=object)"
      ]
     },
     "execution_count": 1230,
     "metadata": {},
     "output_type": "execute_result"
    }
   ],
   "source": [
    "# found a problem with filtering by year so checking those values\n",
    "all_data['Year'].unique()"
   ]
  },
  {
   "cell_type": "code",
   "execution_count": 1231,
   "id": "e714bfb8",
   "metadata": {},
   "outputs": [],
   "source": [
    "# remove dashes\n",
    "all_data['Year'] = all_data['Year'].apply(lambda x: re.sub(r'[\\W_]+', '', x))"
   ]
  },
  {
   "cell_type": "code",
   "execution_count": 1232,
   "id": "828375cc",
   "metadata": {},
   "outputs": [
    {
     "data": {
      "text/plain": [
       "Index(['Unnamed: 0', 'Title', 'Year', 'Rated', 'Released', 'Runtime_mins',\n",
       "       'Genre', 'Director', 'Writer', 'Actors', 'Plot', 'Language', 'Country',\n",
       "       'Awards', 'Poster', 'Ratings', 'Metascore', 'imdbRating', 'imdbVotes',\n",
       "       'imdbID', 'Type', 'DVD', 'BoxOffice', 'Production', 'Website',\n",
       "       'Response', 'totalSeasons', 'Internet Movie Database',\n",
       "       'Rotten Tomatoes', 'Metacritic', 'oscar_wins', 'oscar_noms',\n",
       "       'emmy_wins', 'emmy_noms', 'total_wins', 'total_noms', 'display_title',\n",
       "       'mpaa_rating', 'critics_pick', 'byline', 'headline', 'summary_short',\n",
       "       'publication_date', 'opening_date', 'date_updated', 'link',\n",
       "       'multimedia', 'review_text'],\n",
       "      dtype='object')"
      ]
     },
     "execution_count": 1232,
     "metadata": {},
     "output_type": "execute_result"
    }
   ],
   "source": [
    "# now let's explore some of the distributions of some of the variables\n",
    "all_data.columns"
   ]
  },
  {
   "cell_type": "code",
   "execution_count": 1233,
   "id": "d1159793",
   "metadata": {},
   "outputs": [
    {
     "data": {
      "text/plain": [
       "<AxesSubplot:>"
      ]
     },
     "execution_count": 1233,
     "metadata": {},
     "output_type": "execute_result"
    },
    {
     "data": {
      "image/png": "[encoded data removed]",
      "text/plain": [
       "<Figure size 432x288 with 1 Axes>"
      ]
     },
     "metadata": {
      "needs_background": "light"
     },
     "output_type": "display_data"
    }
   ],
   "source": [
    "# critics pick (what we are predicting)\n",
    "all_data['critics_pick'].value_counts().plot(kind = 'bar')\n",
    "# looks like most are not critics pick"
   ]
  },
  {
   "cell_type": "code",
   "execution_count": 1234,
   "id": "68e727c9",
   "metadata": {},
   "outputs": [
    {
     "data": {
      "text/plain": [
       "{'G',\n",
       " 'MA-17',\n",
       " 'Not Rated',\n",
       " 'PG',\n",
       " 'PG-13',\n",
       " 'R',\n",
       " 'TV-14',\n",
       " 'TV-G',\n",
       " 'TV-MA',\n",
       " 'TV-PG',\n",
       " 'TV-Y7',\n",
       " 'Unrated',\n",
       " nan}"
      ]
     },
     "execution_count": 1234,
     "metadata": {},
     "output_type": "execute_result"
    }
   ],
   "source": [
    "set(all_data['Rated'])"
   ]
  },
  {
   "cell_type": "code",
   "execution_count": 1235,
   "id": "f20d7456",
   "metadata": {},
   "outputs": [
    {
     "data": {
      "text/plain": [
       "<AxesSubplot:>"
      ]
     },
     "execution_count": 1235,
     "metadata": {},
     "output_type": "execute_result"
    },
    {
     "data": {
      "image/png": "[encoded data removed]",
      "text/plain": [
       "<Figure size 432x288 with 1 Axes>"
      ]
     },
     "metadata": {
      "needs_background": "light"
     },
     "output_type": "display_data"
    }
   ],
   "source": [
    "# rating\n",
    "all_data['Rated'].value_counts().plot(kind = 'bar')"
   ]
  },
  {
   "cell_type": "code",
   "execution_count": 1236,
   "id": "45888b46",
   "metadata": {},
   "outputs": [
    {
     "data": {
      "image/png": "[encoded data removed]",
      "text/plain": [
       "<Figure size 720x432 with 1 Axes>"
      ]
     },
     "metadata": {
      "needs_background": "light"
     },
     "output_type": "display_data"
    }
   ],
   "source": [
    "# now we can look at each by critics choice -- doesn't look like huge chunk of any one genre has critics choice\n",
    "cross_tab_prop = pd.crosstab(index=all_data['Rated'],\n",
    "                             columns=all_data['critics_pick'])\n",
    "cross_tab_prop.plot(kind='bar', \n",
    "                    stacked=True, \n",
    "                    colormap='tab10', \n",
    "                    figsize=(10, 6))\n",
    "\n",
    "plt.legend(loc=\"upper left\", ncol=2)\n",
    "plt.xlabel(\"Rated\")\n",
    "plt.ylabel(\"Count\")\n",
    "plt.show()"
   ]
  },
  {
   "cell_type": "code",
   "execution_count": 1237,
   "id": "57f6f347",
   "metadata": {},
   "outputs": [
    {
     "data": {
      "text/plain": [
       "[nan,\n",
       " 'Unrated',\n",
       " 'TV-PG',\n",
       " 'MA-17',\n",
       " 'TV-Y7',\n",
       " 'PG-13',\n",
       " 'TV-MA',\n",
       " 'PG',\n",
       " 'TV-G',\n",
       " 'Not Rated',\n",
       " 'TV-14',\n",
       " 'G',\n",
       " 'R']"
      ]
     },
     "execution_count": 1237,
     "metadata": {},
     "output_type": "execute_result"
    }
   ],
   "source": [
    "list(set(all_data['Rated']))"
   ]
  },
  {
   "cell_type": "code",
   "execution_count": 1238,
   "id": "48f9462c",
   "metadata": {},
   "outputs": [],
   "source": [
    "# now just turn into numerical values\n",
    "ratings_dict = {}\n",
    "for i, name in zip(range(len(list(set(all_data['Rated'])))), list(set(all_data['Rated']))):\n",
    "    ratings_dict[name] = i\n",
    "all_data['Rating_num'] = all_data['Rated']\n",
    "all_data = all_data.replace({\"Rating_num\": ratings_dict})"
   ]
  },
  {
   "cell_type": "code",
   "execution_count": 1239,
   "id": "bea6ea2d",
   "metadata": {},
   "outputs": [
    {
     "data": {
      "text/plain": [
       "Documentary                  233\n",
       "Drama                        144\n",
       "Comedy, Drama                 46\n",
       "Comedy                        28\n",
       "Drama, Horror, Mystery        27\n",
       "                            ... \n",
       "Action, Comedy, Horror         1\n",
       "Drama, Family, Fantasy         1\n",
       "Documentary, Crime, Sport      1\n",
       "Comedy, Family, Romance        1\n",
       "Short, Comedy                  1\n",
       "Name: Genre, Length: 235, dtype: int64"
      ]
     },
     "execution_count": 1239,
     "metadata": {},
     "output_type": "execute_result"
    }
   ],
   "source": [
    "# Genre\n",
    "all_data['Genre'].value_counts()"
   ]
  },
  {
   "cell_type": "code",
   "execution_count": 1240,
   "id": "2a6d771b",
   "metadata": {},
   "outputs": [
    {
     "data": {
      "text/plain": [
       "['Sport',\n",
       " 'Western',\n",
       " 'Horror',\n",
       " 'Comedy',\n",
       " 'War',\n",
       " 'Drama',\n",
       " 'Crime',\n",
       " 'Thriller',\n",
       " 'Fantasy',\n",
       " 'Documentary',\n",
       " 'Music',\n",
       " 'Short',\n",
       " 'Family',\n",
       " 'History',\n",
       " 'Musical',\n",
       " 'Sci-Fi',\n",
       " 'Animation',\n",
       " 'Adventure',\n",
       " 'Biography',\n",
       " 'Action',\n",
       " 'nan',\n",
       " 'Mystery',\n",
       " 'Talk-Show',\n",
       " 'Romance']"
      ]
     },
     "execution_count": 1240,
     "metadata": {},
     "output_type": "execute_result"
    }
   ],
   "source": [
    "# let's clean that up a bit\n",
    "# find the unique genres\n",
    "all_genres = []\n",
    "all_data['Genre'] = all_data['Genre'].astype(str)\n",
    "for genres_string in list(all_data['Genre']):\n",
    "    genre_list = genres_string.split(',')\n",
    "    for genre in genre_list:\n",
    "        all_genres.append(genre.strip())\n",
    "unique_genres = list(set(all_genres))\n",
    "unique_genres"
   ]
  },
  {
   "cell_type": "code",
   "execution_count": 1241,
   "id": "500f8dbd",
   "metadata": {},
   "outputs": [],
   "source": [
    "# now create a variable for each genre and assign 1 if listed for genre description\n",
    "for genre in unique_genres:\n",
    "    values = []\n",
    "    for genre_description in all_data['Genre']:\n",
    "        if genre in genre_description:\n",
    "            values.append(1)\n",
    "        else:\n",
    "            values.append(0)\n",
    "    all_data[genre] = values"
   ]
  },
  {
   "cell_type": "code",
   "execution_count": 1242,
   "id": "80c88ccf",
   "metadata": {},
   "outputs": [],
   "source": [
    "# moving genre to end of dataframe with assignments\n",
    "genre = all_data.pop('Genre')\n",
    "all_data['genre'] = genre"
   ]
  },
  {
   "cell_type": "code",
   "execution_count": 1243,
   "id": "2ce8da58",
   "metadata": {},
   "outputs": [
    {
     "data": {
      "text/html": [
       "<div>\n",
       "<style scoped>\n",
       "    .dataframe tbody tr th:only-of-type {\n",
       "        vertical-align: middle;\n",
       "    }\n",
       "\n",
       "    .dataframe tbody tr th {\n",
       "        vertical-align: top;\n",
       "    }\n",
       "\n",
       "    .dataframe thead th {\n",
       "        text-align: right;\n",
       "    }\n",
       "</style>\n",
       "<table border=\"1\" class=\"dataframe\">\n",
       "  <thead>\n",
       "    <tr style=\"text-align: right;\">\n",
       "      <th></th>\n",
       "      <th>Sport</th>\n",
       "      <th>Western</th>\n",
       "      <th>Horror</th>\n",
       "      <th>Comedy</th>\n",
       "      <th>War</th>\n",
       "      <th>Drama</th>\n",
       "      <th>Crime</th>\n",
       "      <th>Thriller</th>\n",
       "      <th>Fantasy</th>\n",
       "      <th>Documentary</th>\n",
       "      <th>...</th>\n",
       "      <th>Sci-Fi</th>\n",
       "      <th>Animation</th>\n",
       "      <th>Adventure</th>\n",
       "      <th>Biography</th>\n",
       "      <th>Action</th>\n",
       "      <th>nan</th>\n",
       "      <th>Mystery</th>\n",
       "      <th>Talk-Show</th>\n",
       "      <th>Romance</th>\n",
       "      <th>genre</th>\n",
       "    </tr>\n",
       "  </thead>\n",
       "  <tbody>\n",
       "    <tr>\n",
       "      <th>0</th>\n",
       "      <td>0</td>\n",
       "      <td>0</td>\n",
       "      <td>0</td>\n",
       "      <td>0</td>\n",
       "      <td>0</td>\n",
       "      <td>0</td>\n",
       "      <td>0</td>\n",
       "      <td>1</td>\n",
       "      <td>0</td>\n",
       "      <td>0</td>\n",
       "      <td>...</td>\n",
       "      <td>1</td>\n",
       "      <td>0</td>\n",
       "      <td>0</td>\n",
       "      <td>0</td>\n",
       "      <td>1</td>\n",
       "      <td>0</td>\n",
       "      <td>0</td>\n",
       "      <td>0</td>\n",
       "      <td>0</td>\n",
       "      <td>Action, Sci-Fi, Thriller</td>\n",
       "    </tr>\n",
       "    <tr>\n",
       "      <th>1</th>\n",
       "      <td>0</td>\n",
       "      <td>0</td>\n",
       "      <td>0</td>\n",
       "      <td>0</td>\n",
       "      <td>0</td>\n",
       "      <td>1</td>\n",
       "      <td>0</td>\n",
       "      <td>0</td>\n",
       "      <td>0</td>\n",
       "      <td>0</td>\n",
       "      <td>...</td>\n",
       "      <td>0</td>\n",
       "      <td>0</td>\n",
       "      <td>1</td>\n",
       "      <td>0</td>\n",
       "      <td>1</td>\n",
       "      <td>0</td>\n",
       "      <td>0</td>\n",
       "      <td>0</td>\n",
       "      <td>0</td>\n",
       "      <td>Action, Adventure, Drama</td>\n",
       "    </tr>\n",
       "    <tr>\n",
       "      <th>2</th>\n",
       "      <td>0</td>\n",
       "      <td>0</td>\n",
       "      <td>0</td>\n",
       "      <td>0</td>\n",
       "      <td>0</td>\n",
       "      <td>0</td>\n",
       "      <td>0</td>\n",
       "      <td>0</td>\n",
       "      <td>1</td>\n",
       "      <td>0</td>\n",
       "      <td>...</td>\n",
       "      <td>0</td>\n",
       "      <td>0</td>\n",
       "      <td>1</td>\n",
       "      <td>0</td>\n",
       "      <td>1</td>\n",
       "      <td>0</td>\n",
       "      <td>0</td>\n",
       "      <td>0</td>\n",
       "      <td>0</td>\n",
       "      <td>Action, Adventure, Fantasy</td>\n",
       "    </tr>\n",
       "    <tr>\n",
       "      <th>3</th>\n",
       "      <td>0</td>\n",
       "      <td>0</td>\n",
       "      <td>0</td>\n",
       "      <td>1</td>\n",
       "      <td>0</td>\n",
       "      <td>0</td>\n",
       "      <td>0</td>\n",
       "      <td>0</td>\n",
       "      <td>0</td>\n",
       "      <td>0</td>\n",
       "      <td>...</td>\n",
       "      <td>0</td>\n",
       "      <td>1</td>\n",
       "      <td>1</td>\n",
       "      <td>0</td>\n",
       "      <td>0</td>\n",
       "      <td>0</td>\n",
       "      <td>0</td>\n",
       "      <td>0</td>\n",
       "      <td>0</td>\n",
       "      <td>Animation, Adventure, Comedy</td>\n",
       "    </tr>\n",
       "    <tr>\n",
       "      <th>4</th>\n",
       "      <td>0</td>\n",
       "      <td>0</td>\n",
       "      <td>0</td>\n",
       "      <td>1</td>\n",
       "      <td>0</td>\n",
       "      <td>0</td>\n",
       "      <td>0</td>\n",
       "      <td>0</td>\n",
       "      <td>0</td>\n",
       "      <td>0</td>\n",
       "      <td>...</td>\n",
       "      <td>0</td>\n",
       "      <td>1</td>\n",
       "      <td>1</td>\n",
       "      <td>0</td>\n",
       "      <td>0</td>\n",
       "      <td>0</td>\n",
       "      <td>0</td>\n",
       "      <td>0</td>\n",
       "      <td>0</td>\n",
       "      <td>Animation, Adventure, Comedy</td>\n",
       "    </tr>\n",
       "    <tr>\n",
       "      <th>...</th>\n",
       "      <td>...</td>\n",
       "      <td>...</td>\n",
       "      <td>...</td>\n",
       "      <td>...</td>\n",
       "      <td>...</td>\n",
       "      <td>...</td>\n",
       "      <td>...</td>\n",
       "      <td>...</td>\n",
       "      <td>...</td>\n",
       "      <td>...</td>\n",
       "      <td>...</td>\n",
       "      <td>...</td>\n",
       "      <td>...</td>\n",
       "      <td>...</td>\n",
       "      <td>...</td>\n",
       "      <td>...</td>\n",
       "      <td>...</td>\n",
       "      <td>...</td>\n",
       "      <td>...</td>\n",
       "      <td>...</td>\n",
       "      <td>...</td>\n",
       "    </tr>\n",
       "    <tr>\n",
       "      <th>1222</th>\n",
       "      <td>0</td>\n",
       "      <td>0</td>\n",
       "      <td>0</td>\n",
       "      <td>0</td>\n",
       "      <td>0</td>\n",
       "      <td>0</td>\n",
       "      <td>0</td>\n",
       "      <td>0</td>\n",
       "      <td>0</td>\n",
       "      <td>0</td>\n",
       "      <td>...</td>\n",
       "      <td>0</td>\n",
       "      <td>0</td>\n",
       "      <td>0</td>\n",
       "      <td>0</td>\n",
       "      <td>1</td>\n",
       "      <td>0</td>\n",
       "      <td>0</td>\n",
       "      <td>0</td>\n",
       "      <td>0</td>\n",
       "      <td>Short, Action</td>\n",
       "    </tr>\n",
       "    <tr>\n",
       "      <th>1223</th>\n",
       "      <td>0</td>\n",
       "      <td>0</td>\n",
       "      <td>0</td>\n",
       "      <td>0</td>\n",
       "      <td>0</td>\n",
       "      <td>1</td>\n",
       "      <td>0</td>\n",
       "      <td>0</td>\n",
       "      <td>0</td>\n",
       "      <td>0</td>\n",
       "      <td>...</td>\n",
       "      <td>0</td>\n",
       "      <td>0</td>\n",
       "      <td>0</td>\n",
       "      <td>0</td>\n",
       "      <td>0</td>\n",
       "      <td>0</td>\n",
       "      <td>0</td>\n",
       "      <td>0</td>\n",
       "      <td>0</td>\n",
       "      <td>Short, Drama</td>\n",
       "    </tr>\n",
       "    <tr>\n",
       "      <th>1224</th>\n",
       "      <td>0</td>\n",
       "      <td>0</td>\n",
       "      <td>0</td>\n",
       "      <td>0</td>\n",
       "      <td>0</td>\n",
       "      <td>1</td>\n",
       "      <td>1</td>\n",
       "      <td>0</td>\n",
       "      <td>0</td>\n",
       "      <td>0</td>\n",
       "      <td>...</td>\n",
       "      <td>0</td>\n",
       "      <td>0</td>\n",
       "      <td>0</td>\n",
       "      <td>0</td>\n",
       "      <td>0</td>\n",
       "      <td>0</td>\n",
       "      <td>0</td>\n",
       "      <td>0</td>\n",
       "      <td>0</td>\n",
       "      <td>Crime, Drama</td>\n",
       "    </tr>\n",
       "    <tr>\n",
       "      <th>1225</th>\n",
       "      <td>0</td>\n",
       "      <td>0</td>\n",
       "      <td>0</td>\n",
       "      <td>0</td>\n",
       "      <td>0</td>\n",
       "      <td>1</td>\n",
       "      <td>1</td>\n",
       "      <td>0</td>\n",
       "      <td>0</td>\n",
       "      <td>0</td>\n",
       "      <td>...</td>\n",
       "      <td>0</td>\n",
       "      <td>0</td>\n",
       "      <td>0</td>\n",
       "      <td>0</td>\n",
       "      <td>1</td>\n",
       "      <td>0</td>\n",
       "      <td>0</td>\n",
       "      <td>0</td>\n",
       "      <td>0</td>\n",
       "      <td>Action, Crime, Drama</td>\n",
       "    </tr>\n",
       "    <tr>\n",
       "      <th>1226</th>\n",
       "      <td>0</td>\n",
       "      <td>0</td>\n",
       "      <td>0</td>\n",
       "      <td>1</td>\n",
       "      <td>0</td>\n",
       "      <td>0</td>\n",
       "      <td>0</td>\n",
       "      <td>0</td>\n",
       "      <td>0</td>\n",
       "      <td>0</td>\n",
       "      <td>...</td>\n",
       "      <td>0</td>\n",
       "      <td>0</td>\n",
       "      <td>0</td>\n",
       "      <td>0</td>\n",
       "      <td>0</td>\n",
       "      <td>0</td>\n",
       "      <td>0</td>\n",
       "      <td>0</td>\n",
       "      <td>0</td>\n",
       "      <td>Short, Comedy</td>\n",
       "    </tr>\n",
       "  </tbody>\n",
       "</table>\n",
       "<p>1227 rows × 25 columns</p>\n",
       "</div>"
      ],
      "text/plain": [
       "      Sport  Western  Horror  Comedy  War  Drama  Crime  Thriller  Fantasy  \\\n",
       "0         0        0       0       0    0      0      0         1        0   \n",
       "1         0        0       0       0    0      1      0         0        0   \n",
       "2         0        0       0       0    0      0      0         0        1   \n",
       "3         0        0       0       1    0      0      0         0        0   \n",
       "4         0        0       0       1    0      0      0         0        0   \n",
       "...     ...      ...     ...     ...  ...    ...    ...       ...      ...   \n",
       "1222      0        0       0       0    0      0      0         0        0   \n",
       "1223      0        0       0       0    0      1      0         0        0   \n",
       "1224      0        0       0       0    0      1      1         0        0   \n",
       "1225      0        0       0       0    0      1      1         0        0   \n",
       "1226      0        0       0       1    0      0      0         0        0   \n",
       "\n",
       "      Documentary  ...  Sci-Fi  Animation  Adventure  Biography  Action  nan  \\\n",
       "0               0  ...       1          0          0          0       1    0   \n",
       "1               0  ...       0          0          1          0       1    0   \n",
       "2               0  ...       0          0          1          0       1    0   \n",
       "3               0  ...       0          1          1          0       0    0   \n",
       "4               0  ...       0          1          1          0       0    0   \n",
       "...           ...  ...     ...        ...        ...        ...     ...  ...   \n",
       "1222            0  ...       0          0          0          0       1    0   \n",
       "1223            0  ...       0          0          0          0       0    0   \n",
       "1224            0  ...       0          0          0          0       0    0   \n",
       "1225            0  ...       0          0          0          0       1    0   \n",
       "1226            0  ...       0          0          0          0       0    0   \n",
       "\n",
       "      Mystery  Talk-Show  Romance                         genre  \n",
       "0           0          0        0      Action, Sci-Fi, Thriller  \n",
       "1           0          0        0      Action, Adventure, Drama  \n",
       "2           0          0        0    Action, Adventure, Fantasy  \n",
       "3           0          0        0  Animation, Adventure, Comedy  \n",
       "4           0          0        0  Animation, Adventure, Comedy  \n",
       "...       ...        ...      ...                           ...  \n",
       "1222        0          0        0                 Short, Action  \n",
       "1223        0          0        0                  Short, Drama  \n",
       "1224        0          0        0                  Crime, Drama  \n",
       "1225        0          0        0          Action, Crime, Drama  \n",
       "1226        0          0        0                 Short, Comedy  \n",
       "\n",
       "[1227 rows x 25 columns]"
      ]
     },
     "execution_count": 1243,
     "metadata": {},
     "output_type": "execute_result"
    }
   ],
   "source": [
    "# now viewing changes made\n",
    "all_data.iloc[: , -25:]"
   ]
  },
  {
   "cell_type": "code",
   "execution_count": 1244,
   "id": "22c351fd",
   "metadata": {},
   "outputs": [],
   "source": [
    "# looks good! we'll remove the nan column as it is not needed\n",
    "all_data = all_data.drop(columns = ['nan'])"
   ]
  },
  {
   "cell_type": "code",
   "execution_count": 1245,
   "id": "8cbe1af8",
   "metadata": {},
   "outputs": [
    {
     "data": {
      "text/html": [
       "<div>\n",
       "<style scoped>\n",
       "    .dataframe tbody tr th:only-of-type {\n",
       "        vertical-align: middle;\n",
       "    }\n",
       "\n",
       "    .dataframe tbody tr th {\n",
       "        vertical-align: top;\n",
       "    }\n",
       "\n",
       "    .dataframe thead th {\n",
       "        text-align: right;\n",
       "    }\n",
       "</style>\n",
       "<table border=\"1\" class=\"dataframe\">\n",
       "  <thead>\n",
       "    <tr style=\"text-align: right;\">\n",
       "      <th></th>\n",
       "      <th>Sport</th>\n",
       "      <th>Western</th>\n",
       "      <th>Horror</th>\n",
       "      <th>Comedy</th>\n",
       "      <th>War</th>\n",
       "      <th>Drama</th>\n",
       "      <th>Crime</th>\n",
       "      <th>Thriller</th>\n",
       "      <th>Fantasy</th>\n",
       "      <th>Documentary</th>\n",
       "      <th>...</th>\n",
       "      <th>History</th>\n",
       "      <th>Musical</th>\n",
       "      <th>Sci-Fi</th>\n",
       "      <th>Animation</th>\n",
       "      <th>Adventure</th>\n",
       "      <th>Biography</th>\n",
       "      <th>Action</th>\n",
       "      <th>Mystery</th>\n",
       "      <th>Talk-Show</th>\n",
       "      <th>Romance</th>\n",
       "    </tr>\n",
       "  </thead>\n",
       "  <tbody>\n",
       "    <tr>\n",
       "      <th>0</th>\n",
       "      <td>0</td>\n",
       "      <td>0</td>\n",
       "      <td>0</td>\n",
       "      <td>0</td>\n",
       "      <td>0</td>\n",
       "      <td>0</td>\n",
       "      <td>0</td>\n",
       "      <td>1</td>\n",
       "      <td>0</td>\n",
       "      <td>0</td>\n",
       "      <td>...</td>\n",
       "      <td>0</td>\n",
       "      <td>0</td>\n",
       "      <td>1</td>\n",
       "      <td>0</td>\n",
       "      <td>0</td>\n",
       "      <td>0</td>\n",
       "      <td>1</td>\n",
       "      <td>0</td>\n",
       "      <td>0</td>\n",
       "      <td>0</td>\n",
       "    </tr>\n",
       "    <tr>\n",
       "      <th>1</th>\n",
       "      <td>0</td>\n",
       "      <td>0</td>\n",
       "      <td>0</td>\n",
       "      <td>0</td>\n",
       "      <td>0</td>\n",
       "      <td>1</td>\n",
       "      <td>0</td>\n",
       "      <td>0</td>\n",
       "      <td>0</td>\n",
       "      <td>0</td>\n",
       "      <td>...</td>\n",
       "      <td>0</td>\n",
       "      <td>0</td>\n",
       "      <td>0</td>\n",
       "      <td>0</td>\n",
       "      <td>1</td>\n",
       "      <td>0</td>\n",
       "      <td>1</td>\n",
       "      <td>0</td>\n",
       "      <td>0</td>\n",
       "      <td>0</td>\n",
       "    </tr>\n",
       "    <tr>\n",
       "      <th>2</th>\n",
       "      <td>0</td>\n",
       "      <td>0</td>\n",
       "      <td>0</td>\n",
       "      <td>0</td>\n",
       "      <td>0</td>\n",
       "      <td>0</td>\n",
       "      <td>0</td>\n",
       "      <td>0</td>\n",
       "      <td>1</td>\n",
       "      <td>0</td>\n",
       "      <td>...</td>\n",
       "      <td>0</td>\n",
       "      <td>0</td>\n",
       "      <td>0</td>\n",
       "      <td>0</td>\n",
       "      <td>1</td>\n",
       "      <td>0</td>\n",
       "      <td>1</td>\n",
       "      <td>0</td>\n",
       "      <td>0</td>\n",
       "      <td>0</td>\n",
       "    </tr>\n",
       "    <tr>\n",
       "      <th>3</th>\n",
       "      <td>0</td>\n",
       "      <td>0</td>\n",
       "      <td>0</td>\n",
       "      <td>1</td>\n",
       "      <td>0</td>\n",
       "      <td>0</td>\n",
       "      <td>0</td>\n",
       "      <td>0</td>\n",
       "      <td>0</td>\n",
       "      <td>0</td>\n",
       "      <td>...</td>\n",
       "      <td>0</td>\n",
       "      <td>0</td>\n",
       "      <td>0</td>\n",
       "      <td>1</td>\n",
       "      <td>1</td>\n",
       "      <td>0</td>\n",
       "      <td>0</td>\n",
       "      <td>0</td>\n",
       "      <td>0</td>\n",
       "      <td>0</td>\n",
       "    </tr>\n",
       "    <tr>\n",
       "      <th>4</th>\n",
       "      <td>0</td>\n",
       "      <td>0</td>\n",
       "      <td>0</td>\n",
       "      <td>1</td>\n",
       "      <td>0</td>\n",
       "      <td>0</td>\n",
       "      <td>0</td>\n",
       "      <td>0</td>\n",
       "      <td>0</td>\n",
       "      <td>0</td>\n",
       "      <td>...</td>\n",
       "      <td>0</td>\n",
       "      <td>0</td>\n",
       "      <td>0</td>\n",
       "      <td>1</td>\n",
       "      <td>1</td>\n",
       "      <td>0</td>\n",
       "      <td>0</td>\n",
       "      <td>0</td>\n",
       "      <td>0</td>\n",
       "      <td>0</td>\n",
       "    </tr>\n",
       "    <tr>\n",
       "      <th>...</th>\n",
       "      <td>...</td>\n",
       "      <td>...</td>\n",
       "      <td>...</td>\n",
       "      <td>...</td>\n",
       "      <td>...</td>\n",
       "      <td>...</td>\n",
       "      <td>...</td>\n",
       "      <td>...</td>\n",
       "      <td>...</td>\n",
       "      <td>...</td>\n",
       "      <td>...</td>\n",
       "      <td>...</td>\n",
       "      <td>...</td>\n",
       "      <td>...</td>\n",
       "      <td>...</td>\n",
       "      <td>...</td>\n",
       "      <td>...</td>\n",
       "      <td>...</td>\n",
       "      <td>...</td>\n",
       "      <td>...</td>\n",
       "      <td>...</td>\n",
       "    </tr>\n",
       "    <tr>\n",
       "      <th>1222</th>\n",
       "      <td>0</td>\n",
       "      <td>0</td>\n",
       "      <td>0</td>\n",
       "      <td>0</td>\n",
       "      <td>0</td>\n",
       "      <td>0</td>\n",
       "      <td>0</td>\n",
       "      <td>0</td>\n",
       "      <td>0</td>\n",
       "      <td>0</td>\n",
       "      <td>...</td>\n",
       "      <td>0</td>\n",
       "      <td>0</td>\n",
       "      <td>0</td>\n",
       "      <td>0</td>\n",
       "      <td>0</td>\n",
       "      <td>0</td>\n",
       "      <td>1</td>\n",
       "      <td>0</td>\n",
       "      <td>0</td>\n",
       "      <td>0</td>\n",
       "    </tr>\n",
       "    <tr>\n",
       "      <th>1223</th>\n",
       "      <td>0</td>\n",
       "      <td>0</td>\n",
       "      <td>0</td>\n",
       "      <td>0</td>\n",
       "      <td>0</td>\n",
       "      <td>1</td>\n",
       "      <td>0</td>\n",
       "      <td>0</td>\n",
       "      <td>0</td>\n",
       "      <td>0</td>\n",
       "      <td>...</td>\n",
       "      <td>0</td>\n",
       "      <td>0</td>\n",
       "      <td>0</td>\n",
       "      <td>0</td>\n",
       "      <td>0</td>\n",
       "      <td>0</td>\n",
       "      <td>0</td>\n",
       "      <td>0</td>\n",
       "      <td>0</td>\n",
       "      <td>0</td>\n",
       "    </tr>\n",
       "    <tr>\n",
       "      <th>1224</th>\n",
       "      <td>0</td>\n",
       "      <td>0</td>\n",
       "      <td>0</td>\n",
       "      <td>0</td>\n",
       "      <td>0</td>\n",
       "      <td>1</td>\n",
       "      <td>1</td>\n",
       "      <td>0</td>\n",
       "      <td>0</td>\n",
       "      <td>0</td>\n",
       "      <td>...</td>\n",
       "      <td>0</td>\n",
       "      <td>0</td>\n",
       "      <td>0</td>\n",
       "      <td>0</td>\n",
       "      <td>0</td>\n",
       "      <td>0</td>\n",
       "      <td>0</td>\n",
       "      <td>0</td>\n",
       "      <td>0</td>\n",
       "      <td>0</td>\n",
       "    </tr>\n",
       "    <tr>\n",
       "      <th>1225</th>\n",
       "      <td>0</td>\n",
       "      <td>0</td>\n",
       "      <td>0</td>\n",
       "      <td>0</td>\n",
       "      <td>0</td>\n",
       "      <td>1</td>\n",
       "      <td>1</td>\n",
       "      <td>0</td>\n",
       "      <td>0</td>\n",
       "      <td>0</td>\n",
       "      <td>...</td>\n",
       "      <td>0</td>\n",
       "      <td>0</td>\n",
       "      <td>0</td>\n",
       "      <td>0</td>\n",
       "      <td>0</td>\n",
       "      <td>0</td>\n",
       "      <td>1</td>\n",
       "      <td>0</td>\n",
       "      <td>0</td>\n",
       "      <td>0</td>\n",
       "    </tr>\n",
       "    <tr>\n",
       "      <th>1226</th>\n",
       "      <td>0</td>\n",
       "      <td>0</td>\n",
       "      <td>0</td>\n",
       "      <td>1</td>\n",
       "      <td>0</td>\n",
       "      <td>0</td>\n",
       "      <td>0</td>\n",
       "      <td>0</td>\n",
       "      <td>0</td>\n",
       "      <td>0</td>\n",
       "      <td>...</td>\n",
       "      <td>0</td>\n",
       "      <td>0</td>\n",
       "      <td>0</td>\n",
       "      <td>0</td>\n",
       "      <td>0</td>\n",
       "      <td>0</td>\n",
       "      <td>0</td>\n",
       "      <td>0</td>\n",
       "      <td>0</td>\n",
       "      <td>0</td>\n",
       "    </tr>\n",
       "  </tbody>\n",
       "</table>\n",
       "<p>1227 rows × 23 columns</p>\n",
       "</div>"
      ],
      "text/plain": [
       "      Sport  Western  Horror  Comedy  War  Drama  Crime  Thriller  Fantasy  \\\n",
       "0         0        0       0       0    0      0      0         1        0   \n",
       "1         0        0       0       0    0      1      0         0        0   \n",
       "2         0        0       0       0    0      0      0         0        1   \n",
       "3         0        0       0       1    0      0      0         0        0   \n",
       "4         0        0       0       1    0      0      0         0        0   \n",
       "...     ...      ...     ...     ...  ...    ...    ...       ...      ...   \n",
       "1222      0        0       0       0    0      0      0         0        0   \n",
       "1223      0        0       0       0    0      1      0         0        0   \n",
       "1224      0        0       0       0    0      1      1         0        0   \n",
       "1225      0        0       0       0    0      1      1         0        0   \n",
       "1226      0        0       0       1    0      0      0         0        0   \n",
       "\n",
       "      Documentary  ...  History  Musical  Sci-Fi  Animation  Adventure  \\\n",
       "0               0  ...        0        0       1          0          0   \n",
       "1               0  ...        0        0       0          0          1   \n",
       "2               0  ...        0        0       0          0          1   \n",
       "3               0  ...        0        0       0          1          1   \n",
       "4               0  ...        0        0       0          1          1   \n",
       "...           ...  ...      ...      ...     ...        ...        ...   \n",
       "1222            0  ...        0        0       0          0          0   \n",
       "1223            0  ...        0        0       0          0          0   \n",
       "1224            0  ...        0        0       0          0          0   \n",
       "1225            0  ...        0        0       0          0          0   \n",
       "1226            0  ...        0        0       0          0          0   \n",
       "\n",
       "      Biography  Action  Mystery  Talk-Show  Romance  \n",
       "0             0       1        0          0        0  \n",
       "1             0       1        0          0        0  \n",
       "2             0       1        0          0        0  \n",
       "3             0       0        0          0        0  \n",
       "4             0       0        0          0        0  \n",
       "...         ...     ...      ...        ...      ...  \n",
       "1222          0       1        0          0        0  \n",
       "1223          0       0        0          0        0  \n",
       "1224          0       0        0          0        0  \n",
       "1225          0       1        0          0        0  \n",
       "1226          0       0        0          0        0  \n",
       "\n",
       "[1227 rows x 23 columns]"
      ]
     },
     "execution_count": 1245,
     "metadata": {},
     "output_type": "execute_result"
    }
   ],
   "source": [
    "# now we can look at the distribution of the genres\n",
    "genres_df = all_data.iloc[: , -24:-1]\n",
    "genres_df"
   ]
  },
  {
   "cell_type": "code",
   "execution_count": 1246,
   "id": "2232faa2",
   "metadata": {},
   "outputs": [
    {
     "data": {
      "text/plain": [
       "<AxesSubplot:>"
      ]
     },
     "execution_count": 1246,
     "metadata": {},
     "output_type": "execute_result"
    },
    {
     "data": {
      "image/png": "[encoded data removed]",
      "text/plain": [
       "<Figure size 432x288 with 1 Axes>"
      ]
     },
     "metadata": {
      "needs_background": "light"
     },
     "output_type": "display_data"
    }
   ],
   "source": [
    "genres_df.sum().plot(kind = 'bar')"
   ]
  },
  {
   "cell_type": "code",
   "execution_count": 1247,
   "id": "52794723",
   "metadata": {},
   "outputs": [
    {
     "data": {
      "image/png": "[encoded data removed]",
      "text/plain": [
       "<Figure size 720x432 with 1 Axes>"
      ]
     },
     "metadata": {
      "needs_background": "light"
     },
     "output_type": "display_data"
    }
   ],
   "source": [
    "# looking at a couple of genres where critics pick\n",
    "cross_tab_prop = pd.crosstab(index=all_data['Drama'],\n",
    "                             columns=all_data['critics_pick'],\n",
    "                            normalize = 'index')\n",
    "cross_tab_prop.plot(kind='bar', \n",
    "                    stacked=True, \n",
    "                    colormap='tab10', \n",
    "                    figsize=(10, 6))\n",
    "\n",
    "plt.legend(loc=\"upper left\", ncol=2)\n",
    "plt.xlabel(\"Drama\")\n",
    "plt.ylabel(\"Proportion\")\n",
    "plt.show()"
   ]
  },
  {
   "cell_type": "code",
   "execution_count": 1248,
   "id": "a4bae4ad",
   "metadata": {},
   "outputs": [
    {
     "data": {
      "image/png": "[encoded data removed]",
      "text/plain": [
       "<Figure size 720x432 with 1 Axes>"
      ]
     },
     "metadata": {
      "needs_background": "light"
     },
     "output_type": "display_data"
    }
   ],
   "source": [
    "cross_tab_prop = pd.crosstab(index=all_data['Comedy'],\n",
    "                             columns=all_data['critics_pick'],\n",
    "                            normalize = 'index')\n",
    "cross_tab_prop.plot(kind='bar', \n",
    "                    stacked=True, \n",
    "                    colormap='tab10', \n",
    "                    figsize=(10, 6))\n",
    "\n",
    "plt.legend(loc=\"upper left\", ncol=2)\n",
    "plt.xlabel(\"Comedy\")\n",
    "plt.ylabel(\"Proportion\")\n",
    "plt.show()"
   ]
  },
  {
   "cell_type": "code",
   "execution_count": 1249,
   "id": "31709507",
   "metadata": {},
   "outputs": [
    {
     "data": {
      "image/png": "[encoded data removed]",
      "text/plain": [
       "<Figure size 720x432 with 1 Axes>"
      ]
     },
     "metadata": {
      "needs_background": "light"
     },
     "output_type": "display_data"
    }
   ],
   "source": [
    "cross_tab_prop = pd.crosstab(index=all_data['Documentary'],\n",
    "                             columns=all_data['critics_pick'],\n",
    "                            normalize = 'index')\n",
    "cross_tab_prop.plot(kind='bar', \n",
    "                    stacked=True, \n",
    "                    colormap='tab10', \n",
    "                    figsize=(10, 6))\n",
    "\n",
    "plt.legend(loc=\"upper left\", ncol=2)\n",
    "plt.xlabel(\"Documentary\")\n",
    "plt.ylabel(\"Proportion\")\n",
    "plt.show()"
   ]
  },
  {
   "cell_type": "code",
   "execution_count": 1250,
   "id": "a3a6359c",
   "metadata": {},
   "outputs": [
    {
     "data": {
      "image/png": "[encoded data removed]",
      "text/plain": [
       "<Figure size 720x432 with 1 Axes>"
      ]
     },
     "metadata": {
      "needs_background": "light"
     },
     "output_type": "display_data"
    }
   ],
   "source": [
    "# now looking at wins\n",
    "cross_tab_prop = pd.crosstab(index=all_data['critics_pick'],\n",
    "                             columns=all_data['total_wins'],\n",
    "                            normalize = 'index')\n",
    "cross_tab_prop.plot(kind='bar', \n",
    "                    stacked=True, \n",
    "                    colormap='tab10', \n",
    "                    figsize=(10, 6))\n",
    "\n",
    "plt.legend(loc=\"upper left\", ncol=2)\n",
    "plt.xlabel(\"total_wins\")\n",
    "plt.ylabel(\"Proportion\")\n",
    "plt.show()\n",
    "\n",
    "# it's a little rough looking with no filtering but we can see that movies not critics pick have less wins than critics picks"
   ]
  },
  {
   "cell_type": "code",
   "execution_count": 1251,
   "id": "aae98280",
   "metadata": {},
   "outputs": [
    {
     "data": {
      "image/png": "[encoded data removed]",
      "text/plain": [
       "<Figure size 720x432 with 1 Axes>"
      ]
     },
     "metadata": {
      "needs_background": "light"
     },
     "output_type": "display_data"
    }
   ],
   "source": [
    "# let's create a new category for \"won_something\"\n",
    "all_data['won_something'] = all_data['total_wins'].apply(lambda x: True if int(x) > 0 else False)\n",
    "\n",
    "# now plot as above\n",
    "cross_tab_prop = pd.crosstab(index=all_data['critics_pick'],\n",
    "                             columns=all_data['won_something'],\n",
    "                            normalize = 'index')\n",
    "cross_tab_prop.plot(kind='bar', \n",
    "                    stacked=True, \n",
    "                    colormap='tab10', \n",
    "                    figsize=(10, 6))\n",
    "\n",
    "plt.legend(loc=\"upper left\", ncol=2)\n",
    "plt.xlabel(\"total_wins\")\n",
    "plt.ylabel(\"Proportion\")\n",
    "plt.show()"
   ]
  },
  {
   "cell_type": "code",
   "execution_count": 1252,
   "id": "afe4a82f",
   "metadata": {},
   "outputs": [
    {
     "data": {
      "text/plain": [
       "<AxesSubplot:ylabel='Frequency'>"
      ]
     },
     "execution_count": 1252,
     "metadata": {},
     "output_type": "execute_result"
    },
    {
     "data": {
      "image/png": "[encoded data removed]",
      "text/plain": [
       "<Figure size 432x288 with 1 Axes>"
      ]
     },
     "metadata": {
      "needs_background": "light"
     },
     "output_type": "display_data"
    }
   ],
   "source": [
    "# distribution of rotten tomatoes by critics choice (the picks)\n",
    "all_data[all_data['critics_pick'] == 1]['Rotten Tomatoes'].plot(kind = 'hist')"
   ]
  },
  {
   "cell_type": "code",
   "execution_count": 1253,
   "id": "9048ffac",
   "metadata": {},
   "outputs": [
    {
     "data": {
      "text/plain": [
       "<AxesSubplot:ylabel='Frequency'>"
      ]
     },
     "execution_count": 1253,
     "metadata": {},
     "output_type": "execute_result"
    },
    {
     "data": {
      "image/png": "[encoded data removed]",
      "text/plain": [
       "<Figure size 432x288 with 1 Axes>"
      ]
     },
     "metadata": {
      "needs_background": "light"
     },
     "output_type": "display_data"
    }
   ],
   "source": [
    "# distribution of rotten tomatoes by critics choice (not picked)\n",
    "all_data[all_data['critics_pick'] == 0]['Rotten Tomatoes'].plot(kind = 'hist')"
   ]
  },
  {
   "cell_type": "code",
   "execution_count": 1254,
   "id": "01e2573e",
   "metadata": {},
   "outputs": [
    {
     "data": {
      "text/plain": [
       "<AxesSubplot:ylabel='Frequency'>"
      ]
     },
     "execution_count": 1254,
     "metadata": {},
     "output_type": "execute_result"
    },
    {
     "data": {
      "image/png": "[encoded data removed]",
      "text/plain": [
       "<Figure size 432x288 with 1 Axes>"
      ]
     },
     "metadata": {
      "needs_background": "light"
     },
     "output_type": "display_data"
    }
   ],
   "source": [
    "# now runtime minutes (picked)\n",
    "all_data[all_data['critics_pick'] == 1]['Runtime_mins'].plot(kind = 'hist')"
   ]
  },
  {
   "cell_type": "code",
   "execution_count": 1255,
   "id": "473456ea",
   "metadata": {},
   "outputs": [
    {
     "data": {
      "text/plain": [
       "<AxesSubplot:ylabel='Frequency'>"
      ]
     },
     "execution_count": 1255,
     "metadata": {},
     "output_type": "execute_result"
    },
    {
     "data": {
      "image/png": "[encoded data removed]",
      "text/plain": [
       "<Figure size 432x288 with 1 Axes>"
      ]
     },
     "metadata": {
      "needs_background": "light"
     },
     "output_type": "display_data"
    }
   ],
   "source": [
    "# now runtime minutes (not picked)\n",
    "all_data[all_data['critics_pick'] == 0]['Runtime_mins'].plot(kind = 'hist')\n",
    "# some obvious skew issues here, but not exploring just yet"
   ]
  },
  {
   "cell_type": "code",
   "execution_count": 1256,
   "id": "a0fd7caf",
   "metadata": {},
   "outputs": [
    {
     "data": {
      "image/png": "[encoded data removed]",
      "text/plain": [
       "<Figure size 720x432 with 1 Axes>"
      ]
     },
     "metadata": {
      "needs_background": "light"
     },
     "output_type": "display_data"
    },
    {
     "data": {
      "image/png": "[encoded data removed]",
      "text/plain": [
       "<Figure size 720x432 with 1 Axes>"
      ]
     },
     "metadata": {
      "needs_background": "light"
     },
     "output_type": "display_data"
    }
   ],
   "source": [
    "# now let's check the bylines\n",
    "cross_tab_prop = pd.crosstab(index=all_data['byline'],\n",
    "                             columns=all_data['critics_pick'])\n",
    "cross_tab_prop.plot(kind='bar', \n",
    "                    stacked=True, \n",
    "                    colormap='tab10', \n",
    "                    figsize=(10, 6))\n",
    "\n",
    "plt.legend(loc=\"upper left\", ncol=2)\n",
    "plt.xlabel(\"byline\")\n",
    "plt.ylabel(\"Count\")\n",
    "plt.show()\n",
    "\n",
    "cross_tab_prop = pd.crosstab(index=all_data['byline'],\n",
    "                             columns=all_data['critics_pick'],\n",
    "                            normalize = 'index')\n",
    "cross_tab_prop.plot(kind='bar', \n",
    "                    stacked=True, \n",
    "                    colormap='tab10', \n",
    "                    figsize=(10, 6))\n",
    "\n",
    "plt.legend(loc=\"upper left\", ncol=2)\n",
    "plt.xlabel(\"byline\")\n",
    "plt.ylabel(\"Count\")\n",
    "plt.show()\n",
    "# looks like there are a few common reviewers and some that have only given critics picks while other never, or rarely, do"
   ]
  },
  {
   "cell_type": "code",
   "execution_count": 1257,
   "id": "e4060d40",
   "metadata": {},
   "outputs": [],
   "source": [
    "# now we need to convert the reviewers to integers for the model (like we did with rating)\n",
    "ratings_dict = {}\n",
    "for i, name in zip(range(len(list(set(all_data['byline'])))), list(set(all_data['byline']))):\n",
    "    ratings_dict[name] = i\n",
    "all_data['byline_num'] = all_data['byline']\n",
    "all_data = all_data.replace({\"byline_num\": ratings_dict})"
   ]
  },
  {
   "cell_type": "code",
   "execution_count": 1258,
   "id": "7688eb03",
   "metadata": {},
   "outputs": [
    {
     "data": {
      "image/png": "[encoded data removed]",
      "text/plain": [
       "<Figure size 720x432 with 1 Axes>"
      ]
     },
     "metadata": {
      "needs_background": "light"
     },
     "output_type": "display_data"
    }
   ],
   "source": [
    "# we're also going to consider release date\n",
    "# we'll do it by week of the year\n",
    "all_data['Released'] = pd.to_datetime(all_data['Released'])\n",
    "weeks = []\n",
    "for x in all_data['Released']:\n",
    "    if str(x) != 'NaT':\n",
    "        week = x.isocalendar()[1]\n",
    "    else:\n",
    "        week = x\n",
    "    weeks.append(week)\n",
    "all_data['Released_week'] = weeks\n",
    "\n",
    "# now let's look at the proportions\n",
    "cross_tab_prop = pd.crosstab(index=all_data['Released_week'],\n",
    "                             columns=all_data['critics_pick'],\n",
    "                            normalize = 'index')\n",
    "cross_tab_prop.plot(kind='bar', \n",
    "                    stacked=True, \n",
    "                    colormap='tab10', \n",
    "                    figsize=(10, 6))\n",
    "\n",
    "plt.legend(loc=\"upper left\", ncol=2)\n",
    "plt.xlabel(\"released week\")\n",
    "plt.ylabel(\"Count\")\n",
    "plt.show()\n",
    "\n",
    "# kind of looks like summer weeks have more picks proportionally"
   ]
  },
  {
   "cell_type": "code",
   "execution_count": 1259,
   "id": "d0ed92d8",
   "metadata": {},
   "outputs": [
    {
     "data": {
      "text/plain": [
       "<AxesSubplot:ylabel='Frequency'>"
      ]
     },
     "execution_count": 1259,
     "metadata": {},
     "output_type": "execute_result"
    },
    {
     "data": {
      "image/png": "[encoded data removed]",
      "text/plain": [
       "<Figure size 432x288 with 1 Axes>"
      ]
     },
     "metadata": {
      "needs_background": "light"
     },
     "output_type": "display_data"
    }
   ],
   "source": [
    "# let's look at box office now\n",
    "all_data[all_data['critics_pick'] == 1]['BoxOffice'].plot(kind = 'hist', bins = 50)"
   ]
  },
  {
   "cell_type": "code",
   "execution_count": 1260,
   "id": "974438f5",
   "metadata": {},
   "outputs": [
    {
     "data": {
      "text/plain": [
       "<AxesSubplot:ylabel='Frequency'>"
      ]
     },
     "execution_count": 1260,
     "metadata": {},
     "output_type": "execute_result"
    },
    {
     "data": {
      "image/png": "[encoded data removed]",
      "text/plain": [
       "<Figure size 432x288 with 1 Axes>"
      ]
     },
     "metadata": {
      "needs_background": "light"
     },
     "output_type": "display_data"
    }
   ],
   "source": [
    "# let's look at box office now\n",
    "all_data[all_data['critics_pick'] == 0]['BoxOffice'].plot(kind = 'hist', bins = 50)\n",
    "# just looks like slightly more spread in non picks"
   ]
  },
  {
   "cell_type": "code",
   "execution_count": 1261,
   "id": "c61d6eb4",
   "metadata": {},
   "outputs": [],
   "source": [
    "# despite just looking at some of the variables, we will include most in the modeling section and use feature selection"
   ]
  },
  {
   "cell_type": "code",
   "execution_count": 1262,
   "id": "d1b3e0b1",
   "metadata": {},
   "outputs": [],
   "source": [
    "# need to fix where NaT type -- should be NoneType\n",
    "all_data = all_data.astype(object).where(all_data.notnull(), None)\n",
    "# filling in null values to get model to work\n",
    "all_data = pd.DataFrame(all_data).fillna(-9)"
   ]
  },
  {
   "cell_type": "markdown",
   "id": "172b92e7",
   "metadata": {},
   "source": [
    "# Modeling: without text features"
   ]
  },
  {
   "cell_type": "code",
   "execution_count": 1263,
   "id": "ff97fdda",
   "metadata": {},
   "outputs": [],
   "source": [
    "random.seed(2)"
   ]
  },
  {
   "cell_type": "code",
   "execution_count": 1264,
   "id": "e9da87c2",
   "metadata": {},
   "outputs": [
    {
     "name": "stdout",
     "output_type": "stream",
     "text": [
      "train count:  484\n",
      "test count:  436\n"
     ]
    }
   ],
   "source": [
    "# split into train and test (train on 2020, test on 2021)\n",
    "train = all_data[all_data['Year'] == '2020']\n",
    "test = all_data[all_data['Year'] == '2021']\n",
    "\n",
    "# view counts for each\n",
    "print('train count: ', len(train))\n",
    "print('test count: ', len(test))"
   ]
  },
  {
   "cell_type": "markdown",
   "id": "dad2cd71",
   "metadata": {},
   "source": [
    "Experiment with variables we think are a good fit: RandomForestClassifier"
   ]
  },
  {
   "cell_type": "code",
   "execution_count": 1265,
   "id": "b55613c3",
   "metadata": {},
   "outputs": [],
   "source": [
    "X_train = train[['Rating_num', 'Action','Drama','Horror','Family','Short','Sport','Sci-Fi','Documentary',\n",
    " 'Thriller','Adventure','Released_week', 'Runtime_mins','BoxOffice', 'Rotten Tomatoes', \n",
    " 'oscar_wins', 'oscar_noms','total_wins', 'total_noms','byline_num']]\n",
    "y_train = train['critics_pick']\n",
    "X_test = test[['Rating_num', 'Action','Drama','Horror','Family','Short','Sport','Sci-Fi','Documentary',\n",
    " 'Thriller','Adventure','Released_week', 'Runtime_mins','BoxOffice', 'Rotten Tomatoes', \n",
    " 'oscar_wins', 'oscar_noms','total_wins', 'total_noms','byline_num']]\n",
    "y_test = test['critics_pick']"
   ]
  },
  {
   "cell_type": "code",
   "execution_count": 1266,
   "id": "de1f7edd",
   "metadata": {},
   "outputs": [
    {
     "name": "stdout",
     "output_type": "stream",
     "text": [
      "report:\n",
      "              precision    recall  f1-score   support\n",
      "\n",
      "           0       0.82      0.97      0.89       355\n",
      "           1       0.35      0.07      0.12        81\n",
      "\n",
      "    accuracy                           0.80       436\n",
      "   macro avg       0.59      0.52      0.51       436\n",
      "weighted avg       0.73      0.80      0.75       436\n",
      "\n"
     ]
    }
   ],
   "source": [
    "rfc = RandomForestClassifier(n_estimators = 100, random_state = 42, max_features = 1)\n",
    "rfc.fit(X_train, y_train)\n",
    "y_pred = rfc.predict(X_test)\n",
    "report = classification_report(y_test, y_pred)\n",
    "print('report:', report, sep='\\n')"
   ]
  },
  {
   "cell_type": "code",
   "execution_count": 1267,
   "id": "3ad66e12",
   "metadata": {},
   "outputs": [
    {
     "data": {
      "image/png": "[encoded data removed]",
      "text/plain": [
       "<Figure size 432x288 with 1 Axes>"
      ]
     },
     "metadata": {
      "needs_background": "light"
     },
     "output_type": "display_data"
    }
   ],
   "source": [
    "rfc_disp = RocCurveDisplay.from_estimator(rfc, X_test, y_test)\n",
    "plt.show()"
   ]
  },
  {
   "cell_type": "markdown",
   "id": "4507c7f9",
   "metadata": {},
   "source": [
    "Next let's do it with feature selection: Random Forest Classifier"
   ]
  },
  {
   "cell_type": "code",
   "execution_count": 1268,
   "id": "75223fdd",
   "metadata": {},
   "outputs": [],
   "source": [
    "X_train = train[['Rating_num', 'Action','Mystery','Fantasy','Animation','Romance','Drama','History','Western',\n",
    " 'Crime','Comedy','Horror','Family','Short','Sport','Sci-Fi','Documentary','Music','Biography','Talk-Show',\n",
    " 'Thriller','War','Adventure','Musical', 'Released_week', 'Runtime_mins','imdbRating', 'imdbVotes','BoxOffice', \n",
    " 'Rotten Tomatoes', 'Metacritic', 'oscar_wins', 'oscar_noms','emmy_wins', 'emmy_noms', 'total_wins', 'total_noms','byline_num']]\n",
    "y_train = train['critics_pick']"
   ]
  },
  {
   "cell_type": "code",
   "execution_count": 1269,
   "id": "6b6e5b4e",
   "metadata": {},
   "outputs": [
    {
     "name": "stdout",
     "output_type": "stream",
     "text": [
      "Index(['Rating_num', 'Released_week', 'Runtime_mins', 'imdbRating',\n",
      "       'imdbVotes', 'BoxOffice', 'Rotten Tomatoes', 'Metacritic', 'total_wins',\n",
      "       'total_noms', 'byline_num'],\n",
      "      dtype='object')\n"
     ]
    }
   ],
   "source": [
    "rfc = SelectFromModel(RandomForestClassifier(n_estimators = 100, random_state = 42, max_features = 1))\n",
    "rfc.fit(X_train, y_train)\n",
    "rfc.get_support()\n",
    "selected_feat= X_train.columns[(rfc.get_support())]\n",
    "len(selected_feat)\n",
    "print(selected_feat)"
   ]
  },
  {
   "cell_type": "code",
   "execution_count": 1270,
   "id": "253aa9eb",
   "metadata": {},
   "outputs": [
    {
     "data": {
      "image/png": "[encoded data removed]",
      "text/plain": [
       "<Figure size 1080x288 with 1 Axes>"
      ]
     },
     "metadata": {
      "needs_background": "light"
     },
     "output_type": "display_data"
    }
   ],
   "source": [
    "importances = rfc.estimator_.feature_importances_\n",
    "indices = np.argsort(importances)[::-1]\n",
    "# X is the train data used to fit the model \n",
    "plt.figure(figsize=(15, 4))\n",
    "plt.title(\"Feature importances\")\n",
    "plt.bar(range(X_train.shape[1]), importances[indices],\n",
    "       color=\"b\", align=\"center\")\n",
    "plt.xticks(range(X_train.shape[1]), indices)\n",
    "plt.xlim([-1, X_train.shape[1]])\n",
    "plt.show()"
   ]
  },
  {
   "cell_type": "code",
   "execution_count": 1271,
   "id": "b0a461cb",
   "metadata": {},
   "outputs": [
    {
     "data": {
      "text/plain": [
       "'Metacritic'"
      ]
     },
     "execution_count": 1271,
     "metadata": {},
     "output_type": "execute_result"
    }
   ],
   "source": [
    "# first most important feature\n",
    "X_train.columns[30]"
   ]
  },
  {
   "cell_type": "code",
   "execution_count": 1272,
   "id": "d04e8d2c",
   "metadata": {},
   "outputs": [
    {
     "name": "stdout",
     "output_type": "stream",
     "text": [
      "total_noms\n",
      "total_wins\n",
      "Runtime_mins\n",
      "imdbVotes\n",
      "byline_num\n",
      "imdbRating\n",
      "Released_week\n",
      "Rotten Tomatoes\n"
     ]
    }
   ],
   "source": [
    "# second-ninth most important feature in order\n",
    "for i in [36, 35, 25, 27, 37, 26, 24, 29]:\n",
    "    print(X_train.columns[i])"
   ]
  },
  {
   "cell_type": "code",
   "execution_count": 1273,
   "id": "3ae33722",
   "metadata": {},
   "outputs": [
    {
     "name": "stdout",
     "output_type": "stream",
     "text": [
      "report:\n",
      "              precision    recall  f1-score   support\n",
      "\n",
      "           0       0.84      0.97      0.90       355\n",
      "           1       0.61      0.17      0.27        81\n",
      "\n",
      "    accuracy                           0.83       436\n",
      "   macro avg       0.72      0.57      0.59       436\n",
      "weighted avg       0.80      0.83      0.78       436\n",
      "\n"
     ]
    }
   ],
   "source": [
    "X_train = train[['Rating_num', 'Released_week', 'Runtime_mins', 'imdbRating',\n",
    "       'imdbVotes', 'Rotten Tomatoes', 'Metacritic', 'total_wins',\n",
    "       'total_noms', 'byline_num']]\n",
    "X_test = test[['Rating_num', 'Released_week', 'Runtime_mins', 'imdbRating',\n",
    "       'imdbVotes', 'Rotten Tomatoes', 'Metacritic', 'total_wins',\n",
    "       'total_noms', 'byline_num']]\n",
    "y_test = test['critics_pick']\n",
    "rfc = RandomForestClassifier(n_estimators = 100, random_state = 42, max_features = 1)\n",
    "rfc.fit(X_train, y_train)\n",
    "y_pred = rfc.predict(X_test)\n",
    "report = classification_report(y_test, y_pred)\n",
    "print('report:', report, sep='\\n')"
   ]
  },
  {
   "cell_type": "code",
   "execution_count": 1274,
   "id": "e9496669",
   "metadata": {},
   "outputs": [
    {
     "data": {
      "image/png": "[encoded data removed]",
      "text/plain": [
       "<Figure size 432x288 with 1 Axes>"
      ]
     },
     "metadata": {
      "needs_background": "light"
     },
     "output_type": "display_data"
    }
   ],
   "source": [
    "rfc_disp = RocCurveDisplay.from_estimator(rfc, X_test, y_test)\n",
    "plt.show()"
   ]
  },
  {
   "cell_type": "markdown",
   "id": "3d4dfda3",
   "metadata": {},
   "source": [
    "Experiment with variables we think are a good fit: LogisticRegression"
   ]
  },
  {
   "cell_type": "code",
   "execution_count": 1275,
   "id": "aac59c8b",
   "metadata": {},
   "outputs": [],
   "source": [
    "X_train = train[['Rating_num', 'Action','Drama','Horror','Family','Short','Sport','Sci-Fi','Documentary',\n",
    " 'Thriller','Adventure','Released_week', 'Runtime_mins','BoxOffice', 'Rotten Tomatoes', \n",
    " 'oscar_wins', 'oscar_noms','total_wins', 'total_noms','byline_num']]\n",
    "y_train = train['critics_pick']\n",
    "X_test = test[['Rating_num', 'Action','Drama','Horror','Family','Short','Sport','Sci-Fi','Documentary',\n",
    " 'Thriller','Adventure','Released_week', 'Runtime_mins','BoxOffice', 'Rotten Tomatoes', \n",
    " 'oscar_wins', 'oscar_noms','total_wins', 'total_noms','byline_num']]\n",
    "y_test = test['critics_pick']"
   ]
  },
  {
   "cell_type": "code",
   "execution_count": 1276,
   "id": "89dc91f6",
   "metadata": {},
   "outputs": [
    {
     "name": "stdout",
     "output_type": "stream",
     "text": [
      "report:\n",
      "              precision    recall  f1-score   support\n",
      "\n",
      "           0       0.82      0.96      0.89       355\n",
      "           1       0.35      0.10      0.15        81\n",
      "\n",
      "    accuracy                           0.80       436\n",
      "   macro avg       0.59      0.53      0.52       436\n",
      "weighted avg       0.73      0.80      0.75       436\n",
      "\n"
     ]
    }
   ],
   "source": [
    "lr = LogisticRegression(random_state = 42)\n",
    "lr.fit(X_train, y_train)\n",
    "y_pred = lr.predict(X_test)\n",
    "report = classification_report(y_test, y_pred)\n",
    "print('report:', report, sep='\\n')"
   ]
  },
  {
   "cell_type": "code",
   "execution_count": 1277,
   "id": "f9695c25",
   "metadata": {},
   "outputs": [
    {
     "data": {
      "image/png": "[encoded data removed]",
      "text/plain": [
       "<Figure size 432x288 with 1 Axes>"
      ]
     },
     "metadata": {
      "needs_background": "light"
     },
     "output_type": "display_data"
    }
   ],
   "source": [
    "lr_disp = RocCurveDisplay.from_estimator(lr, X_test, y_test)\n",
    "plt.show()"
   ]
  },
  {
   "cell_type": "markdown",
   "id": "cb4e7301",
   "metadata": {},
   "source": [
    "Next let's do it with feature selection: Logistic Regression"
   ]
  },
  {
   "cell_type": "code",
   "execution_count": 1278,
   "id": "8ae8c68b",
   "metadata": {},
   "outputs": [],
   "source": [
    "X_train = train[['Rating_num', 'Action','Mystery','Fantasy','Animation','Romance','Drama','History','Western',\n",
    " 'Crime','Comedy','Horror','Family','Short','Sport','Sci-Fi','Documentary','Music','Biography','Talk-Show',\n",
    " 'Thriller','War','Adventure','Musical', 'Released_week', 'Runtime_mins','imdbRating', 'imdbVotes','BoxOffice', \n",
    " 'Rotten Tomatoes', 'Metacritic', 'oscar_wins', 'oscar_noms','emmy_wins', 'emmy_noms', 'total_wins', 'total_noms','byline_num']]\n",
    "y_train = train['critics_pick']"
   ]
  },
  {
   "cell_type": "code",
   "execution_count": 1279,
   "id": "59c62e50",
   "metadata": {},
   "outputs": [
    {
     "name": "stdout",
     "output_type": "stream",
     "text": [
      "Index(['Released_week', 'Runtime_mins', 'Rotten Tomatoes', 'Metacritic',\n",
      "       'byline_num'],\n",
      "      dtype='object')\n"
     ]
    }
   ],
   "source": [
    "lr = SelectFromModel(LogisticRegression(random_state = 42))\n",
    "lr.fit(X_train, y_train)\n",
    "lr.get_support()\n",
    "selected_feat= X_train.columns[(lr.get_support())]\n",
    "len(selected_feat)\n",
    "print(selected_feat)"
   ]
  },
  {
   "cell_type": "code",
   "execution_count": 1280,
   "id": "62fa67d5",
   "metadata": {},
   "outputs": [
    {
     "name": "stdout",
     "output_type": "stream",
     "text": [
      "report:\n",
      "              precision    recall  f1-score   support\n",
      "\n",
      "           0       0.82      1.00      0.90       355\n",
      "           1       1.00      0.06      0.12        81\n",
      "\n",
      "    accuracy                           0.83       436\n",
      "   macro avg       0.91      0.53      0.51       436\n",
      "weighted avg       0.86      0.83      0.76       436\n",
      "\n"
     ]
    }
   ],
   "source": [
    "X_train = train[['Released_week', 'Runtime_mins', 'Rotten Tomatoes', 'Metacritic',\n",
    "       'byline_num']]\n",
    "X_test = test[['Released_week', 'Runtime_mins', 'Rotten Tomatoes', 'Metacritic',\n",
    "       'byline_num']]\n",
    "y_test = test['critics_pick']\n",
    "lr = LogisticRegression(random_state = 42)\n",
    "lr.fit(X_train, y_train)\n",
    "y_pred = lr.predict(X_test)\n",
    "report = classification_report(y_test, y_pred)\n",
    "print('report:', report, sep='\\n')"
   ]
  },
  {
   "cell_type": "code",
   "execution_count": 1281,
   "id": "6ad94d73",
   "metadata": {},
   "outputs": [
    {
     "data": {
      "image/png": "[encoded data removed]",
      "text/plain": [
       "<Figure size 432x288 with 1 Axes>"
      ]
     },
     "metadata": {
      "needs_background": "light"
     },
     "output_type": "display_data"
    }
   ],
   "source": [
    "lr_disp = RocCurveDisplay.from_estimator(lr, X_test, y_test)\n",
    "plt.show()"
   ]
  },
  {
   "cell_type": "markdown",
   "id": "0747466b",
   "metadata": {},
   "source": [
    "# Modeling with text features"
   ]
  },
  {
   "cell_type": "markdown",
   "id": "eb302d04",
   "metadata": {},
   "source": [
    "Merge text data"
   ]
  },
  {
   "cell_type": "code",
   "execution_count": 1282,
   "id": "f590e10f",
   "metadata": {},
   "outputs": [],
   "source": [
    "text_related_df = pd.read_csv('NYT_Reviews_w_TopicRelatedness_02.csv')\n",
    "text_related_df = text_related_df[['display_title', 'Topic   #1', 'Topic   #2',\n",
    "       'Topic   #3', 'Topic   #4', 'Topic   #5', 'Topic   #6', 'Topic   #7',\n",
    "       'Topic   #8', 'Topic   #9', 'Topic   #10' ]]\n",
    "data_with_relatedness = all_data.merge(text_related_df, on = 'display_title', how = 'inner')\n",
    "# filling in null values to get model to work\n",
    "data_with_relatedness = pd.DataFrame(data_with_relatedness).fillna(-9)"
   ]
  },
  {
   "cell_type": "code",
   "execution_count": 1283,
   "id": "1bc80fa6",
   "metadata": {},
   "outputs": [],
   "source": [
    "# split into train and test (train on 2020, test on 2021)\n",
    "train = data_with_relatedness[data_with_relatedness['Year'] == '2020']\n",
    "test = data_with_relatedness[data_with_relatedness['Year'] == '2021']"
   ]
  },
  {
   "cell_type": "markdown",
   "id": "dff86d08",
   "metadata": {},
   "source": [
    "Model Random Forest with Feature Selection including topic relatedness"
   ]
  },
  {
   "cell_type": "code",
   "execution_count": 1284,
   "id": "619850d2",
   "metadata": {},
   "outputs": [],
   "source": [
    "X_train = train[['Rating_num', 'Action','Mystery','Fantasy','Animation','Romance','Drama','History','Western',\n",
    " 'Crime','Comedy','Horror','Family','Short','Sport','Sci-Fi','Documentary','Music','Biography','Talk-Show',\n",
    " 'Thriller','War','Adventure','Musical', 'Released_week', 'Runtime_mins','imdbRating', 'imdbVotes','BoxOffice', \n",
    " 'Rotten Tomatoes', 'Metacritic', 'oscar_wins', 'oscar_noms','emmy_wins', 'emmy_noms', 'total_wins', 'total_noms','byline_num',\n",
    "                'Topic   #1', 'Topic   #2',\n",
    "       'Topic   #3', 'Topic   #4', 'Topic   #5', 'Topic   #6', 'Topic   #7',\n",
    "       'Topic   #8', 'Topic   #9', 'Topic   #10']]\n",
    "y_train = train['critics_pick']"
   ]
  },
  {
   "cell_type": "code",
   "execution_count": 1285,
   "id": "6a2106df",
   "metadata": {},
   "outputs": [
    {
     "name": "stdout",
     "output_type": "stream",
     "text": [
      "Index(['Rating_num', 'Released_week', 'Runtime_mins', 'imdbRating',\n",
      "       'imdbVotes', 'Rotten Tomatoes', 'Metacritic', 'total_wins',\n",
      "       'total_noms', 'byline_num', 'Topic   #1', 'Topic   #2', 'Topic   #3',\n",
      "       'Topic   #4', 'Topic   #5', 'Topic   #6', 'Topic   #7', 'Topic   #8',\n",
      "       'Topic   #9', 'Topic   #10'],\n",
      "      dtype='object')\n"
     ]
    }
   ],
   "source": [
    "rfc = SelectFromModel(RandomForestClassifier(n_estimators = 100, random_state = 42, max_features = 1))\n",
    "rfc.fit(X_train, y_train)\n",
    "rfc.get_support()\n",
    "selected_feat= X_train.columns[(rfc.get_support())]\n",
    "len(selected_feat)\n",
    "print(selected_feat)\n",
    "# look like all topics are important features!"
   ]
  },
  {
   "cell_type": "code",
   "execution_count": 1286,
   "id": "f4b8d540",
   "metadata": {},
   "outputs": [
    {
     "name": "stdout",
     "output_type": "stream",
     "text": [
      "report:\n",
      "              precision    recall  f1-score   support\n",
      "\n",
      "           0       0.85      0.95      0.90       355\n",
      "           1       0.55      0.26      0.35        81\n",
      "\n",
      "    accuracy                           0.82       436\n",
      "   macro avg       0.70      0.61      0.63       436\n",
      "weighted avg       0.79      0.82      0.80       436\n",
      "\n"
     ]
    }
   ],
   "source": [
    "X_train = train[['Rating_num', 'Released_week', 'Runtime_mins', 'imdbRating',\n",
    "       'imdbVotes', 'Rotten Tomatoes', 'Metacritic', 'total_wins',\n",
    "       'total_noms', 'byline_num', 'Topic   #1', 'Topic   #2', 'Topic   #3',\n",
    "       'Topic   #4', 'Topic   #5', 'Topic   #6', 'Topic   #7', 'Topic   #8',\n",
    "       'Topic   #9', 'Topic   #10']]\n",
    "X_test = test[['Rating_num', 'Released_week', 'Runtime_mins', 'imdbRating',\n",
    "       'imdbVotes', 'Rotten Tomatoes', 'Metacritic', 'total_wins',\n",
    "       'total_noms', 'byline_num', 'Topic   #1', 'Topic   #2', 'Topic   #3',\n",
    "       'Topic   #4', 'Topic   #5', 'Topic   #6', 'Topic   #7', 'Topic   #8',\n",
    "       'Topic   #9', 'Topic   #10']]\n",
    "y_test = test['critics_pick']\n",
    "rfc = RandomForestClassifier(n_estimators = 100, random_state = 42, max_features = 1)\n",
    "rfc.fit(X_train, y_train)\n",
    "y_pred = rfc.predict(X_test)\n",
    "report = classification_report(y_test, y_pred)\n",
    "print('report:', report, sep='\\n')"
   ]
  },
  {
   "cell_type": "code",
   "execution_count": 1287,
   "id": "8ab387ac",
   "metadata": {},
   "outputs": [
    {
     "data": {
      "image/png": "[encoded data removed]",
      "text/plain": [
       "<Figure size 432x288 with 1 Axes>"
      ]
     },
     "metadata": {
      "needs_background": "light"
     },
     "output_type": "display_data"
    }
   ],
   "source": [
    "rfc_disp = RocCurveDisplay.from_estimator(rfc, X_test, y_test)\n",
    "plt.show()"
   ]
  },
  {
   "cell_type": "markdown",
   "id": "f2558b3c",
   "metadata": {},
   "source": [
    "Model Random Forest with Feature Selection including topic assignment"
   ]
  },
  {
   "cell_type": "code",
   "execution_count": 1288,
   "id": "ee3c76f8",
   "metadata": {},
   "outputs": [],
   "source": [
    "text_assign_df = pd.read_csv('NYT_Reviews_w_TopicAssignment_02.csv')\n",
    "text_assign_df = text_assign_df[['display_title', 'Topic_Assignment']]\n",
    "data_with_topic_assignment = all_data.merge(text_assign_df, on = 'display_title', how = 'inner')\n",
    "# filling in null values to get model to work\n",
    "data_with_topic_assignment = pd.DataFrame(data_with_topic_assignment).fillna(-9)\n",
    "# change to numeric\n",
    "topic_dict = {}\n",
    "for i, name in zip(range(len(list(set(data_with_topic_assignment['Topic_Assignment'])))), \n",
    "                   list(set(data_with_topic_assignment['Topic_Assignment']))):\n",
    "    topic_dict[name] = i\n",
    "data_with_topic_assignment['Topic_Assignment_num'] = data_with_topic_assignment['Topic_Assignment']\n",
    "data_with_topic_assignment = data_with_topic_assignment.replace({\"Topic_Assignment_num\": topic_dict})"
   ]
  },
  {
   "cell_type": "code",
   "execution_count": 1289,
   "id": "0d12de07",
   "metadata": {},
   "outputs": [],
   "source": [
    "# split into train and test (train on 2020, test on 2021)\n",
    "train = data_with_topic_assignment[data_with_topic_assignment['Year'] == '2020']\n",
    "test = data_with_topic_assignment[data_with_topic_assignment['Year'] == '2021']"
   ]
  },
  {
   "cell_type": "code",
   "execution_count": 1290,
   "id": "b8a2be01",
   "metadata": {},
   "outputs": [],
   "source": [
    "X_train = train[['Rating_num', 'Action','Mystery','Fantasy','Animation','Romance','Drama','History','Western',\n",
    " 'Crime','Comedy','Horror','Family','Short','Sport','Sci-Fi','Documentary','Music','Biography','Talk-Show',\n",
    " 'Thriller','War','Adventure','Musical', 'Released_week', 'Runtime_mins','imdbRating', 'imdbVotes','BoxOffice', \n",
    " 'Rotten Tomatoes', 'Metacritic', 'oscar_wins', 'oscar_noms','emmy_wins', 'emmy_noms', 'total_wins', 'total_noms','byline_num',\n",
    "                'Topic_Assignment_num']]\n",
    "y_train = train['critics_pick']"
   ]
  },
  {
   "cell_type": "code",
   "execution_count": 1291,
   "id": "000106a5",
   "metadata": {},
   "outputs": [
    {
     "name": "stdout",
     "output_type": "stream",
     "text": [
      "Index(['Rating_num', 'Released_week', 'Runtime_mins', 'imdbRating',\n",
      "       'imdbVotes', 'BoxOffice', 'Rotten Tomatoes', 'Metacritic', 'total_wins',\n",
      "       'total_noms', 'byline_num', 'Topic_Assignment_num'],\n",
      "      dtype='object')\n"
     ]
    }
   ],
   "source": [
    "rfc = SelectFromModel(RandomForestClassifier(n_estimators = 100, random_state = 42, max_features = 1))\n",
    "rfc.fit(X_train, y_train)\n",
    "rfc.get_support()\n",
    "selected_feat= X_train.columns[(rfc.get_support())]\n",
    "len(selected_feat)\n",
    "print(selected_feat)\n",
    "# look like the topic is an important feature!"
   ]
  },
  {
   "cell_type": "code",
   "execution_count": 1292,
   "id": "412d848a",
   "metadata": {},
   "outputs": [
    {
     "name": "stdout",
     "output_type": "stream",
     "text": [
      "report:\n",
      "              precision    recall  f1-score   support\n",
      "\n",
      "           0       0.84      0.97      0.90       355\n",
      "           1       0.64      0.20      0.30        81\n",
      "\n",
      "    accuracy                           0.83       436\n",
      "   macro avg       0.74      0.59      0.60       436\n",
      "weighted avg       0.80      0.83      0.79       436\n",
      "\n"
     ]
    }
   ],
   "source": [
    "X_train = train[['Rating_num', 'Released_week', 'Runtime_mins', 'imdbRating',\n",
    "       'imdbVotes', 'BoxOffice', 'Rotten Tomatoes', 'Metacritic', 'total_wins',\n",
    "       'total_noms', 'byline_num', 'Topic_Assignment_num']]\n",
    "X_test = test[['Rating_num', 'Released_week', 'Runtime_mins', 'imdbRating',\n",
    "       'imdbVotes', 'BoxOffice', 'Rotten Tomatoes', 'Metacritic', 'total_wins',\n",
    "       'total_noms', 'byline_num', 'Topic_Assignment_num']]\n",
    "y_test = test['critics_pick']\n",
    "rfc = RandomForestClassifier(n_estimators = 100, random_state = 42, max_features = 1)\n",
    "rfc.fit(X_train, y_train)\n",
    "y_pred = rfc.predict(X_test)\n",
    "report = classification_report(y_test, y_pred)\n",
    "print('report:', report, sep='\\n')"
   ]
  },
  {
   "cell_type": "code",
   "execution_count": 1293,
   "id": "1e88058b",
   "metadata": {},
   "outputs": [
    {
     "data": {
      "image/png": "[encoded data removed]",
      "text/plain": [
       "<Figure size 432x288 with 1 Axes>"
      ]
     },
     "metadata": {
      "needs_background": "light"
     },
     "output_type": "display_data"
    }
   ],
   "source": [
    "rfc_disp = RocCurveDisplay.from_estimator(rfc, X_test, y_test)\n",
    "plt.show()"
   ]
  }
 ],
 "metadata": {
  "kernelspec": {
   "display_name": "Python 3",
   "language": "python",
   "name": "python3"
  },
  "language_info": {
   "codemirror_mode": {
    "name": "ipython",
    "version": 3
   },
   "file_extension": ".py",
   "mimetype": "text/x-python",
   "name": "python",
   "nbconvert_exporter": "python",
   "pygments_lexer": "ipython3",
   "version": "3.8.8"
  }
 },
 "nbformat": 4,
 "nbformat_minor": 5
}
